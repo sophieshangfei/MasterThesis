{
 "cells": [
  {
   "cell_type": "code",
   "execution_count": 57,
   "metadata": {
    "collapsed": true
   },
   "outputs": [],
   "source": [
    "import numpy as np\n",
    "import pandas as pd\n",
    "from statsmodels.stats.power import tt_solve_power\n",
    "import csv"
   ]
  },
  {
   "cell_type": "code",
   "execution_count": 58,
   "metadata": {
    "collapsed": true
   },
   "outputs": [],
   "source": [
    "data = pd.read_csv('tapdata.csv')"
   ]
  },
  {
   "cell_type": "code",
   "execution_count": 59,
   "metadata": {},
   "outputs": [
    {
     "data": {
      "text/plain": [
       "85.61904761904762"
      ]
     },
     "execution_count": 59,
     "metadata": {},
     "output_type": "execute_result"
    }
   ],
   "source": [
    "mean_pair_diff = np.mean(data.iloc[:,0] - data.iloc[:,1])\n",
    "mean_pair_diff"
   ]
  },
  {
   "cell_type": "markdown",
   "metadata": {},
   "source": [
    "calculate pooled standard deviation"
   ]
  },
  {
   "cell_type": "code",
   "execution_count": 60,
   "metadata": {},
   "outputs": [
    {
     "name": "stdout",
     "output_type": "stream",
     "text": [
      "170.084279496\n"
     ]
    }
   ],
   "source": [
    "std_pooled = np.sqrt(0.5*(np.var(data.iloc[:,0]) + np.var(data.iloc[:,1])))\n",
    "print (std_pooled)\n"
   ]
  },
  {
   "cell_type": "markdown",
   "metadata": {},
   "source": [
    "Define effect size\n",
    "<br>\n",
    "reduce the mean paired difference by 10, 15 and 20%."
   ]
  },
  {
   "cell_type": "code",
   "execution_count": 61,
   "metadata": {},
   "outputs": [
    {
     "data": {
      "text/plain": [
       "[77.05714285714286, 72.77619047619048, 68.4952380952381]"
      ]
     },
     "execution_count": 61,
     "metadata": {},
     "output_type": "execute_result"
    }
   ],
   "source": [
    "effect = [0.1, 0.15, 0.2]\n",
    "effect_size = [mean_pair_diff*(1-e) for e in effect]\n",
    "effect_size"
   ]
  },
  {
   "cell_type": "markdown",
   "metadata": {},
   "source": [
    "Calculate sample size for each group"
   ]
  },
  {
   "cell_type": "code",
   "execution_count": 62,
   "metadata": {},
   "outputs": [
    {
     "name": "stdout",
     "output_type": "stream",
     "text": [
      "Number in the group when paired standardised mean difference is 77.06: 40.20\n",
      "Number in the group when paired standardised mean difference is 72.78: 44.83\n",
      "Number in the group when paired standardised mean difference is 68.50: 50.35\n"
     ]
    }
   ],
   "source": [
    "sample_size = []\n",
    "for e in effect_size:\n",
    "    n = tt_solve_power(e/std_pooled, alpha=0.05, power=0.8, alternative='two-sided')\n",
    "    sample_size.append(n)\n",
    "    print('Number in the group when paired standardised mean difference is {:<4.2f}: {:.2f}'.format(e, n))"
   ]
  }
 ],
 "metadata": {
  "kernelspec": {
   "display_name": "Python 3",
   "language": "python",
   "name": "python3"
  },
  "language_info": {
   "codemirror_mode": {
    "name": "ipython",
    "version": 3
   },
   "file_extension": ".py",
   "mimetype": "text/x-python",
   "name": "python",
   "nbconvert_exporter": "python",
   "pygments_lexer": "ipython3",
   "version": "3.6.0"
  }
 },
 "nbformat": 4,
 "nbformat_minor": 2
}
