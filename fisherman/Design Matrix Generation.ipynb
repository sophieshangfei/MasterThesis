{
 "cells": [
  {
   "cell_type": "markdown",
   "metadata": {},
   "source": [
    "The price of the fish changed every 12 seconds and was drawn from a set of 6 numbers ranging from 0.1 – 2.5."
   ]
  },
  {
   "cell_type": "markdown",
   "metadata": {},
   "source": [
    "one block consists of 12 changes in prize"
   ]
  },
  {
   "cell_type": "code",
   "execution_count": 1,
   "metadata": {
    "collapsed": true
   },
   "outputs": [],
   "source": [
    "import numpy as np\n",
    "import json"
   ]
  },
  {
   "cell_type": "code",
   "execution_count": 2,
   "metadata": {},
   "outputs": [
    {
     "data": {
      "text/plain": [
       "array([ 0.1 ,  0.58,  1.06,  1.54,  2.02,  2.5 ])"
      ]
     },
     "execution_count": 2,
     "metadata": {},
     "output_type": "execute_result"
    }
   ],
   "source": [
    "# Assume the prices are evenly spaced. Create a list of 6 prices that ranges from 0.1 to 2.5.\n",
    "prange = np.linspace(0.1, 2.5, num = 6)\n",
    "prange"
   ]
  },
  {
   "cell_type": "code",
   "execution_count": 3,
   "metadata": {},
   "outputs": [
    {
     "data": {
      "text/plain": [
       "array([ 0.58,  1.54,  1.54,  1.06,  1.06,  2.02,  2.5 ,  2.5 ,  1.06,\n",
       "        2.5 ,  1.06,  0.58])"
      ]
     },
     "execution_count": 3,
     "metadata": {},
     "output_type": "execute_result"
    }
   ],
   "source": [
    "# randomly draw 12 prices from the total range\n",
    "price = np.random.choice(prange, size = 12, replace=True, p=None)\n",
    "price"
   ]
  },
  {
   "cell_type": "code",
   "execution_count": 6,
   "metadata": {},
   "outputs": [
    {
     "data": {
      "text/plain": [
       "[{'price': '0.58', 'stimulus_duration': 12000},\n",
       " {'price': '1.54', 'stimulus_duration': 12000},\n",
       " {'price': '1.54', 'stimulus_duration': 12000},\n",
       " {'price': '1.06', 'stimulus_duration': 12000},\n",
       " {'price': '1.06', 'stimulus_duration': 12000},\n",
       " {'price': '2.02', 'stimulus_duration': 12000},\n",
       " {'price': '2.50', 'stimulus_duration': 12000},\n",
       " {'price': '2.50', 'stimulus_duration': 12000},\n",
       " {'price': '1.06', 'stimulus_duration': 12000},\n",
       " {'price': '2.50', 'stimulus_duration': 12000},\n",
       " {'price': '1.06', 'stimulus_duration': 12000},\n",
       " {'price': '0.58', 'stimulus_duration': 12000}]"
      ]
     },
     "execution_count": 6,
     "metadata": {},
     "output_type": "execute_result"
    }
   ],
   "source": [
    "dic_pair = []\n",
    "for p in price:\n",
    "    d = {\"stimulus_duration\" : 12000, \"price\": \"{:.2f}\".format(p)}\n",
    "    dic_pair.append(d)\n",
    "dic_pair"
   ]
  },
  {
   "cell_type": "code",
   "execution_count": 7,
   "metadata": {
    "collapsed": true
   },
   "outputs": [],
   "source": [
    "with open('condition_stimuli.json', 'w') as fp:\n",
    "    json.dump(dic_pair, fp)"
   ]
  },
  {
   "cell_type": "code",
   "execution_count": null,
   "metadata": {
    "collapsed": true
   },
   "outputs": [],
   "source": []
  },
  {
   "cell_type": "code",
   "execution_count": null,
   "metadata": {
    "collapsed": true
   },
   "outputs": [],
   "source": []
  },
  {
   "cell_type": "code",
   "execution_count": null,
   "metadata": {
    "collapsed": true
   },
   "outputs": [],
   "source": []
  },
  {
   "cell_type": "code",
   "execution_count": null,
   "metadata": {
    "collapsed": true
   },
   "outputs": [],
   "source": []
  },
  {
   "cell_type": "code",
   "execution_count": null,
   "metadata": {
    "collapsed": true
   },
   "outputs": [],
   "source": []
  }
 ],
 "metadata": {
  "kernelspec": {
   "display_name": "Python 3",
   "language": "python",
   "name": "python3"
  },
  "language_info": {
   "codemirror_mode": {
    "name": "ipython",
    "version": 3
   },
   "file_extension": ".py",
   "mimetype": "text/x-python",
   "name": "python",
   "nbconvert_exporter": "python",
   "pygments_lexer": "ipython3",
   "version": "3.6.0"
  }
 },
 "nbformat": 4,
 "nbformat_minor": 2
}
