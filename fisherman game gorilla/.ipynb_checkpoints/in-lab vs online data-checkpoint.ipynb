{
 "cells": [
  {
   "cell_type": "markdown",
   "metadata": {},
   "source": [
    "# In-lab data vs. Online data"
   ]
  },
  {
   "cell_type": "markdown",
   "metadata": {},
   "source": [
    "### We want to understand if there is any difference in data quality between in-lab and online data. Past research has shwon in-lab data and online data are essentially the same in terms of data quality (Buhrmester et al., 2011; Gould et al., 2015; Reimers et al., 2015; Crump et al., 2013). But this is the first time, to our knowledge, that experiments framed in free-operant setting, were conducted online. Free-operant setting is special in the sense that nothing prompts the subjects to act. As such, subjects may respond at a rate of their own choosing within a given period of time, in either continuous or discrete manner. Futhermore, we require continuous engagement of subjects. "
   ]
  },
  {
   "cell_type": "markdown",
   "metadata": {},
   "source": [
    "### We use the following predictors:\n",
    "* Latency by environment\n",
    "* Environment"
   ]
  },
  {
   "cell_type": "markdown",
   "metadata": {},
   "source": [
    "### Specifically, we want to answer these two questions:\n",
    "First, is there evidence of a difference between in-lab data and online data?\n",
    "<br>\n",
    "Second, if so, which variables are responsible for these differences?"
   ]
  },
  {
   "cell_type": "code",
   "execution_count": 30,
   "metadata": {},
   "outputs": [],
   "source": [
    "import scipy.io as sio\n",
    "import pandas as pd\n",
    "import numpy as np\n",
    "import matplotlib.pyplot as plt\n",
    "import csv\n",
    "import json\n",
    "import seaborn as sns\n",
    "from sklearn import linear_model\n",
    "import sklearn\n",
    "import statsmodels.api as sm\n",
    "from statsmodels.formula.api import ols\n",
    "from statsmodels.sandbox.regression.predstd import wls_prediction_std\n",
    "import scipy.stats as ss\n",
    "%matplotlib inline"
   ]
  },
  {
   "cell_type": "code",
   "execution_count": 31,
   "metadata": {},
   "outputs": [],
   "source": [
    "pd.set_option('display.max_columns', 300)\n",
    "pd.set_option('display.max_rows', None)"
   ]
  },
  {
   "cell_type": "code",
   "execution_count": 94,
   "metadata": {},
   "outputs": [],
   "source": [
    "# import in-lab data and convert to panda dataframe\n",
    "mat = sio.loadmat('untransformeddataforRN.mat', squeeze_me=True)\n",
    "m = mat['untransformed_data']\n",
    "in_lab = pd.DataFrame(m)\n",
    "in_lab.columns = ['latency', 'price_displayed', \n",
    "             'id', 'price_bin', 'apathy', 'environment_binary']\n",
    "#in_lab = in_lab[['latency', 'price_displayed', 'id', 'environment_binary']]"
   ]
  },
  {
   "cell_type": "code",
   "execution_count": 95,
   "metadata": {},
   "outputs": [
    {
     "data": {
      "text/html": [
       "<div>\n",
       "<style scoped>\n",
       "    .dataframe tbody tr th:only-of-type {\n",
       "        vertical-align: middle;\n",
       "    }\n",
       "\n",
       "    .dataframe tbody tr th {\n",
       "        vertical-align: top;\n",
       "    }\n",
       "\n",
       "    .dataframe thead th {\n",
       "        text-align: right;\n",
       "    }\n",
       "</style>\n",
       "<table border=\"1\" class=\"dataframe\">\n",
       "  <thead>\n",
       "    <tr style=\"text-align: right;\">\n",
       "      <th></th>\n",
       "      <th>latency</th>\n",
       "      <th>price_displayed</th>\n",
       "      <th>id</th>\n",
       "      <th>price_bin</th>\n",
       "      <th>apathy</th>\n",
       "      <th>environment_binary</th>\n",
       "      <th>label</th>\n",
       "    </tr>\n",
       "  </thead>\n",
       "  <tbody>\n",
       "    <tr>\n",
       "      <th>0</th>\n",
       "      <td>128.0</td>\n",
       "      <td>1.2</td>\n",
       "      <td>1.0</td>\n",
       "      <td>4.0</td>\n",
       "      <td>12.0</td>\n",
       "      <td>1.0</td>\n",
       "      <td>1</td>\n",
       "    </tr>\n",
       "  </tbody>\n",
       "</table>\n",
       "</div>"
      ],
      "text/plain": [
       "   latency  price_displayed   id  price_bin  apathy  environment_binary  label\n",
       "0    128.0              1.2  1.0        4.0    12.0                 1.0      1"
      ]
     },
     "execution_count": 95,
     "metadata": {},
     "output_type": "execute_result"
    }
   ],
   "source": [
    "# add a label for all in_lab data\n",
    "in_lab['label'] = [1]*len(in_lab)\n",
    "in_lab.head(1)"
   ]
  },
  {
   "cell_type": "code",
   "execution_count": 34,
   "metadata": {},
   "outputs": [],
   "source": [
    "#import online data and add lables for all online data\n",
    "online = pd.read_csv('fish_100.csv', sep = \",\")\n",
    "online['label'] = [0]*len(online)\n",
    "online['environment_binary'] = np.where(online['environment']=='low', 0, online['environment_binary'])\n",
    "online['environment_binary'] = np.where(online['environment']=='high', 1, online['environment_binary'])"
   ]
  },
  {
   "cell_type": "code",
   "execution_count": 35,
   "metadata": {},
   "outputs": [],
   "source": [
    "\n",
    "online = online [['latency', 'price_displayed', 'id', 'environment_binary', 'label']]\n",
    "                  "
   ]
  },
  {
   "cell_type": "code",
   "execution_count": 36,
   "metadata": {},
   "outputs": [],
   "source": [
    "data = pd.concat([in_lab, online])"
   ]
  },
  {
   "cell_type": "code",
   "execution_count": 37,
   "metadata": {},
   "outputs": [],
   "source": [
    "data = data.dropna()"
   ]
  },
  {
   "cell_type": "code",
   "execution_count": 42,
   "metadata": {},
   "outputs": [],
   "source": [
    "data_model = data.groupby(['id', 'environment_binary', 'label'])['latency'].mean().reset_index(name = 'average_latency')\n"
   ]
  },
  {
   "cell_type": "markdown",
   "metadata": {},
   "source": [
    "## Visualization "
   ]
  },
  {
   "cell_type": "code",
   "execution_count": 88,
   "metadata": {},
   "outputs": [],
   "source": [
    "in_lab_avg_latency = data_model[(data_model.label== 1)].average_latency\n",
    "online_avg_latency = data_model[(data_model.label == 0)].average_latency"
   ]
  },
  {
   "cell_type": "code",
   "execution_count": 93,
   "metadata": {},
   "outputs": [
    {
     "data": {
      "image/png": "[encoded data removed]",
      "text/plain": [
       "<Figure size 432x288 with 1 Axes>"
      ]
     },
     "metadata": {
      "needs_background": "light"
     },
     "output_type": "display_data"
    }
   ],
   "source": [
    "sns.distplot(in_lab_avg_latency , color=\"skyblue\", label=\"In_Lab\")\n",
    "sns.distplot(online_avg_latency , color=\"red\", label=\"Online\")\n",
    "plt.legend()\n",
    "plt.xlim(0, 300)\n",
    "plt.show()"
   ]
  },
  {
   "cell_type": "markdown",
   "metadata": {},
   "source": [
    "## Mixed Linear Model"
   ]
  },
  {
   "cell_type": "code",
   "execution_count": 97,
   "metadata": {},
   "outputs": [],
   "source": [
    "import statsmodels.formula.api as smf\n",
    "from patsy import dmatrices"
   ]
  },
  {
   "cell_type": "code",
   "execution_count": 107,
   "metadata": {},
   "outputs": [
    {
     "name": "stdout",
     "output_type": "stream",
     "text": [
      "                  Mixed Linear Model Regression Results\n",
      "=========================================================================\n",
      "Model:                  MixedLM     Dependent Variable:     latency      \n",
      "No. Observations:       379958      Method:                 REML         \n",
      "No. Groups:             121         Scale:                  18086445.8079\n",
      "Min. group size:        1088        Likelihood:             -3713957.4664\n",
      "Max. group size:        5069        Converged:              Yes          \n",
      "Mean group size:        3140.1                                           \n",
      "-------------------------------------------------------------------------\n",
      "                            Coef.   Std.Err.   z    P>|z|  [0.025  0.975]\n",
      "-------------------------------------------------------------------------\n",
      "Intercept                   210.234   27.868  7.544 0.000 155.615 264.854\n",
      "environment_binary[T.1.0]    18.487   13.848  1.335 0.182  -8.655  45.629\n",
      "price_displayed              -7.380    8.178 -0.902 0.367 -23.407   8.648\n",
      "Group Var                 71038.488    2.272                             \n",
      "=========================================================================\n",
      "\n"
     ]
    }
   ],
   "source": [
    "formula = \"latency ~ price_displayed + environment_binary\"\n",
    "\n",
    "md  = smf.mixedlm(formula, data, groups=data[\"id\"])\n",
    "mdf = md.fit()\n",
    "print(mdf.summary())\n",
    "\n",
    "\n",
    "\n"
   ]
  },
  {
   "cell_type": "code",
   "execution_count": 105,
   "metadata": {},
   "outputs": [],
   "source": [
    "fe_params = pd.DataFrame(mdf.fe_params,columns=['LMM'])\n",
    "random_effects = pd.DataFrame(mdf.random_effects)\n",
    "random_effects = random_effects.transpose()\n",
    "random_effects = random_effects.rename(index=str, columns={'groups': 'LMM'})"
   ]
  },
  {
   "cell_type": "code",
   "execution_count": 106,
   "metadata": {},
   "outputs": [
    {
     "data": {
      "text/html": [
       "<div>\n",
       "<style scoped>\n",
       "    .dataframe tbody tr th:only-of-type {\n",
       "        vertical-align: middle;\n",
       "    }\n",
       "\n",
       "    .dataframe tbody tr th {\n",
       "        vertical-align: top;\n",
       "    }\n",
       "\n",
       "    .dataframe thead th {\n",
       "        text-align: right;\n",
       "    }\n",
       "</style>\n",
       "<table border=\"1\" class=\"dataframe\">\n",
       "  <thead>\n",
       "    <tr style=\"text-align: right;\">\n",
       "      <th></th>\n",
       "      <th>LMM</th>\n",
       "    </tr>\n",
       "  </thead>\n",
       "  <tbody>\n",
       "    <tr>\n",
       "      <th>Intercept</th>\n",
       "      <td>202.171216</td>\n",
       "    </tr>\n",
       "    <tr>\n",
       "      <th>environment_binary[T.1.0]</th>\n",
       "      <td>34.260170</td>\n",
       "    </tr>\n",
       "    <tr>\n",
       "      <th>price_displayed</th>\n",
       "      <td>-0.320344</td>\n",
       "    </tr>\n",
       "    <tr>\n",
       "      <th>price_displayed:environment_binary[T.1.0]</th>\n",
       "      <td>-13.768605</td>\n",
       "    </tr>\n",
       "  </tbody>\n",
       "</table>\n",
       "</div>"
      ],
      "text/plain": [
       "                                                  LMM\n",
       "Intercept                                  202.171216\n",
       "environment_binary[T.1.0]                   34.260170\n",
       "price_displayed                             -0.320344\n",
       "price_displayed:environment_binary[T.1.0]  -13.768605"
      ]
     },
     "execution_count": 106,
     "metadata": {},
     "output_type": "execute_result"
    }
   ],
   "source": [
    "fe_params"
   ]
  },
  {
   "cell_type": "code",
   "execution_count": 103,
   "metadata": {},
   "outputs": [],
   "source": [
    "#%% Generate Design Matrix for later use\n",
    "Y, X   = dmatrices(formula, data=data, return_type='matrix')\n",
    "Terms  = X.design_info.column_names\n",
    "_, Z   = dmatrices('latency ~ -1+id', data=data, return_type='matrix')\n",
    "X      = np.asarray(X) # fixed effect\n",
    "Z      = np.asarray(Z) # mixed effect\n",
    "Y      = np.asarray(Y).flatten()\n",
    "nfixed = np.shape(X)\n",
    "nrandm = np.shape(Z)"
   ]
  },
  {
   "cell_type": "markdown",
   "metadata": {},
   "source": [
    "## Split data"
   ]
  },
  {
   "cell_type": "code",
   "execution_count": 43,
   "metadata": {},
   "outputs": [],
   "source": [
    "X = data_model[['average_latency', 'id', 'environment_binary']]\n",
    "y = data_model['label']\n"
   ]
  },
  {
   "cell_type": "code",
   "execution_count": 45,
   "metadata": {},
   "outputs": [],
   "source": [
    "from sklearn.model_selection import train_test_split\n",
    "X_train, X_test, y_train, y_test = train_test_split(X, y, random_state=0)\n"
   ]
  },
  {
   "cell_type": "markdown",
   "metadata": {},
   "source": [
    "## SVC"
   ]
  },
  {
   "cell_type": "code",
   "execution_count": 47,
   "metadata": {},
   "outputs": [],
   "source": [
    "from sklearn.svm import SVC\n"
   ]
  },
  {
   "cell_type": "code",
   "execution_count": 48,
   "metadata": {},
   "outputs": [
    {
     "name": "stderr",
     "output_type": "stream",
     "text": [
      "/Library/Frameworks/Python.framework/Versions/3.6/lib/python3.6/site-packages/sklearn/svm/base.py:196: FutureWarning: The default value of gamma will change from 'auto' to 'scale' in version 0.22 to account better for unscaled features. Set gamma explicitly to 'auto' or 'scale' to avoid this warning.\n",
      "  \"avoid this warning.\", FutureWarning)\n"
     ]
    },
    {
     "data": {
      "text/plain": [
       "SVC(C=1.0, cache_size=200, class_weight=None, coef0=0.0,\n",
       "  decision_function_shape='ovr', degree=3, gamma='auto_deprecated',\n",
       "  kernel='rbf', max_iter=-1, probability=False, random_state=None,\n",
       "  shrinking=True, tol=0.001, verbose=False)"
      ]
     },
     "execution_count": 48,
     "metadata": {},
     "output_type": "execute_result"
    }
   ],
   "source": [
    "#Support Vector Classifier\n",
    "s_clf = SVC()\n",
    "s_clf.fit(X_train, y_train)\n"
   ]
  },
  {
   "cell_type": "code",
   "execution_count": 49,
   "metadata": {},
   "outputs": [
    {
     "name": "stdout",
     "output_type": "stream",
     "text": [
      "[0 0 0 0 0 0 0 0 0 0 0 0 0 0 0 0 0 0 0 0 0 0 0 0 0 0 0 0 0 0 0 0 0 0 0 0 0\n",
      " 0 0 0 0 0 0 0 0 1 0 0 0 0 0 0 0 0 0 0 0 0 0 0 0]\n"
     ]
    }
   ],
   "source": [
    "s_prediction = s_clf.predict(X_test)\n",
    "print (s_prediction)"
   ]
  },
  {
   "cell_type": "code",
   "execution_count": 50,
   "metadata": {},
   "outputs": [],
   "source": [
    "from sklearn.metrics import accuracy_score"
   ]
  },
  {
   "cell_type": "code",
   "execution_count": 65,
   "metadata": {},
   "outputs": [
    {
     "data": {
      "text/plain": [
       "0.8688524590163934"
      ]
     },
     "execution_count": 65,
     "metadata": {},
     "output_type": "execute_result"
    }
   ],
   "source": [
    "s_acc = accuracy_score(s_prediction, y_test)\n",
    "s_acc"
   ]
  },
  {
   "cell_type": "markdown",
   "metadata": {},
   "source": [
    "The model is guessing in this case; There are 21 in lab participants and 100 (100/121 = 0.82) online subjects.\n",
    "Due to such imbalance of classes, the model can always guess 0 (the predominant one) and get above chance."
   ]
  },
  {
   "cell_type": "markdown",
   "metadata": {},
   "source": [
    "In particular, classifier quality measures like area under the ROC curve (AUC) can be used to assess the degree of difference between the original datasets: small AUC values suggest that the original datasets are similar, while large AUC values suggest substantial differences. If differences are detected, the random permutation strategy described in the companion vignette “Assessing Variable Importance for Predictive Models of Arbitrary Type” can be applied to determine which variables from the original datasets are most responsible for their differences."
   ]
  },
  {
   "cell_type": "code",
   "execution_count": 59,
   "metadata": {},
   "outputs": [],
   "source": [
    "from sklearn.metrics import roc_curve, auc"
   ]
  },
  {
   "cell_type": "code",
   "execution_count": 60,
   "metadata": {},
   "outputs": [],
   "source": [
    "false_positive_rate, true_positive_rate, thresholds = roc_curve(y_test, s_prediction)\n",
    "roc_auc = auc(false_positive_rate, true_positive_rate)"
   ]
  },
  {
   "cell_type": "code",
   "execution_count": 73,
   "metadata": {},
   "outputs": [
    {
     "data": {
      "image/png": "[encoded data removed]",
      "text/plain": [
       "<Figure size 432x288 with 1 Axes>"
      ]
     },
     "metadata": {
      "needs_background": "light"
     },
     "output_type": "display_data"
    }
   ],
   "source": [
    "plt.title('SVC - Receiver Operating Characteristic')\n",
    "plt.plot(false_positive_rate, true_positive_rate, 'b',\n",
    "label='AUC = %0.2f'% roc_auc)\n",
    "plt.legend(loc='lower right')\n",
    "plt.plot([0,1],[0,1],'r--', label = 'y = x')\n",
    "plt.legend(loc='lower right')\n",
    "plt.xlim([-0.1,1.2])\n",
    "plt.ylim([-0.1,1.2])\n",
    "plt.ylabel('True Positive Rate')\n",
    "plt.xlabel('False Positive Rate')\n",
    "plt.show()"
   ]
  },
  {
   "cell_type": "code",
   "execution_count": null,
   "metadata": {},
   "outputs": [],
   "source": []
  }
 ],
 "metadata": {
  "kernelspec": {
   "display_name": "Python 3",
   "language": "python",
   "name": "python3"
  },
  "language_info": {
   "codemirror_mode": {
    "name": "ipython",
    "version": 3
   },
   "file_extension": ".py",
   "mimetype": "text/x-python",
   "name": "python",
   "nbconvert_exporter": "python",
   "pygments_lexer": "ipython3",
   "version": "3.6.3"
  }
 },
 "nbformat": 4,
 "nbformat_minor": 2
}
