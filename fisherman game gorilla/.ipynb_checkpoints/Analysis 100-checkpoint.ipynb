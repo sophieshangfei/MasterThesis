{
 "cells": [
  {
   "cell_type": "code",
   "execution_count": 1,
   "metadata": {},
   "outputs": [],
   "source": [
    "import pandas as pd\n",
    "import numpy as np\n",
    "import matplotlib.pyplot as plt\n",
    "import csv\n",
    "import json\n",
    "import seaborn as sns\n",
    "from sklearn import linear_model\n",
    "import statsmodels.api as sm\n",
    "from statsmodels.formula.api import ols\n",
    "from statsmodels.sandbox.regression.predstd import wls_prediction_std\n",
    "import scipy.stats as ss\n",
    "%matplotlib inline"
   ]
  },
  {
   "cell_type": "markdown",
   "metadata": {},
   "source": [
    "# Data Quality Check"
   ]
  },
  {
   "cell_type": "markdown",
   "metadata": {},
   "source": [
    "## Demographics"
   ]
  },
  {
   "cell_type": "code",
   "execution_count": 2,
   "metadata": {},
   "outputs": [],
   "source": [
    "demographics = pd.read_csv('data_exp_6138-v39_questionnaire-zk38.csv', sep = \",\")\n",
    "#demographics.head(15)\n",
    "# we asked them 7 questions in total"
   ]
  },
  {
   "cell_type": "code",
   "execution_count": 3,
   "metadata": {},
   "outputs": [],
   "source": [
    "demographics = demographics[demographics['Question Key'] != 'BEGIN QUESTIONNAIRE']\n",
    "demographics = demographics[demographics['Question Key'] != 'END QUESTIONNAIRE']\n",
    "demographics['id'] = demographics['Participant Private ID']\n",
    "demographics['question'] = demographics['Question Key']\n",
    "demographics['response'] = demographics['Response']\n",
    "demographics = demographics[['id', 'question', 'response']]"
   ]
  },
  {
   "cell_type": "code",
   "execution_count": 4,
   "metadata": {},
   "outputs": [],
   "source": [
    "d = pd.pivot_table(demographics, index = 'id', columns = 'question', values = 'response', aggfunc='first')\n",
    "d = d.reset_index()\n",
    "d.columns= ['id','age', 'confirmation_1', 'confirmation_2', 'gender', 'gender_numeric','handedness', 'handedness_numeric', 'degree', 'degree_numeric']\n"
   ]
  },
  {
   "cell_type": "code",
   "execution_count": 5,
   "metadata": {},
   "outputs": [
    {
     "data": {
      "text/plain": [
       "37.76"
      ]
     },
     "execution_count": 5,
     "metadata": {},
     "output_type": "execute_result"
    }
   ],
   "source": [
    "d['age'].astype(float).mean()"
   ]
  },
  {
   "cell_type": "code",
   "execution_count": 6,
   "metadata": {},
   "outputs": [],
   "source": [
    "d.to_csv('demographics_100.csv', sep = ',', encoding='utf-8')"
   ]
  },
  {
   "cell_type": "markdown",
   "metadata": {},
   "source": [
    "## Sound Check"
   ]
  },
  {
   "cell_type": "code",
   "execution_count": 7,
   "metadata": {},
   "outputs": [],
   "source": [
    "# do a quick check for sound\n",
    "sound = pd.read_csv('data_exp_6138-v39_task-jgum.csv', sep = \",\")\n",
    "sound = sound.replace('null', np.nan)\n",
    "sound = sound.replace('nan', np.nan)"
   ]
  },
  {
   "cell_type": "code",
   "execution_count": 8,
   "metadata": {},
   "outputs": [],
   "source": [
    "sound = sound[np.isfinite(sound['button pressed'])]"
   ]
  },
  {
   "cell_type": "code",
   "execution_count": 9,
   "metadata": {},
   "outputs": [],
   "source": [
    "correct = [1, 0, 0]* 100"
   ]
  },
  {
   "cell_type": "code",
   "execution_count": 10,
   "metadata": {},
   "outputs": [],
   "source": [
    "s = (sound['button pressed'] == correct).reset_index(name = 'check')\n",
    "sound = sound.reset_index()\n",
    "sound = pd.merge(s[['index', 'check']], sound, on = 'index')\n",
    "sound_final= sound[['Participant Private ID','button pressed','check']]"
   ]
  },
  {
   "cell_type": "code",
   "execution_count": 11,
   "metadata": {},
   "outputs": [],
   "source": [
    "pd.set_option('display.max_columns', 300)\n",
    "pd.set_option('display.max_rows', None)\n",
    "#sound_final.head(300)"
   ]
  },
  {
   "cell_type": "markdown",
   "metadata": {},
   "source": [
    "## rod fixing count"
   ]
  },
  {
   "cell_type": "code",
   "execution_count": 51,
   "metadata": {},
   "outputs": [],
   "source": [
    "#import csv\n",
    "#2jau and 5e3j are low-high and high-low\n",
    "df1 = pd.read_csv('data_exp_6138-v39_task-2jau.csv', sep = \",\")\n",
    "df2 = pd.read_csv('data_exp_6138-v39_task-5e3j.csv', sep = \",\")"
   ]
  },
  {
   "cell_type": "code",
   "execution_count": 52,
   "metadata": {},
   "outputs": [],
   "source": [
    "#get rid of scientific notation\n",
    "pd.set_option('display.float_format', lambda x: '%.3f' % x)\n",
    "\n",
    "#replace all null and nan to the np.nan\n",
    "df1 = df1.replace('null', np.nan)\n",
    "df1 = df1.replace('nan', np.nan)\n",
    "df2 = df2.replace('null', np.nan)\n",
    "df2 = df2.replace('nan', np.nan)\n",
    "\n",
    "#turn object into floats and round them and rename them\n",
    "df1['end_time'] = round(df1['end_time'].astype(float))\n",
    "df1['start_time'] = round(df1['start_time'].astype(float))\n",
    "df1['builtin_rt'] = df1['builtin rt'].astype(float) #dont round up builtin reaction time\n",
    "df1['quality_check'] = df1['rod fixing checked'].astype(float)\n",
    "df1['id'] = df1['Participant Private ID']\n",
    "df1['function_id'] = df1['function id']\n",
    "df1['round_instance'] = df1['round instance']\n",
    "df1['trial_index'] = df1['index']\n",
    "df1['key_pressed'] = df1['key pressed']\n",
    "\n",
    "df2['end_time'] = round(df2['end_time'].astype(float))\n",
    "df2['start_time'] = round(df2['start_time'].astype(float))\n",
    "#df2['builtin_rt'] = df2['builtin rt'].astype(float) #dont round up builtin reaction time\n",
    "df2['quality_check'] = df2['rod fixing checked'].astype(float)\n",
    "df2['id'] = df2['Participant Private ID']\n",
    "df2['round_instance'] = df2['round_instance']\n",
    "df2['function_id'] = df2['function id']\n",
    "df2['trial_index'] = df2['index']\n",
    "df2['key_pressed'] = df2['key pressed']"
   ]
  },
  {
   "cell_type": "code",
   "execution_count": 53,
   "metadata": {},
   "outputs": [],
   "source": [
    "#select columns from df1 and df2\n",
    "data1 = df1[['trial_index','id','price_displayed', 'key pressed','environment', 'order', \n",
    "           'round_instance', 'task', 'function_id', 'quality_check', \n",
    "           'builtin_rt', 'end_time', 'start_time', 'Participant Public ID', 'key_pressed']]\n",
    "data2 = df2[['trial_index','id','price_displayed', 'key pressed','environment', 'order', \n",
    "           'round_instance', 'task', 'function_id', 'quality_check', \n",
    "           'builtin_rt', 'end_time', 'start_time', 'Participant Public ID', 'key_pressed']]"
   ]
  },
  {
   "cell_type": "code",
   "execution_count": 54,
   "metadata": {},
   "outputs": [],
   "source": [
    "data = pd.concat([data1, data2])\n",
    "data.index.nunique()\n",
    "index_manual = list(range(0, len(data)))\n",
    "data['index'] = index_manual\n",
    "data = data.set_index('index')\n",
    "data = data[data.function_id != 'caller']\n",
    "data = data[pd.notnull(data['function_id'])]\n",
    "\n"
   ]
  },
  {
   "cell_type": "code",
   "execution_count": 55,
   "metadata": {},
   "outputs": [],
   "source": [
    "data_useful = data[(data.function_id == \"rod_fixing\")|(data.function_id == \"fishing_l\")|(data.function_id == \"fishing_h\")]\n",
    "data_useful = data_useful.sort_values(by = ['id', 'start_time'])\n"
   ]
  },
  {
   "cell_type": "code",
   "execution_count": 56,
   "metadata": {},
   "outputs": [],
   "source": [
    "data_useful['trial_label'] = data_useful[['trial_index', 'round_instance']].apply(lambda x: ' '.join(x.astype(str)), axis=1)\n"
   ]
  },
  {
   "cell_type": "code",
   "execution_count": 57,
   "metadata": {},
   "outputs": [],
   "source": [
    "d = data_useful.groupby(['id', 'trial_label'])['start_time'].diff().shift(-1).reset_index(name = 'latency')\n",
    "d = d.set_index('index')"
   ]
  },
  {
   "cell_type": "code",
   "execution_count": 58,
   "metadata": {
    "scrolled": true
   },
   "outputs": [],
   "source": [
    "data_useful['latency'] = d['latency']\n",
    "data_useful= data_useful.sort_index().sort_values(['id', 'start_time'])\n",
    "#data_useful.head(400)"
   ]
  },
  {
   "cell_type": "code",
   "execution_count": 59,
   "metadata": {},
   "outputs": [],
   "source": [
    "data_rod = data_useful[(data_useful.function_id == \"rod_fixing\")]"
   ]
  },
  {
   "cell_type": "code",
   "execution_count": 60,
   "metadata": {},
   "outputs": [],
   "source": [
    "by_trial = data_rod.groupby(['id', 'environment', 'trial_label']).count().reset_index()\n",
    "#by_trial"
   ]
  },
  {
   "cell_type": "code",
   "execution_count": 61,
   "metadata": {},
   "outputs": [],
   "source": [
    "by_trial_problem = by_trial[(by_trial['trial_index'] > 8) | (by_trial['trial_index'] < 5)]"
   ]
  },
  {
   "cell_type": "markdown",
   "metadata": {},
   "source": [
    "### Ritiwk's codes"
   ]
  },
  {
   "cell_type": "code",
   "execution_count": 23,
   "metadata": {},
   "outputs": [],
   "source": [
    "da = data_useful"
   ]
  },
  {
   "cell_type": "code",
   "execution_count": 24,
   "metadata": {},
   "outputs": [],
   "source": [
    "for r_instance in da['round_instance'].unique():\n",
    "    da.loc[da['round_instance'] == r_instance,'latency'] = da[da['round_instance']==r_instance].groupby('id')['start_time'].diff().shift(-1)\n",
    " "
   ]
  },
  {
   "cell_type": "code",
   "execution_count": 25,
   "metadata": {},
   "outputs": [
    {
     "data": {
      "text/plain": [
       "count   328010.000\n",
       "mean       195.306\n",
       "std       1058.514\n",
       "min         48.000\n",
       "25%        150.000\n",
       "50%        172.000\n",
       "75%        197.000\n",
       "max     344778.000\n",
       "Name: latency, dtype: float64"
      ]
     },
     "execution_count": 25,
     "metadata": {},
     "output_type": "execute_result"
    }
   ],
   "source": [
    "da['latency'].describe()"
   ]
  },
  {
   "cell_type": "markdown",
   "metadata": {},
   "source": [
    "how are you calcualting the last latency? "
   ]
  },
  {
   "cell_type": "markdown",
   "metadata": {},
   "source": [
    "# Analysis"
   ]
  },
  {
   "cell_type": "markdown",
   "metadata": {},
   "source": [
    "### Discard the first spike"
   ]
  },
  {
   "cell_type": "code",
   "execution_count": 62,
   "metadata": {},
   "outputs": [],
   "source": [
    "def mask_first(x):\n",
    "    \"\"\"\n",
    "    get rid of the first spike by creating a mask of 0, 1, 1, 1, ...\n",
    "    \"\"\"\n",
    "    result = np.ones_like(x)\n",
    "    result[0] = 0\n",
    "    return result"
   ]
  },
  {
   "cell_type": "markdown",
   "metadata": {},
   "source": [
    "make a copy of the original data file"
   ]
  },
  {
   "cell_type": "code",
   "execution_count": 63,
   "metadata": {},
   "outputs": [],
   "source": [
    "data_original = data_useful"
   ]
  },
  {
   "cell_type": "code",
   "execution_count": 64,
   "metadata": {},
   "outputs": [],
   "source": [
    "mask = data_useful.groupby(['id', 'trial_label'])['trial_label'].transform(mask_first).astype(bool)\n",
    "data_useful = data_useful.loc[mask]\n",
    "# now we got rid of the first spike of fishing and rod fixing"
   ]
  },
  {
   "cell_type": "code",
   "execution_count": 65,
   "metadata": {},
   "outputs": [],
   "source": [
    "#data_useful.head(100)"
   ]
  },
  {
   "cell_type": "markdown",
   "metadata": {},
   "source": [
    "## Fishing Data"
   ]
  },
  {
   "cell_type": "code",
   "execution_count": 29,
   "metadata": {},
   "outputs": [],
   "source": [
    "data_fish = data_useful[(data_useful.function_id == \"fishing_l\")|(data_useful.function_id == \"fishing_h\")]"
   ]
  },
  {
   "cell_type": "code",
   "execution_count": 30,
   "metadata": {},
   "outputs": [
    {
     "data": {
      "text/plain": [
       "count   315521.000\n",
       "mean       189.196\n",
       "std       1045.919\n",
       "min         79.000\n",
       "25%        149.000\n",
       "50%        172.000\n",
       "75%        197.000\n",
       "max     344778.000\n",
       "Name: latency, dtype: float64"
      ]
     },
     "execution_count": 30,
     "metadata": {},
     "output_type": "execute_result"
    }
   ],
   "source": [
    "data_fish['latency'].describe()"
   ]
  },
  {
   "cell_type": "markdown",
   "metadata": {},
   "source": [
    "### Outliers"
   ]
  },
  {
   "cell_type": "code",
   "execution_count": 31,
   "metadata": {},
   "outputs": [
    {
     "data": {
      "text/plain": [
       "96"
      ]
     },
     "execution_count": 31,
     "metadata": {},
     "output_type": "execute_result"
    }
   ],
   "source": [
    "data_fish_prunned = data_fish[data_fish['id'] != 668262.0]\n",
    "data_fish_prunned = data_fish_prunned[data_fish_prunned['id'] != 675528.0]\n",
    "data_fish_prunned = data_fish_prunned[data_fish_prunned['id'] != 675577.0]\n",
    "data_fish_prunned = data_fish_prunned[data_fish_prunned['id'] != 680119.0]\n",
    "len(data_fish_prunned['id'].unique())"
   ]
  },
  {
   "cell_type": "markdown",
   "metadata": {},
   "source": [
    "### Price-Latency by environment graph"
   ]
  },
  {
   "cell_type": "code",
   "execution_count": 32,
   "metadata": {},
   "outputs": [],
   "source": [
    "graph = data_fish_prunned.groupby([\"price_displayed\", \"function_id\"])['latency'].mean().reset_index()\n",
    "graph.columns = ['price_displayed', 'function_id', 'average_latency']"
   ]
  },
  {
   "cell_type": "code",
   "execution_count": 33,
   "metadata": {},
   "outputs": [],
   "source": [
    "price = [0.1, 0.3, 0.7, 1.2, 1.8, 2.5]\n",
    "latency_l = graph.average_latency[(graph.function_id == 'fishing_l')]\n",
    "latency_h = graph.average_latency[(graph.function_id == 'fishing_h')]"
   ]
  },
  {
   "cell_type": "code",
   "execution_count": 34,
   "metadata": {},
   "outputs": [
    {
     "data": {
      "text/plain": [
       "<matplotlib.legend.Legend at 0x12b082c50>"
      ]
     },
     "execution_count": 34,
     "metadata": {},
     "output_type": "execute_result"
    },
    {
     "data": {
      "image/png": "[encoded data removed]",
      "text/plain": [
       "<Figure size 432x288 with 1 Axes>"
      ]
     },
     "metadata": {
      "needs_background": "light"
     },
     "output_type": "display_data"
    }
   ],
   "source": [
    "plt.plot( price, latency_l, marker='', color='purple', linewidth=2, label = \"low\")\n",
    "plt.plot( price, latency_h, marker='', color='black', linewidth=2, linestyle='dashed', label=\"high\")\n",
    "plt.title(\"n = 94\")\n",
    "plt.xlabel(\"price\")\n",
    "plt.ylabel(\"average latency\")\n",
    "plt.legend()"
   ]
  },
  {
   "cell_type": "markdown",
   "metadata": {},
   "source": [
    "### Linear regression with predictor price and environment"
   ]
  },
  {
   "cell_type": "code",
   "execution_count": 35,
   "metadata": {},
   "outputs": [
    {
     "name": "stderr",
     "output_type": "stream",
     "text": [
      "/Library/Frameworks/Python.framework/Versions/3.6/lib/python3.6/site-packages/ipykernel_launcher.py:1: SettingWithCopyWarning: \n",
      "A value is trying to be set on a copy of a slice from a DataFrame.\n",
      "Try using .loc[row_indexer,col_indexer] = value instead\n",
      "\n",
      "See the caveats in the documentation: http://pandas.pydata.org/pandas-docs/stable/indexing.html#indexing-view-versus-copy\n",
      "  \"\"\"Entry point for launching an IPython kernel.\n",
      "/Library/Frameworks/Python.framework/Versions/3.6/lib/python3.6/site-packages/ipykernel_launcher.py:2: SettingWithCopyWarning: \n",
      "A value is trying to be set on a copy of a slice from a DataFrame.\n",
      "Try using .loc[row_indexer,col_indexer] = value instead\n",
      "\n",
      "See the caveats in the documentation: http://pandas.pydata.org/pandas-docs/stable/indexing.html#indexing-view-versus-copy\n",
      "  \n",
      "/Library/Frameworks/Python.framework/Versions/3.6/lib/python3.6/site-packages/ipykernel_launcher.py:3: SettingWithCopyWarning: \n",
      "A value is trying to be set on a copy of a slice from a DataFrame.\n",
      "Try using .loc[row_indexer,col_indexer] = value instead\n",
      "\n",
      "See the caveats in the documentation: http://pandas.pydata.org/pandas-docs/stable/indexing.html#indexing-view-versus-copy\n",
      "  This is separate from the ipykernel package so we can avoid doing imports until\n"
     ]
    }
   ],
   "source": [
    "data_fish['environment_binary'] = np.where(data_fish['environment']=='low', 0, data_fish['environment'])\n",
    "data_fish['environment_binary'] = np.where(data_fish['environment']=='high', 1, data_fish['environment'])\n",
    "data_fish['log_latency'] = np.log(data_fish['latency'])\n"
   ]
  },
  {
   "cell_type": "code",
   "execution_count": 36,
   "metadata": {},
   "outputs": [],
   "source": [
    "data_610 = data_fish[data_fish['id'] == 675610.0]\n",
    "f_model_610 = ols(formula = 'log_latency ~ environment_binary + price_displayed', \n",
    "              data=data_610)\n",
    "r_610 = f_model_610.fit()\n",
    "#r_610.summary()"
   ]
  },
  {
   "cell_type": "markdown",
   "metadata": {},
   "source": [
    "### Price-Latency Plot by subject and environment"
   ]
  },
  {
   "cell_type": "code",
   "execution_count": 37,
   "metadata": {},
   "outputs": [],
   "source": [
    "fish_subject = data_fish_prunned.groupby([\"id\",\"price_displayed\", \"environment\"])['latency'].mean().reset_index()\n",
    "fish_subject.columns = ['id','price_displayed', 'environment', 'average_latency']"
   ]
  },
  {
   "cell_type": "code",
   "execution_count": null,
   "metadata": {},
   "outputs": [],
   "source": [
    "sns.set(style=\"ticks\")\n",
    "by_subject = sns.relplot(x=\"price_displayed\", y=\"average_latency\", hue=\"environment\", \n",
    "            col=\"id\", col_wrap=4,legend = 'full',\n",
    "            height=5, aspect=.75, linewidth=2.5,\n",
    "            kind=\"line\",data=fish_subject)\n",
    "by_subject.set(xticks= fish_subject[\"price_displayed\"])\n",
    "plt.ylim([100,300])"
   ]
  },
  {
   "cell_type": "code",
   "execution_count": null,
   "metadata": {},
   "outputs": [],
   "source": [
    "by_subject.savefig(\"output100_300.png\")"
   ]
  },
  {
   "cell_type": "code",
   "execution_count": null,
   "metadata": {},
   "outputs": [],
   "source": [
    "len(data_fish.id.unique())"
   ]
  },
  {
   "cell_type": "code",
   "execution_count": null,
   "metadata": {},
   "outputs": [],
   "source": [
    "data_fish.to_csv('fish_100.csv', sep = ',', encoding='utf-8')"
   ]
  },
  {
   "cell_type": "markdown",
   "metadata": {},
   "source": [
    "## Rod Fixing Data"
   ]
  },
  {
   "cell_type": "code",
   "execution_count": 66,
   "metadata": {},
   "outputs": [],
   "source": [
    "data_rod = data_original[(data_original.function_id == \"rod_fixing\")]"
   ]
  },
  {
   "cell_type": "markdown",
   "metadata": {},
   "source": [
    "### Check if everyone tap at least once within the 13000 msecs"
   ]
  },
  {
   "cell_type": "code",
   "execution_count": 77,
   "metadata": {},
   "outputs": [
    {
     "data": {
      "text/html": [
       "<div>\n",
       "<style scoped>\n",
       "    .dataframe tbody tr th:only-of-type {\n",
       "        vertical-align: middle;\n",
       "    }\n",
       "\n",
       "    .dataframe tbody tr th {\n",
       "        vertical-align: top;\n",
       "    }\n",
       "\n",
       "    .dataframe thead th {\n",
       "        text-align: right;\n",
       "    }\n",
       "</style>\n",
       "<table border=\"1\" class=\"dataframe\">\n",
       "  <thead>\n",
       "    <tr style=\"text-align: right;\">\n",
       "      <th></th>\n",
       "      <th>trial_index</th>\n",
       "      <th>id</th>\n",
       "      <th>price_displayed</th>\n",
       "      <th>key pressed</th>\n",
       "      <th>environment</th>\n",
       "      <th>order</th>\n",
       "      <th>round_instance</th>\n",
       "      <th>task</th>\n",
       "      <th>function_id</th>\n",
       "      <th>quality_check</th>\n",
       "      <th>builtin_rt</th>\n",
       "      <th>end_time</th>\n",
       "      <th>start_time</th>\n",
       "      <th>Participant Public ID</th>\n",
       "      <th>key_pressed</th>\n",
       "      <th>trial_label</th>\n",
       "      <th>latency</th>\n",
       "    </tr>\n",
       "    <tr>\n",
       "      <th>index</th>\n",
       "      <th></th>\n",
       "      <th></th>\n",
       "      <th></th>\n",
       "      <th></th>\n",
       "      <th></th>\n",
       "      <th></th>\n",
       "      <th></th>\n",
       "      <th></th>\n",
       "      <th></th>\n",
       "      <th></th>\n",
       "      <th></th>\n",
       "      <th></th>\n",
       "      <th></th>\n",
       "      <th></th>\n",
       "      <th></th>\n",
       "      <th></th>\n",
       "      <th></th>\n",
       "    </tr>\n",
       "  </thead>\n",
       "  <tbody>\n",
       "    <tr>\n",
       "      <th>56203</th>\n",
       "      <td>3.000</td>\n",
       "      <td>672596.000</td>\n",
       "      <td>0.700</td>\n",
       "      <td>39.000</td>\n",
       "      <td>high</td>\n",
       "      <td>high-low</td>\n",
       "      <td>11.000</td>\n",
       "      <td>rod_fixing</td>\n",
       "      <td>rod_fixing</td>\n",
       "      <td>0.000</td>\n",
       "      <td>17825.500</td>\n",
       "      <td>1554832873330.000</td>\n",
       "      <td>1554832855504.000</td>\n",
       "      <td>BLIND</td>\n",
       "      <td>39.000</td>\n",
       "      <td>3.0 11.0</td>\n",
       "      <td>17829.000</td>\n",
       "    </tr>\n",
       "    <tr>\n",
       "      <th>56416</th>\n",
       "      <td>7.000</td>\n",
       "      <td>672596.000</td>\n",
       "      <td>0.100</td>\n",
       "      <td>39.000</td>\n",
       "      <td>high</td>\n",
       "      <td>high-low</td>\n",
       "      <td>11.000</td>\n",
       "      <td>rod_fixing</td>\n",
       "      <td>rod_fixing</td>\n",
       "      <td>0.000</td>\n",
       "      <td>115515.745</td>\n",
       "      <td>1554833032422.000</td>\n",
       "      <td>1554832916905.000</td>\n",
       "      <td>BLIND</td>\n",
       "      <td>39.000</td>\n",
       "      <td>7.0 11.0</td>\n",
       "      <td>nan</td>\n",
       "    </tr>\n",
       "    <tr>\n",
       "      <th>340746</th>\n",
       "      <td>8.000</td>\n",
       "      <td>675669.000</td>\n",
       "      <td>1.800</td>\n",
       "      <td>39.000</td>\n",
       "      <td>low</td>\n",
       "      <td>low-high</td>\n",
       "      <td>21.000</td>\n",
       "      <td>rod_fixing</td>\n",
       "      <td>rod_fixing</td>\n",
       "      <td>0.000</td>\n",
       "      <td>20676.015</td>\n",
       "      <td>1555086572813.000</td>\n",
       "      <td>1555086552136.000</td>\n",
       "      <td>BLIND</td>\n",
       "      <td>39.000</td>\n",
       "      <td>8.0 21.0</td>\n",
       "      <td>nan</td>\n",
       "    </tr>\n",
       "    <tr>\n",
       "      <th>342079</th>\n",
       "      <td>4.000</td>\n",
       "      <td>675669.000</td>\n",
       "      <td>1.800</td>\n",
       "      <td>39.000</td>\n",
       "      <td>high</td>\n",
       "      <td>high-low</td>\n",
       "      <td>22.000</td>\n",
       "      <td>rod_fixing</td>\n",
       "      <td>rod_fixing</td>\n",
       "      <td>0.000</td>\n",
       "      <td>28883.955</td>\n",
       "      <td>1555086893052.000</td>\n",
       "      <td>1555086864167.000</td>\n",
       "      <td>BLIND</td>\n",
       "      <td>39.000</td>\n",
       "      <td>4.0 22.0</td>\n",
       "      <td>nan</td>\n",
       "    </tr>\n",
       "  </tbody>\n",
       "</table>\n",
       "</div>"
      ],
      "text/plain": [
       "        trial_index         id  price_displayed  key pressed environment  \\\n",
       "index                                                                      \n",
       "56203         3.000 672596.000            0.700       39.000        high   \n",
       "56416         7.000 672596.000            0.100       39.000        high   \n",
       "340746        8.000 675669.000            1.800       39.000         low   \n",
       "342079        4.000 675669.000            1.800       39.000        high   \n",
       "\n",
       "           order  round_instance        task function_id  quality_check  \\\n",
       "index                                                                     \n",
       "56203   high-low          11.000  rod_fixing  rod_fixing          0.000   \n",
       "56416   high-low          11.000  rod_fixing  rod_fixing          0.000   \n",
       "340746  low-high          21.000  rod_fixing  rod_fixing          0.000   \n",
       "342079  high-low          22.000  rod_fixing  rod_fixing          0.000   \n",
       "\n",
       "        builtin_rt          end_time        start_time Participant Public ID  \\\n",
       "index                                                                          \n",
       "56203    17825.500 1554832873330.000 1554832855504.000                 BLIND   \n",
       "56416   115515.745 1554833032422.000 1554832916905.000                 BLIND   \n",
       "340746   20676.015 1555086572813.000 1555086552136.000                 BLIND   \n",
       "342079   28883.955 1555086893052.000 1555086864167.000                 BLIND   \n",
       "\n",
       "        key_pressed trial_label   latency  \n",
       "index                                      \n",
       "56203        39.000    3.0 11.0 17829.000  \n",
       "56416        39.000    7.0 11.0       nan  \n",
       "340746       39.000    8.0 21.0       nan  \n",
       "342079       39.000    4.0 22.0       nan  "
      ]
     },
     "execution_count": 77,
     "metadata": {},
     "output_type": "execute_result"
    }
   ],
   "source": [
    "data_rod[data_rod.quality_check == 0]"
   ]
  },
  {
   "cell_type": "markdown",
   "metadata": {},
   "source": [
    "### Check if anyone taps more than 8 times"
   ]
  },
  {
   "cell_type": "code",
   "execution_count": 67,
   "metadata": {},
   "outputs": [],
   "source": [
    "by_trial_hier = data_rod.groupby(['id', 'environment', 'trial_label']).count().reset_index()\n",
    "by_trial_hier['index'] = by_trial_hier[['id', 'trial_label']].apply(lambda x: ' '.join(x.astype(str)), axis=1)\n",
    "by_trial_hier = by_trial_hier.set_index('index')"
   ]
  },
  {
   "cell_type": "code",
   "execution_count": 68,
   "metadata": {},
   "outputs": [],
   "source": [
    "bytrial_latency = data_rod.groupby(['id', 'environment', 'trial_label'])['latency'].sum().reset_index(name = 'sum_latency')\n",
    "bytrial_latency['index'] = bytrial_latency[['id', 'trial_label']].apply(lambda x: ' '.join(x.astype(str)), axis=1)\n",
    "bytrial_latency = bytrial_latency.set_index('index')\n",
    "by_trial_rod = pd.merge(by_trial_hier, bytrial_latency, left_index=True, right_index=True)\n"
   ]
  },
  {
   "cell_type": "code",
   "execution_count": 69,
   "metadata": {},
   "outputs": [],
   "source": [
    "by_trial_rod = by_trial_rod[['id_x', 'environment_x', 'trial_label_x', 'trial_index', 'sum_latency', 'key_pressed']]\n",
    "by_trial_rod.columns = ['id','environment','trial_label', 'trial_index','sum_latency', 'key_pressed']\n"
   ]
  },
  {
   "cell_type": "code",
   "execution_count": 84,
   "metadata": {},
   "outputs": [
    {
     "data": {
      "text/plain": [
       "array([668270., 672593., 675577., 675654., 680115., 680171.])"
      ]
     },
     "execution_count": 84,
     "metadata": {},
     "output_type": "execute_result"
    }
   ],
   "source": [
    "by_trial_rod_problem_1 = by_trial_rod[(by_trial_rod['key_pressed'] > 8)]\n",
    "by_trial_rod_problem_1.id.unique()"
   ]
  },
  {
   "cell_type": "markdown",
   "metadata": {},
   "source": [
    "now go back to using data_useful (no first spike)"
   ]
  },
  {
   "cell_type": "code",
   "execution_count": 85,
   "metadata": {},
   "outputs": [],
   "source": [
    "data_rod = data_useful[(data_useful.function_id == \"rod_fixing\")]"
   ]
  },
  {
   "cell_type": "code",
   "execution_count": 87,
   "metadata": {},
   "outputs": [],
   "source": [
    "data_rod.to_csv('rod_100_no_first_spike.csv', sep = ',', encoding='utf-8')"
   ]
  },
  {
   "cell_type": "markdown",
   "metadata": {},
   "source": [
    "# Questionnaires"
   ]
  },
  {
   "cell_type": "code",
   "execution_count": 88,
   "metadata": {},
   "outputs": [],
   "source": [
    "def extract_choice(ser):\n",
    "    choice = []\n",
    "    for s in ser:\n",
    "        c = 0\n",
    "        while c < len(s):\n",
    "            r = json.loads(s[c])\n",
    "            for key in r.keys():\n",
    "                choice.append(r[key])\n",
    "            c = c + 1\n",
    "    return choice"
   ]
  },
  {
   "cell_type": "markdown",
   "metadata": {},
   "source": [
    "## AMI"
   ]
  },
  {
   "cell_type": "code",
   "execution_count": 89,
   "metadata": {},
   "outputs": [],
   "source": [
    "# import AMI\n",
    "AMI = pd.read_csv('data_exp_6138-v39_task-j8g3.csv', sep = \",\")\n",
    "#AMI"
   ]
  },
  {
   "cell_type": "code",
   "execution_count": 90,
   "metadata": {},
   "outputs": [],
   "source": [
    "AMI_group = AMI.groupby([\"Participant Private ID\"])['choice made'].apply(list).reset_index()\n",
    "# response = AMI_group['choice made'][0]\n",
    "choice = extract_choice(AMI_group['choice made'])\n",
    "AMI_group = AMI_group.loc[AMI_group.index.repeat(19)] #repeat no of questions times"
   ]
  },
  {
   "cell_type": "code",
   "execution_count": 91,
   "metadata": {},
   "outputs": [],
   "source": [
    "AMI_group['choice'] = choice\n",
    "AMI_group['question_number'] = [1, 2, 3, 4, 5, 6, 7, 8, 9, 10, 11, 12, 13, 14, 15, 16, 17, 18, 19]*100"
   ]
  },
  {
   "cell_type": "code",
   "execution_count": 92,
   "metadata": {},
   "outputs": [
    {
     "name": "stderr",
     "output_type": "stream",
     "text": [
      "/Library/Frameworks/Python.framework/Versions/3.6/lib/python3.6/site-packages/ipykernel_launcher.py:1: SettingWithCopyWarning: \n",
      "A value is trying to be set on a copy of a slice from a DataFrame\n",
      "\n",
      "See the caveats in the documentation: http://pandas.pydata.org/pandas-docs/stable/indexing.html#indexing-view-versus-copy\n",
      "  \"\"\"Entry point for launching an IPython kernel.\n",
      "/Library/Frameworks/Python.framework/Versions/3.6/lib/python3.6/site-packages/ipykernel_launcher.py:2: SettingWithCopyWarning: \n",
      "A value is trying to be set on a copy of a slice from a DataFrame\n",
      "\n",
      "See the caveats in the documentation: http://pandas.pydata.org/pandas-docs/stable/indexing.html#indexing-view-versus-copy\n",
      "  \n",
      "/Library/Frameworks/Python.framework/Versions/3.6/lib/python3.6/site-packages/ipykernel_launcher.py:3: SettingWithCopyWarning: \n",
      "A value is trying to be set on a copy of a slice from a DataFrame\n",
      "\n",
      "See the caveats in the documentation: http://pandas.pydata.org/pandas-docs/stable/indexing.html#indexing-view-versus-copy\n",
      "  This is separate from the ipykernel package so we can avoid doing imports until\n",
      "/Library/Frameworks/Python.framework/Versions/3.6/lib/python3.6/site-packages/ipykernel_launcher.py:4: SettingWithCopyWarning: \n",
      "A value is trying to be set on a copy of a slice from a DataFrame\n",
      "\n",
      "See the caveats in the documentation: http://pandas.pydata.org/pandas-docs/stable/indexing.html#indexing-view-versus-copy\n",
      "  after removing the cwd from sys.path.\n",
      "/Library/Frameworks/Python.framework/Versions/3.6/lib/python3.6/site-packages/ipykernel_launcher.py:5: SettingWithCopyWarning: \n",
      "A value is trying to be set on a copy of a slice from a DataFrame\n",
      "\n",
      "See the caveats in the documentation: http://pandas.pydata.org/pandas-docs/stable/indexing.html#indexing-view-versus-copy\n",
      "  \"\"\"\n"
     ]
    }
   ],
   "source": [
    "AMI_group.choice[AMI_group.choice == \"Completely UNTRUE\"] = 4\n",
    "AMI_group.choice[AMI_group.choice == \"Mostly untrue\"] = 3\n",
    "AMI_group.choice[AMI_group.choice == \"Neither true nor untrue\"] = 2\n",
    "AMI_group.choice[AMI_group.choice == \"Quite true\"] = 1\n",
    "AMI_group.choice[AMI_group.choice == \"Completely TRUE\"] = 0"
   ]
  },
  {
   "cell_type": "code",
   "execution_count": 93,
   "metadata": {},
   "outputs": [],
   "source": [
    "# by taking the mean rating of the items within the subscale.\n",
    "# bAMI = questions [5 9 10 11 12 16]\n",
    "# sAMI = questions [2 3 4  8  15 18]\n",
    "# eAMI = questions [1 6 7  14 17 19]\n",
    "# trick_question = 13\n",
    "# tAMI = sum\n",
    "bAMI = AMI_group[(AMI_group.question_number == 5)|(AMI_group.question_number == 9)|(AMI_group.question_number == 10)|(AMI_group.question_number == 11)|(AMI_group.question_number == 12)|(AMI_group.question_number == 16)]\n",
    "sAMI = AMI_group[(AMI_group.question_number == 2)|(AMI_group.question_number == 3)|(AMI_group.question_number == 4)|(AMI_group.question_number == 8)|(AMI_group.question_number == 15)|(AMI_group.question_number == 18)]\n",
    "eAMI = AMI_group[(AMI_group.question_number == 1)|(AMI_group.question_number == 6)|(AMI_group.question_number == 7)|(AMI_group.question_number == 14)|(AMI_group.question_number == 17)|(AMI_group.question_number == 19)]\n",
    "trick_AMI = AMI_group[(AMI_group.question_number == 13)]\n",
    "bAMI = bAMI.groupby(['Participant Private ID'])['choice'].sum().reset_index()\n",
    "bAMI.columns = ['id', 'bAMI']\n",
    "bAMI['score'] = bAMI['bAMI']/6\n",
    "sAMI = sAMI.groupby(['Participant Private ID'])['choice'].sum().reset_index()\n",
    "sAMI.columns = ['id', 'sAMI']\n",
    "sAMI['score'] = sAMI['sAMI']/6\n",
    "eAMI = eAMI.groupby(['Participant Private ID'])['choice'].sum().reset_index()\n",
    "eAMI.columns = ['id', 'eAMI']\n",
    "eAMI['score'] = eAMI['eAMI']/6\n",
    "AMI_final = {'id': bAMI['id'], 'bAMI': bAMI['score'], 'sAMI': sAMI['score'], 'eAMI': eAMI['score']}\n",
    "AMI_final = pd.DataFrame(data=AMI_final)\n",
    "AMI_final['tAMI'] = (bAMI['score'] + sAMI['score'] + eAMI['score'])/3"
   ]
  },
  {
   "cell_type": "code",
   "execution_count": 94,
   "metadata": {},
   "outputs": [],
   "source": [
    "AMI_final.to_csv('AMI_100.csv', sep = ',', encoding='utf-8')"
   ]
  },
  {
   "cell_type": "markdown",
   "metadata": {},
   "source": [
    "## HAD"
   ]
  },
  {
   "cell_type": "code",
   "execution_count": 104,
   "metadata": {},
   "outputs": [],
   "source": [
    "# import HAD\n",
    "HAD = pd.read_csv('data_exp_6138-v39_task-w8es.csv', sep = \",\")\n",
    "HAD.drop(HAD.tail(1).index,inplace=True)\n",
    "HAD = HAD[HAD['Participant Private ID'] != 668245] # twice"
   ]
  },
  {
   "cell_type": "code",
   "execution_count": 105,
   "metadata": {},
   "outputs": [],
   "source": [
    "HAD_group = HAD.groupby([\"Participant Private ID\"])['choice made'].apply(list).reset_index()\n",
    "choice = extract_choice(HAD_group['choice made'])\n",
    "HAD_group = HAD_group.loc[HAD_group.index.repeat(15)]\n"
   ]
  },
  {
   "cell_type": "code",
   "execution_count": 106,
   "metadata": {},
   "outputs": [
    {
     "data": {
      "text/plain": [
       "99"
      ]
     },
     "execution_count": 106,
     "metadata": {},
     "output_type": "execute_result"
    }
   ],
   "source": [
    "len(HAD_group[\"Participant Private ID\"].unique())"
   ]
  },
  {
   "cell_type": "code",
   "execution_count": 107,
   "metadata": {},
   "outputs": [],
   "source": [
    "HAD_group['choice'] = choice\n",
    "HAD_group['question_number'] = [1, 2, 3, 4, 5, 6, 7, 8, 9, 10, 11, 12, 13, 14, 15]*99"
   ]
  },
  {
   "cell_type": "code",
   "execution_count": 108,
   "metadata": {},
   "outputs": [],
   "source": [
    "# question 12 is the trick question\n",
    "HAD_group['scale'] = [{\"Most of the time\" : 3, \"A lot of the time\": 2, \"From time to time, occasionally\" : 1, \"Not at all\":0},\n",
    "                      {\"Nearly all the time\": 3, \"Very often\": 2, \"Sometimes\": 1, \"Not at all\":0},\n",
    "                      {\"Definitely as much\":0, \"Not quite so much\":1, \"Only a little\":2, \"Hardly at all\":3},\n",
    "                      {\"Not at all\":0, \"Occasionally\":1, \"Quite Often\":2, \"Very Often\":3},\n",
    "                      {\"Very definitely and quite badly\":3, \"Yes, but not too badly\":2, \"A little, but it doesn't worry me\":1, \"Not at all\":0},\n",
    "                      {\"Definitely\":3, \"I don't take as much care as I should\":2,\"I may not take quite as much care\":1, \"I take just as much care as ever\":0},\n",
    "                      {\"As much as I always could\":0, \"Not quite so much now\":1, \"Definitely not so much now\":2, \"Not at all\":3},\n",
    "                      {\"Very much indeed\":3, \"Quite a lot\":2,\"Not very much\":1, \"Not at all\":0},\n",
    "                      {\"A great deal of the time\":3, \"A lot of the time\":2, \"From time to time, but not too often\":1,\"Only occasionally\":0},\n",
    "                      {\"As much as I ever did\":0, \"Rather less than I used to\":1, \"Definitely less than I used to\":2, \"Hardly at all\":3},\n",
    "                      {\"Not at all\":3, \"Not often\":2,\"Sometimes\":1, \"Most of the time\":0},\n",
    "                      {\"Not at all\":3, \"Not often\":2,\"Sometimes\":1, \"Most of the time\":0},\n",
    "                      {\"Very often indeed\":3, \"Quite often\":2,\"Not very often\":1, \"Not at all\":0},\n",
    "                      {\"Definitely\":0, \"Usually\":1, \"Not Often\":2,\"Not at all\":3},\n",
    "                      {\"Often\":0, \"Sometimes\":1,\"Not often\":2, \"Very seldom\":3}]*99"
   ]
  },
  {
   "cell_type": "code",
   "execution_count": 109,
   "metadata": {},
   "outputs": [],
   "source": [
    "# 1, 2, 3, 4, 5, 6, 7, 8, 9, 10, 11, 12,    13, 14, 15\n",
    "# A, D, D, A, A, D, D, A, A, D,   D,  trick, A,  A, D\n",
    "\n",
    "# anxiety =  [1, 4, 5, 8, 9, 13, 14]\n",
    "# depression = [2, 3, 6, 7, 10, 11, 15]\n",
    "\n",
    "value = []\n",
    "for index, row in HAD_group.iterrows():\n",
    "    d = row[\"scale\"]\n",
    "    k = row['choice']\n",
    "    value.append(d[k])\n",
    "HAD_group['value'] = value\n",
    "\n",
    "depression = HAD_group[(HAD_group.question_number == 2)|(HAD_group.question_number == 3)|(HAD_group.question_number == 6)|(HAD_group.question_number == 7)|(HAD_group.question_number == 10)|(HAD_group.question_number == 11)|(HAD_group.question_number == 15)]\n",
    "anxiety = HAD_group[(HAD_group.question_number == 1)|(HAD_group.question_number == 4)|(HAD_group.question_number == 5)|(HAD_group.question_number == 8)|(HAD_group.question_number == 9)|(HAD_group.question_number == 13)|(HAD_group.question_number == 14)]\n",
    "trick = HAD_group[(HAD_group.question_number == 12)]"
   ]
  },
  {
   "cell_type": "code",
   "execution_count": 110,
   "metadata": {},
   "outputs": [],
   "source": [
    "depression = depression.groupby(['Participant Private ID'])['value'].sum().reset_index()\n",
    "depression.columns = ['id', 'depression']\n",
    "anxiety = anxiety.groupby(['Participant Private ID'])['value'].sum().reset_index()\n",
    "anxiety.columns = ['id', 'anxiety']\n",
    "#HAD_group.head(5)"
   ]
  },
  {
   "cell_type": "code",
   "execution_count": 111,
   "metadata": {},
   "outputs": [],
   "source": [
    "HAD_final = {'id': anxiety['id'], 'anxiety': anxiety['anxiety'], 'depression': depression['depression']}\n",
    "HAD_final = pd.DataFrame(data=HAD_final)\n",
    "HAD_final['tHAD'] = anxiety['anxiety'] + depression['depression']\n",
    "\n",
    "HAD_final.to_csv('HAD_99.csv', sep = ',', encoding='utf-8')"
   ]
  },
  {
   "cell_type": "markdown",
   "metadata": {},
   "source": [
    "## Baratt"
   ]
  },
  {
   "cell_type": "code",
   "execution_count": 112,
   "metadata": {},
   "outputs": [],
   "source": [
    "# import Baratt\n",
    "barrat = pd.read_csv('data_exp_6138-v39_task-df75.csv', sep = \",\")\n",
    "barrat.drop(barrat.tail(1).index,inplace=True)"
   ]
  },
  {
   "cell_type": "code",
   "execution_count": 113,
   "metadata": {},
   "outputs": [],
   "source": [
    "barrat_group = barrat.groupby([\"Participant Private ID\"])['choice made'].apply(list).reset_index()\n",
    "choice = extract_choice(barrat_group['choice made'])\n",
    "barrat_group = barrat_group.loc[barrat_group.index.repeat(31)]"
   ]
  },
  {
   "cell_type": "code",
   "execution_count": 114,
   "metadata": {},
   "outputs": [],
   "source": [
    "barrat_group['choice'] = choice\n",
    "barrat_group['question_number'] = [1, 2, 3, 4, 5, 6, 7, 8, 9, 10, 11, 12, 13, 14, 15, 16, 17, 18,\n",
    "                                  19, 20, 21,22, 23, 24, 25, 26, 27, 28, 29, 30, 31]*100"
   ]
  },
  {
   "cell_type": "code",
   "execution_count": 115,
   "metadata": {},
   "outputs": [
    {
     "name": "stderr",
     "output_type": "stream",
     "text": [
      "/Library/Frameworks/Python.framework/Versions/3.6/lib/python3.6/site-packages/ipykernel_launcher.py:2: SettingWithCopyWarning: \n",
      "A value is trying to be set on a copy of a slice from a DataFrame\n",
      "\n",
      "See the caveats in the documentation: http://pandas.pydata.org/pandas-docs/stable/indexing.html#indexing-view-versus-copy\n",
      "  \n",
      "/Library/Frameworks/Python.framework/Versions/3.6/lib/python3.6/site-packages/pandas/core/generic.py:8682: SettingWithCopyWarning: \n",
      "A value is trying to be set on a copy of a slice from a DataFrame\n",
      "\n",
      "See the caveats in the documentation: http://pandas.pydata.org/pandas-docs/stable/indexing.html#indexing-view-versus-copy\n",
      "  self._update_inplace(new_data)\n",
      "/Library/Frameworks/Python.framework/Versions/3.6/lib/python3.6/site-packages/IPython/core/interactiveshell.py:3291: SettingWithCopyWarning: \n",
      "A value is trying to be set on a copy of a slice from a DataFrame\n",
      "\n",
      "See the caveats in the documentation: http://pandas.pydata.org/pandas-docs/stable/indexing.html#indexing-view-versus-copy\n",
      "  exec(code_obj, self.user_global_ns, self.user_ns)\n",
      "/Library/Frameworks/Python.framework/Versions/3.6/lib/python3.6/site-packages/ipykernel_launcher.py:3: SettingWithCopyWarning: \n",
      "A value is trying to be set on a copy of a slice from a DataFrame\n",
      "\n",
      "See the caveats in the documentation: http://pandas.pydata.org/pandas-docs/stable/indexing.html#indexing-view-versus-copy\n",
      "  This is separate from the ipykernel package so we can avoid doing imports until\n",
      "/Library/Frameworks/Python.framework/Versions/3.6/lib/python3.6/site-packages/ipykernel_launcher.py:4: SettingWithCopyWarning: \n",
      "A value is trying to be set on a copy of a slice from a DataFrame\n",
      "\n",
      "See the caveats in the documentation: http://pandas.pydata.org/pandas-docs/stable/indexing.html#indexing-view-versus-copy\n",
      "  after removing the cwd from sys.path.\n",
      "/Library/Frameworks/Python.framework/Versions/3.6/lib/python3.6/site-packages/ipykernel_launcher.py:5: SettingWithCopyWarning: \n",
      "A value is trying to be set on a copy of a slice from a DataFrame\n",
      "\n",
      "See the caveats in the documentation: http://pandas.pydata.org/pandas-docs/stable/indexing.html#indexing-view-versus-copy\n",
      "  \"\"\"\n"
     ]
    }
   ],
   "source": [
    "reverse_barrat = barrat_group[barrat_group['question_number'].isin([9, 21,31, 1, 7, 8, 13, 14, 10, 16, 30])]\n",
    "reverse_barrat.choice[reverse_barrat.choice == \"Rarely/Never\"] = 4\n",
    "reverse_barrat.choice[reverse_barrat.choice == \"Occasionally\"] = 3\n",
    "reverse_barrat.choice[reverse_barrat.choice == \"Often\"] = 2\n",
    "reverse_barrat.choice[reverse_barrat.choice == \"Almost always/Always\"] = 1"
   ]
  },
  {
   "cell_type": "code",
   "execution_count": 116,
   "metadata": {},
   "outputs": [],
   "source": [
    "# trick question\n",
    "trick_barrat = barrat_group[barrat_group['question_number']==12]"
   ]
  },
  {
   "cell_type": "code",
   "execution_count": 117,
   "metadata": {},
   "outputs": [
    {
     "name": "stderr",
     "output_type": "stream",
     "text": [
      "/Library/Frameworks/Python.framework/Versions/3.6/lib/python3.6/site-packages/ipykernel_launcher.py:3: SettingWithCopyWarning: \n",
      "A value is trying to be set on a copy of a slice from a DataFrame\n",
      "\n",
      "See the caveats in the documentation: http://pandas.pydata.org/pandas-docs/stable/indexing.html#indexing-view-versus-copy\n",
      "  This is separate from the ipykernel package so we can avoid doing imports until\n",
      "/Library/Frameworks/Python.framework/Versions/3.6/lib/python3.6/site-packages/ipykernel_launcher.py:4: SettingWithCopyWarning: \n",
      "A value is trying to be set on a copy of a slice from a DataFrame\n",
      "\n",
      "See the caveats in the documentation: http://pandas.pydata.org/pandas-docs/stable/indexing.html#indexing-view-versus-copy\n",
      "  after removing the cwd from sys.path.\n",
      "/Library/Frameworks/Python.framework/Versions/3.6/lib/python3.6/site-packages/ipykernel_launcher.py:5: SettingWithCopyWarning: \n",
      "A value is trying to be set on a copy of a slice from a DataFrame\n",
      "\n",
      "See the caveats in the documentation: http://pandas.pydata.org/pandas-docs/stable/indexing.html#indexing-view-versus-copy\n",
      "  \"\"\"\n"
     ]
    }
   ],
   "source": [
    "barrat_group = barrat_group[barrat_group['question_number'].isin([5,11,29, 6, 25, 27, 2, 3, 4, 18, 20, 23, 26, 17, 22, 24,15, 19, 29])]\n",
    "barrat_group.choice[barrat_group.choice == \"Rarely/Never\"] = 1\n",
    "barrat_group.choice[barrat_group.choice == \"Occasionally\"] = 2\n",
    "barrat_group.choice[barrat_group.choice == \"Often\"] = 3\n",
    "barrat_group.choice[barrat_group.choice == \"Almost always/Always\"] = 4"
   ]
  },
  {
   "cell_type": "code",
   "execution_count": 118,
   "metadata": {},
   "outputs": [],
   "source": [
    "barrat_group = pd.concat([barrat_group,reverse_barrat,trick_barrat])"
   ]
  },
  {
   "cell_type": "code",
   "execution_count": 120,
   "metadata": {},
   "outputs": [],
   "source": [
    "# trick 12\n",
    "\n",
    "# attentional =  [5, 9*, 11, 21*, 29, 6, 25, 27]\n",
    "# attention = [5, 9*, 11, 21*, 29]\n",
    "# Cognitive Instability = [6, 25, 27]\n",
    "# motor = [2, 3, 4, 18, 20, 23, 26, 17, 22, 24, 31*]\n",
    "# Motor = [2, 3, 4, 18, 20, 23, 26]\n",
    "# Perseverance = [17, 22, 24, 31*]\n",
    "# Nonplanning = [1*, 7*, 8*, 13*, 14*, 15, 10*, 16*, 19, 29, 30*]\n",
    "# Self-Control = [1*, 7*, 8*, 13*, 14*, 15]\n",
    "# Cognitive Complexity = [10*, 16*, 19, 28, 30*]\n",
    "attention = barrat_group[(barrat_group.question_number == 5)|(barrat_group.question_number == 9)|(barrat_group.question_number == 11)|(barrat_group.question_number == 21)|(barrat_group.question_number == 29)]\n",
    "cognitive_instable = barrat_group[(barrat_group.question_number == 6)|(barrat_group.question_number == 25)|(barrat_group.question_number == 27)]\n",
    "motor = barrat_group[(barrat_group.question_number == 2)|(barrat_group.question_number == 3)|(barrat_group.question_number == 4)|(barrat_group.question_number == 18)|\n",
    "                     (barrat_group.question_number == 20)|(barrat_group.question_number == 23)|(barrat_group.question_number == 26)]\n",
    "perseverance = barrat_group[(barrat_group.question_number == 17)|(barrat_group .question_number == 22)|(barrat_group.question_number == 24)|(barrat_group.question_number == 31)]\n",
    "self_control = barrat_group[(barrat_group.question_number == 1)|(barrat_group.question_number == 7)|(barrat_group.question_number == 8)|(barrat_group.question_number == 13)|(barrat_group.question_number == 14)|(barrat_group.question_number == 15)]\n",
    "cognitive_complexity = barrat_group[(barrat_group.question_number == 10)|(barrat_group.question_number == 16)|(barrat_group.question_number == 19)|(barrat_group.question_number == 28)|(barrat_group.question_number == 30)]\n",
    "trick = barrat_group[barrat_group.question_number == 12]\n",
    "\n"
   ]
  },
  {
   "cell_type": "code",
   "execution_count": 126,
   "metadata": {},
   "outputs": [],
   "source": [
    "#trick\n",
    "#668249, 672614, 675732, 672593"
   ]
  },
  {
   "cell_type": "code",
   "execution_count": 121,
   "metadata": {},
   "outputs": [],
   "source": [
    "attention = attention.groupby(['Participant Private ID'])['choice'].sum().reset_index()\n",
    "attention.columns = ['id', 'attention']\n",
    "cognitive_instable = cognitive_instable.groupby(['Participant Private ID'])['choice'].sum().reset_index()\n",
    "cognitive_instable.columns = ['id', 'cognitive_instable']\n",
    "motor = motor.groupby(['Participant Private ID'])['choice'].sum().reset_index()\n",
    "motor.columns = ['id', 'motor']\n",
    "perseverance = perseverance.groupby(['Participant Private ID'])['choice'].sum().reset_index()\n",
    "perseverance.columns = ['id', 'perseverance']\n",
    "self_control = self_control.groupby(['Participant Private ID'])['choice'].sum().reset_index()\n",
    "self_control.columns = ['id', 'self_control']\n",
    "cognitive_complexity = cognitive_complexity.groupby(['Participant Private ID'])['choice'].sum().reset_index()\n",
    "cognitive_complexity.columns = ['id', 'cognitive_complexity']"
   ]
  },
  {
   "cell_type": "code",
   "execution_count": 123,
   "metadata": {},
   "outputs": [],
   "source": [
    "barrat_final = {'id': attention['id'], 'attention': attention['attention'], \n",
    "                'cognitive_instable': cognitive_instable['cognitive_instable'],\n",
    "               'motor': motor['motor'],\n",
    "               'perseverance': perseverance['perseverance'],\n",
    "               'self_control': self_control['self_control'],\n",
    "               'cognitive_complexity': cognitive_complexity['cognitive_complexity']}\n",
    "barrat_final = pd.DataFrame(data=barrat_final)\n",
    "barrat_final['attentional'] = attention['attention'] + cognitive_instable['cognitive_instable']\n",
    "barrat_final['motor_0'] = motor['motor'] + perseverance['perseverance']\n",
    "barrat_final['nonplanning'] = self_control['self_control'] + cognitive_complexity['cognitive_complexity']\n",
    "barrat_final['total'] = barrat_final['attentional'] + barrat_final['motor_0'] + barrat_final['nonplanning']\n"
   ]
  },
  {
   "cell_type": "code",
   "execution_count": 127,
   "metadata": {},
   "outputs": [],
   "source": [
    "barrat_final.to_csv('barrat_100.csv', sep = ',', encoding='utf-8')"
   ]
  },
  {
   "cell_type": "markdown",
   "metadata": {},
   "source": [
    "## Pleasure"
   ]
  },
  {
   "cell_type": "code",
   "execution_count": 128,
   "metadata": {},
   "outputs": [],
   "source": [
    "# import pleasure\n",
    "pleasure = pd.read_csv('data_exp_6138-v39_task-uvof.csv', sep = \",\")\n",
    "pleasure.drop(pleasure.tail(1).index,inplace=True)"
   ]
  },
  {
   "cell_type": "code",
   "execution_count": 129,
   "metadata": {},
   "outputs": [],
   "source": [
    "pleasure_group = pleasure.groupby([\"Participant Private ID\"])['choice made'].apply(list).reset_index()\n",
    "choice = extract_choice(pleasure_group['choice made'])\n",
    "pleasure_group = pleasure_group.loc[pleasure_group.index.repeat(15)]"
   ]
  },
  {
   "cell_type": "code",
   "execution_count": 131,
   "metadata": {},
   "outputs": [],
   "source": [
    "pleasure_group['choice'] = choice\n",
    "pleasure_group['question_number'] = [1, 2, 3, 4, 5, 6, 7, 8, 9, 10, 11, 12, 13, 14, 15]*100"
   ]
  },
  {
   "cell_type": "code",
   "execution_count": 132,
   "metadata": {},
   "outputs": [
    {
     "name": "stderr",
     "output_type": "stream",
     "text": [
      "/Library/Frameworks/Python.framework/Versions/3.6/lib/python3.6/site-packages/ipykernel_launcher.py:5: SettingWithCopyWarning: \n",
      "A value is trying to be set on a copy of a slice from a DataFrame\n",
      "\n",
      "See the caveats in the documentation: http://pandas.pydata.org/pandas-docs/stable/indexing.html#indexing-view-versus-copy\n",
      "  \"\"\"\n",
      "/Library/Frameworks/Python.framework/Versions/3.6/lib/python3.6/site-packages/ipykernel_launcher.py:6: SettingWithCopyWarning: \n",
      "A value is trying to be set on a copy of a slice from a DataFrame\n",
      "\n",
      "See the caveats in the documentation: http://pandas.pydata.org/pandas-docs/stable/indexing.html#indexing-view-versus-copy\n",
      "  \n",
      "/Library/Frameworks/Python.framework/Versions/3.6/lib/python3.6/site-packages/ipykernel_launcher.py:7: SettingWithCopyWarning: \n",
      "A value is trying to be set on a copy of a slice from a DataFrame\n",
      "\n",
      "See the caveats in the documentation: http://pandas.pydata.org/pandas-docs/stable/indexing.html#indexing-view-versus-copy\n",
      "  import sys\n",
      "/Library/Frameworks/Python.framework/Versions/3.6/lib/python3.6/site-packages/ipykernel_launcher.py:8: SettingWithCopyWarning: \n",
      "A value is trying to be set on a copy of a slice from a DataFrame\n",
      "\n",
      "See the caveats in the documentation: http://pandas.pydata.org/pandas-docs/stable/indexing.html#indexing-view-versus-copy\n",
      "  \n"
     ]
    }
   ],
   "source": [
    "# Definitely Agree (= 1)\n",
    "# Agree (= 2)\n",
    "# Disagree (= 3)\n",
    "# Definitely Disagree (= 4)\n",
    "pleasure_group.choice[pleasure_group.choice == \"Strongly agree\"] = 1\n",
    "pleasure_group.choice[pleasure_group.choice == \"Agree\"] = 2\n",
    "pleasure_group.choice[pleasure_group.choice == \"Disagree\"] = 3\n",
    "pleasure_group.choice[pleasure_group.choice == \"Strongly disagree\"] = 4"
   ]
  },
  {
   "cell_type": "code",
   "execution_count": 133,
   "metadata": {},
   "outputs": [],
   "source": [
    "trick = pleasure_group[pleasure_group.question_number == 8]\n",
    "#trick.head(100)"
   ]
  },
  {
   "cell_type": "code",
   "execution_count": 134,
   "metadata": {},
   "outputs": [
    {
     "data": {
      "text/plain": [
       "100"
      ]
     },
     "execution_count": 134,
     "metadata": {},
     "output_type": "execute_result"
    }
   ],
   "source": [
    "pleasure_final = {'id': pleasure_group['Participant Private ID']}\n",
    "pleasure_final = pd.DataFrame(data=pleasure_final)\n",
    "p = pleasure_group.groupby('Participant Private ID')['choice'].sum().reset_index(name = 'total')\n",
    "pleasure_final['total'] = p['total']\n",
    "pleasure_final=pleasure_final.drop_duplicates()\n",
    "len(pleasure_final)"
   ]
  },
  {
   "cell_type": "code",
   "execution_count": 136,
   "metadata": {},
   "outputs": [],
   "source": [
    "pleasure_final.to_csv('pleasure_100.csv', sep = ',', encoding='utf-8')"
   ]
  },
  {
   "cell_type": "markdown",
   "metadata": {},
   "source": [
    "## Fatigue"
   ]
  },
  {
   "cell_type": "code",
   "execution_count": 137,
   "metadata": {},
   "outputs": [],
   "source": [
    "# import fatigue\n",
    "fatigue = pd.read_csv('data_exp_6138-v39_task-j95b.csv', sep = \",\")\n",
    "fatigue.drop(fatigue.tail(1).index,inplace=True)"
   ]
  },
  {
   "cell_type": "code",
   "execution_count": 138,
   "metadata": {},
   "outputs": [],
   "source": [
    "fatigue_group = fatigue.groupby([\"Participant Private ID\"])['choice made'].apply(list).reset_index()\n",
    "choice_fatigue= extract_choice(fatigue_group['choice made'])\n",
    "fatigue_group = fatigue_group.loc[fatigue_group.index.repeat(22)]"
   ]
  },
  {
   "cell_type": "code",
   "execution_count": 139,
   "metadata": {},
   "outputs": [],
   "source": [
    "fatigue_group['choice'] = choice_fatigue\n",
    "fatigue_group['question_number'] = [1, 2, 3, 4, 5, 6, 7, 8, 9, 10, 11, 12, 13, 14, 15, 16, 17, 18,\n",
    "                                  19, 20, 21,22]*100"
   ]
  },
  {
   "cell_type": "code",
   "execution_count": 140,
   "metadata": {},
   "outputs": [
    {
     "name": "stderr",
     "output_type": "stream",
     "text": [
      "/Library/Frameworks/Python.framework/Versions/3.6/lib/python3.6/site-packages/ipykernel_launcher.py:3: SettingWithCopyWarning: \n",
      "A value is trying to be set on a copy of a slice from a DataFrame\n",
      "\n",
      "See the caveats in the documentation: http://pandas.pydata.org/pandas-docs/stable/indexing.html#indexing-view-versus-copy\n",
      "  This is separate from the ipykernel package so we can avoid doing imports until\n",
      "/Library/Frameworks/Python.framework/Versions/3.6/lib/python3.6/site-packages/ipykernel_launcher.py:4: SettingWithCopyWarning: \n",
      "A value is trying to be set on a copy of a slice from a DataFrame\n",
      "\n",
      "See the caveats in the documentation: http://pandas.pydata.org/pandas-docs/stable/indexing.html#indexing-view-versus-copy\n",
      "  after removing the cwd from sys.path.\n",
      "/Library/Frameworks/Python.framework/Versions/3.6/lib/python3.6/site-packages/ipykernel_launcher.py:5: SettingWithCopyWarning: \n",
      "A value is trying to be set on a copy of a slice from a DataFrame\n",
      "\n",
      "See the caveats in the documentation: http://pandas.pydata.org/pandas-docs/stable/indexing.html#indexing-view-versus-copy\n",
      "  \"\"\"\n",
      "/Library/Frameworks/Python.framework/Versions/3.6/lib/python3.6/site-packages/ipykernel_launcher.py:6: SettingWithCopyWarning: \n",
      "A value is trying to be set on a copy of a slice from a DataFrame\n",
      "\n",
      "See the caveats in the documentation: http://pandas.pydata.org/pandas-docs/stable/indexing.html#indexing-view-versus-copy\n",
      "  \n",
      "/Library/Frameworks/Python.framework/Versions/3.6/lib/python3.6/site-packages/ipykernel_launcher.py:7: SettingWithCopyWarning: \n",
      "A value is trying to be set on a copy of a slice from a DataFrame\n",
      "\n",
      "See the caveats in the documentation: http://pandas.pydata.org/pandas-docs/stable/indexing.html#indexing-view-versus-copy\n",
      "  import sys\n"
     ]
    }
   ],
   "source": [
    "# 'Never', 'Rarely', 'Sometimes', 'Often', 'Almost always'\n",
    "#   0         1          2            3           4\n",
    "fatigue_group.choice[fatigue_group.choice == \"Never\"] = 0\n",
    "fatigue_group.choice[fatigue_group.choice == \"Rarely\"] = 1\n",
    "fatigue_group.choice[fatigue_group.choice == \"Sometimes\"] = 2\n",
    "fatigue_group.choice[fatigue_group.choice == \"Often\"] = 3\n",
    "fatigue_group.choice[fatigue_group.choice == \"Almost always\"] = 4"
   ]
  },
  {
   "cell_type": "code",
   "execution_count": 141,
   "metadata": {},
   "outputs": [],
   "source": [
    "# trick question 5\n",
    "# Physical 4, 7, 8, 11, 14, 15, 18, 21, 22\n",
    "# Cognitive 1, 2, 3, 6, 12, 13, 16, 17, 19, 20\n",
    "# Psychosocial 9, 10\n",
    "\n",
    "fatigue_physical = fatigue_group[fatigue_group['question_number'].isin([4, 7, 8, 11, 14, 15, 18, 21, 22])]\n",
    "fatigue_cognitive = fatigue_group[fatigue_group['question_number'].isin([1, 2, 3, 6, 12, 13, 16, 17, 19, 20])]\n",
    "fatigue_psychological = fatigue_group[fatigue_group['question_number'].isin([9, 10])]\n",
    "fatigue_trick = fatigue_group[fatigue_group['question_number'].isin([5])]"
   ]
  },
  {
   "cell_type": "code",
   "execution_count": 142,
   "metadata": {},
   "outputs": [],
   "source": [
    "physical = fatigue_physical.groupby(['Participant Private ID'])['choice'].sum().reset_index()\n",
    "physical.columns = ['id', 'physical']\n",
    "cognitive = fatigue_cognitive.groupby(['Participant Private ID'])['choice'].sum().reset_index()\n",
    "cognitive.columns = ['id', 'cognitive']\n",
    "psychological = fatigue_psychological.groupby(['Participant Private ID'])['choice'].sum().reset_index()\n",
    "psychological.columns = ['id', 'psychological']"
   ]
  },
  {
   "cell_type": "code",
   "execution_count": 144,
   "metadata": {},
   "outputs": [],
   "source": [
    "fatigue_final = {'id': physical['id'], 'physical': physical['physical'], \n",
    "                'cognitive': cognitive['cognitive'],\n",
    "               'psychological': psychological['psychological']}\n",
    "fatigue_final = pd.DataFrame(data=fatigue_final)\n",
    "fatigue_final['total'] = fatigue_final['physical'] + fatigue_final['cognitive'] + fatigue_final['psychological']\n",
    "\n",
    "fatigue_final.to_csv('fatigue_100.csv', sep = ',', encoding='utf-8')"
   ]
  }
 ],
 "metadata": {
  "kernelspec": {
   "display_name": "Python 3",
   "language": "python",
   "name": "python3"
  },
  "language_info": {
   "codemirror_mode": {
    "name": "ipython",
    "version": 3
   },
   "file_extension": ".py",
   "mimetype": "text/x-python",
   "name": "python",
   "nbconvert_exporter": "python",
   "pygments_lexer": "ipython3",
   "version": "3.6.3"
  }
 },
 "nbformat": 4,
 "nbformat_minor": 2
}
