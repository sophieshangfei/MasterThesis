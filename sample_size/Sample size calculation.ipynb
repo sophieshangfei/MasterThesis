{
 "cells": [
  {
   "cell_type": "code",
   "execution_count": 1,
   "metadata": {
    "collapsed": true
   },
   "outputs": [],
   "source": [
    "import numpy as np\n",
    "import pandas as pd\n",
    "from statsmodels.stats.power import tt_solve_power\n",
    "import csv"
   ]
  },
  {
   "cell_type": "code",
   "execution_count": 2,
   "metadata": {
    "collapsed": true
   },
   "outputs": [],
   "source": [
    "data = pd.read_csv('tapdata.csv')"
   ]
  },
  {
   "cell_type": "code",
   "execution_count": 3,
   "metadata": {},
   "outputs": [
    {
     "data": {
      "text/plain": [
       "85.61904761904762"
      ]
     },
     "execution_count": 3,
     "metadata": {},
     "output_type": "execute_result"
    }
   ],
   "source": [
    "mean_pair_diff = np.mean(data.iloc[:,0] - data.iloc[:,1])\n",
    "mean_pair_diff"
   ]
  },
  {
   "cell_type": "markdown",
   "metadata": {},
   "source": [
    "calculate pooled standard deviation"
   ]
  },
  {
   "cell_type": "code",
   "execution_count": 4,
   "metadata": {},
   "outputs": [
    {
     "name": "stdout",
     "output_type": "stream",
     "text": [
      "170.084279496\n"
     ]
    }
   ],
   "source": [
    "std_pooled = np.sqrt(0.5*(np.var(data.iloc[:,0]) + np.var(data.iloc[:,1])))\n",
    "print (std_pooled)\n"
   ]
  },
  {
   "cell_type": "markdown",
   "metadata": {},
   "source": [
    "Define effect size\n",
    "<br>\n",
    "reduce the mean paired difference by 10, 15 and 20%."
   ]
  },
  {
   "cell_type": "code",
   "execution_count": 69,
   "metadata": {
    "collapsed": true
   },
   "outputs": [],
   "source": [
    "effect = [0.1, 0.15, 0.2]\n",
    "effect_size = [mean_pair_diff*(1-e) for e in effect]\n",
    "standard_effect_size = effect_size/std_pooled"
   ]
  },
  {
   "cell_type": "markdown",
   "metadata": {},
   "source": [
    "Calculate sample size for each group"
   ]
  },
  {
   "cell_type": "code",
   "execution_count": 62,
   "metadata": {},
   "outputs": [
    {
     "name": "stdout",
     "output_type": "stream",
     "text": [
      "Number in the group when paired standardised mean difference is 77.06: 40.20\n",
      "Number in the group when paired standardised mean difference is 72.78: 44.83\n",
      "Number in the group when paired standardised mean difference is 68.50: 50.35\n"
     ]
    }
   ],
   "source": [
    "sample_size = []\n",
    "for e in effect_size:\n",
    "    n = tt_solve_power(e/std_pooled, alpha=0.05, power=0.8, alternative='two-sided')\n",
    "    sample_size.append(n)\n",
    "    print('Number in the group when paired standardised mean difference is {:<4.2f}: {:.2f}'.format(e, n))"
   ]
  },
  {
   "cell_type": "code",
   "execution_count": 89,
   "metadata": {},
   "outputs": [
    {
     "data": {
      "text/html": [
       "<div>\n",
       "<style>\n",
       "    .dataframe thead tr:only-child th {\n",
       "        text-align: right;\n",
       "    }\n",
       "\n",
       "    .dataframe thead th {\n",
       "        text-align: left;\n",
       "    }\n",
       "\n",
       "    .dataframe tbody tr th {\n",
       "        vertical-align: top;\n",
       "    }\n",
       "</style>\n",
       "<table border=\"1\" class=\"dataframe\">\n",
       "  <thead>\n",
       "    <tr style=\"text-align: right;\">\n",
       "      <th></th>\n",
       "      <th>effect_size/raw_change</th>\n",
       "      <th>percentage change</th>\n",
       "      <th>sample_size</th>\n",
       "      <th>standardized effect size</th>\n",
       "    </tr>\n",
       "  </thead>\n",
       "  <tbody>\n",
       "    <tr>\n",
       "      <th>0</th>\n",
       "      <td>77.057143</td>\n",
       "      <td>0.10</td>\n",
       "      <td>40.202263</td>\n",
       "      <td>0.453053</td>\n",
       "    </tr>\n",
       "    <tr>\n",
       "      <th>1</th>\n",
       "      <td>72.776190</td>\n",
       "      <td>0.15</td>\n",
       "      <td>44.828948</td>\n",
       "      <td>0.427883</td>\n",
       "    </tr>\n",
       "    <tr>\n",
       "      <th>2</th>\n",
       "      <td>68.495238</td>\n",
       "      <td>0.20</td>\n",
       "      <td>50.351035</td>\n",
       "      <td>0.402714</td>\n",
       "    </tr>\n",
       "  </tbody>\n",
       "</table>\n",
       "</div>"
      ],
      "text/plain": [
       "   effect_size/raw_change  percentage change  sample_size  \\\n",
       "0               77.057143               0.10    40.202263   \n",
       "1               72.776190               0.15    44.828948   \n",
       "2               68.495238               0.20    50.351035   \n",
       "\n",
       "   standardized effect size  \n",
       "0                  0.453053  \n",
       "1                  0.427883  \n",
       "2                  0.402714  "
      ]
     },
     "execution_count": 89,
     "metadata": {},
     "output_type": "execute_result"
    }
   ],
   "source": [
    "d = {'sample_size': sample_size, 'effect_size/raw_change': effect_size, 'percentage change': effect, 'standardized effect size': standard_effect_size}\n",
    "df = pd.DataFrame(data=d)\n",
    "df"
   ]
  },
  {
   "cell_type": "code",
   "execution_count": null,
   "metadata": {
    "collapsed": true
   },
   "outputs": [],
   "source": []
  }
 ],
 "metadata": {
  "kernelspec": {
   "display_name": "Python 3",
   "language": "python",
   "name": "python3"
  },
  "language_info": {
   "codemirror_mode": {
    "name": "ipython",
    "version": 3
   },
   "file_extension": ".py",
   "mimetype": "text/x-python",
   "name": "python",
   "nbconvert_exporter": "python",
   "pygments_lexer": "ipython3",
   "version": "3.6.0"
  }
 },
 "nbformat": 4,
 "nbformat_minor": 2
}
