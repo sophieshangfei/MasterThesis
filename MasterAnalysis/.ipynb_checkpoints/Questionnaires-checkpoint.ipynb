{
 "cells": [
  {
   "cell_type": "code",
   "execution_count": 1,
   "metadata": {},
   "outputs": [],
   "source": [
    "import pandas as pd\n",
    "import numpy as np\n",
    "import matplotlib.pyplot as plt\n",
    "import csv\n",
    "import json\n",
    "import seaborn as sns\n",
    "from sklearn import linear_model\n",
    "import sklearn as sk\n",
    "import statsmodels.api as sm\n",
    "from statsmodels.formula.api import ols\n",
    "from statsmodels.formula.api import mixedlm\n",
    "import statsmodels as sm\n",
    "from statsmodels.sandbox.regression.predstd import wls_prediction_std\n",
    "from scipy import stats as ss\n",
    "from scipy import stats\n",
    "import scipy.io as sio\n",
    "from statsmodels import robust\n",
    "%matplotlib inline"
   ]
  },
  {
   "cell_type": "code",
   "execution_count": 2,
   "metadata": {},
   "outputs": [],
   "source": [
    "#get rid of scientific notation\n",
    "pd.set_option('display.float_format', lambda x: '%.3f' % x)"
   ]
  },
  {
   "cell_type": "code",
   "execution_count": 3,
   "metadata": {},
   "outputs": [],
   "source": [
    "pd.set_option('display.max_columns', 300)\n",
    "pd.set_option('display.max_rows', None)"
   ]
  },
  {
   "cell_type": "markdown",
   "metadata": {},
   "source": [
    "## Demographics"
   ]
  },
  {
   "cell_type": "code",
   "execution_count": 4,
   "metadata": {},
   "outputs": [],
   "source": [
    "demographics = pd.read_csv('data_exp_6138-v39_questionnaire-zk38.csv', sep = \",\")\n",
    "#demographics.head(15)\n",
    "# we asked them 7 questions in total"
   ]
  },
  {
   "cell_type": "code",
   "execution_count": 5,
   "metadata": {},
   "outputs": [],
   "source": [
    "demographics = demographics[demographics['Question Key'] != 'BEGIN QUESTIONNAIRE']\n",
    "demographics = demographics[demographics['Question Key'] != 'END QUESTIONNAIRE']\n",
    "demographics['id'] = demographics['Participant Private ID']\n",
    "demographics['question'] = demographics['Question Key']\n",
    "demographics['response'] = demographics['Response']\n",
    "demographics = demographics[['id', 'question', 'response']]"
   ]
  },
  {
   "cell_type": "code",
   "execution_count": 6,
   "metadata": {},
   "outputs": [],
   "source": [
    "d = pd.pivot_table(demographics, index = 'id', columns = 'question', values = 'response', aggfunc='first')\n",
    "d = d.reset_index()\n",
    "d.columns= ['id','age', 'confirmation_1', 'confirmation_2', 'gender', 'gender_numeric','handedness', 'handedness_numeric', 'degree', 'degree_numeric']\n"
   ]
  },
  {
   "cell_type": "code",
   "execution_count": 7,
   "metadata": {},
   "outputs": [
    {
     "name": "stderr",
     "output_type": "stream",
     "text": [
      "/Library/Frameworks/Python.framework/Versions/3.6/lib/python3.6/site-packages/ipykernel_launcher.py:7: SettingWithCopyWarning: \n",
      "A value is trying to be set on a copy of a slice from a DataFrame.\n",
      "Try using .loc[row_indexer,col_indexer] = value instead\n",
      "\n",
      "See the caveats in the documentation: http://pandas.pydata.org/pandas-docs/stable/indexing.html#indexing-view-versus-copy\n",
      "  import sys\n",
      "/Library/Frameworks/Python.framework/Versions/3.6/lib/python3.6/site-packages/ipykernel_launcher.py:8: SettingWithCopyWarning: \n",
      "A value is trying to be set on a copy of a slice from a DataFrame.\n",
      "Try using .loc[row_indexer,col_indexer] = value instead\n",
      "\n",
      "See the caveats in the documentation: http://pandas.pydata.org/pandas-docs/stable/indexing.html#indexing-view-versus-copy\n",
      "  \n"
     ]
    }
   ],
   "source": [
    "demographics_corr=demographics\n",
    "demographics_corr['id']=demographics_corr['id'].astype('str')\n",
    "demographics_corr = demographics_corr.reset_index()\n",
    "demographics_corr = demographics_corr.drop('index', axis =1).set_index('id')\n",
    "demographics_corr = demographics_corr.pivot(columns='question',values='response')\n",
    "demographics_data = demographics_corr[['age-1','gender-1']]\n",
    "demographics_data['gender'] = np.where(demographics_data['gender-1']=='Male', 0, demographics_data['gender-1'])\n",
    "demographics_data['gender'] = np.where(demographics_data['gender-1']=='Female', 1, demographics_data['gender-1'])\n",
    "\n",
    "\n"
   ]
  },
  {
   "cell_type": "markdown",
   "metadata": {},
   "source": [
    "## Questionnaire Data "
   ]
  },
  {
   "cell_type": "code",
   "execution_count": 8,
   "metadata": {},
   "outputs": [],
   "source": [
    "def extract_choice(ser):\n",
    "    choice = []\n",
    "    for s in ser:\n",
    "        c = 0\n",
    "        while c < len(s):\n",
    "            r = json.loads(s[c])\n",
    "            for key in r.keys():\n",
    "                choice.append(r[key])\n",
    "            c = c + 1\n",
    "    return choice"
   ]
  },
  {
   "cell_type": "markdown",
   "metadata": {},
   "source": [
    "### AMI"
   ]
  },
  {
   "cell_type": "code",
   "execution_count": 9,
   "metadata": {},
   "outputs": [],
   "source": [
    "# import AMI\n",
    "AMI = pd.read_csv('data_exp_6138-v39_task-j8g3.csv', sep = \",\")\n",
    "#AMI"
   ]
  },
  {
   "cell_type": "code",
   "execution_count": 10,
   "metadata": {},
   "outputs": [],
   "source": [
    "AMI_group = AMI.groupby([\"Participant Private ID\"])['choice made'].apply(list).reset_index()\n",
    "# response = AMI_group['choice made'][0]\n",
    "choice = extract_choice(AMI_group['choice made'])\n",
    "AMI_group = AMI_group.loc[AMI_group.index.repeat(19)] #repeat no of questions times"
   ]
  },
  {
   "cell_type": "code",
   "execution_count": 11,
   "metadata": {},
   "outputs": [],
   "source": [
    "AMI_group['choice'] = choice\n",
    "AMI_group['question_number'] = [1, 2, 3, 4, 5, 6, 7, 8, 9, 10, 11, 12, 13, 14, 15, 16, 17, 18, 19]*100"
   ]
  },
  {
   "cell_type": "code",
   "execution_count": 12,
   "metadata": {},
   "outputs": [
    {
     "name": "stderr",
     "output_type": "stream",
     "text": [
      "/Library/Frameworks/Python.framework/Versions/3.6/lib/python3.6/site-packages/ipykernel_launcher.py:1: SettingWithCopyWarning: \n",
      "A value is trying to be set on a copy of a slice from a DataFrame\n",
      "\n",
      "See the caveats in the documentation: http://pandas.pydata.org/pandas-docs/stable/indexing.html#indexing-view-versus-copy\n",
      "  \"\"\"Entry point for launching an IPython kernel.\n",
      "/Library/Frameworks/Python.framework/Versions/3.6/lib/python3.6/site-packages/ipykernel_launcher.py:2: SettingWithCopyWarning: \n",
      "A value is trying to be set on a copy of a slice from a DataFrame\n",
      "\n",
      "See the caveats in the documentation: http://pandas.pydata.org/pandas-docs/stable/indexing.html#indexing-view-versus-copy\n",
      "  \n",
      "/Library/Frameworks/Python.framework/Versions/3.6/lib/python3.6/site-packages/ipykernel_launcher.py:3: SettingWithCopyWarning: \n",
      "A value is trying to be set on a copy of a slice from a DataFrame\n",
      "\n",
      "See the caveats in the documentation: http://pandas.pydata.org/pandas-docs/stable/indexing.html#indexing-view-versus-copy\n",
      "  This is separate from the ipykernel package so we can avoid doing imports until\n",
      "/Library/Frameworks/Python.framework/Versions/3.6/lib/python3.6/site-packages/ipykernel_launcher.py:4: SettingWithCopyWarning: \n",
      "A value is trying to be set on a copy of a slice from a DataFrame\n",
      "\n",
      "See the caveats in the documentation: http://pandas.pydata.org/pandas-docs/stable/indexing.html#indexing-view-versus-copy\n",
      "  after removing the cwd from sys.path.\n",
      "/Library/Frameworks/Python.framework/Versions/3.6/lib/python3.6/site-packages/ipykernel_launcher.py:5: SettingWithCopyWarning: \n",
      "A value is trying to be set on a copy of a slice from a DataFrame\n",
      "\n",
      "See the caveats in the documentation: http://pandas.pydata.org/pandas-docs/stable/indexing.html#indexing-view-versus-copy\n",
      "  \"\"\"\n"
     ]
    }
   ],
   "source": [
    "AMI_group.choice[AMI_group.choice == \"Completely UNTRUE\"] = 4\n",
    "AMI_group.choice[AMI_group.choice == \"Mostly untrue\"] = 3\n",
    "AMI_group.choice[AMI_group.choice == \"Neither true nor untrue\"] = 2\n",
    "AMI_group.choice[AMI_group.choice == \"Quite true\"] = 1\n",
    "AMI_group.choice[AMI_group.choice == \"Completely TRUE\"] = 0"
   ]
  },
  {
   "cell_type": "code",
   "execution_count": 13,
   "metadata": {},
   "outputs": [],
   "source": [
    "# by taking the mean rating of the items within the subscale.\n",
    "# bAMI = questions [5 9 10 11 12 16]\n",
    "# sAMI = questions [2 3 4  8  15 18]\n",
    "# eAMI = questions [1 6 7  14 17 19]\n",
    "# trick_question = 13\n",
    "# tAMI = sum\n",
    "bAMI = AMI_group[(AMI_group.question_number == 5)|(AMI_group.question_number == 9)|(AMI_group.question_number == 10)|(AMI_group.question_number == 11)|(AMI_group.question_number == 12)|(AMI_group.question_number == 16)]\n",
    "sAMI = AMI_group[(AMI_group.question_number == 2)|(AMI_group.question_number == 3)|(AMI_group.question_number == 4)|(AMI_group.question_number == 8)|(AMI_group.question_number == 15)|(AMI_group.question_number == 18)]\n",
    "eAMI = AMI_group[(AMI_group.question_number == 1)|(AMI_group.question_number == 6)|(AMI_group.question_number == 7)|(AMI_group.question_number == 14)|(AMI_group.question_number == 17)|(AMI_group.question_number == 19)]\n",
    "trick_AMI = AMI_group[(AMI_group.question_number == 13)]\n",
    "bAMI = bAMI.groupby(['Participant Private ID'])['choice'].sum().reset_index()\n",
    "bAMI.columns = ['id', 'bAMI']\n",
    "bAMI['score'] = bAMI['bAMI']/6\n",
    "sAMI = sAMI.groupby(['Participant Private ID'])['choice'].sum().reset_index()\n",
    "sAMI.columns = ['id', 'sAMI']\n",
    "sAMI['score'] = sAMI['sAMI']/6\n",
    "eAMI = eAMI.groupby(['Participant Private ID'])['choice'].sum().reset_index()\n",
    "eAMI.columns = ['id', 'eAMI']\n",
    "eAMI['score'] = eAMI['eAMI']/6\n",
    "AMI_final = {'id': bAMI['id'], 'bAMI': bAMI['score'], 'sAMI': sAMI['score'], 'eAMI': eAMI['score']}\n",
    "AMI_final = pd.DataFrame(data=AMI_final)\n",
    "AMI_final['tAMI'] = (bAMI['score'] + sAMI['score'] + eAMI['score'])/3"
   ]
  },
  {
   "cell_type": "markdown",
   "metadata": {},
   "source": [
    "### HADS"
   ]
  },
  {
   "cell_type": "code",
   "execution_count": 14,
   "metadata": {},
   "outputs": [],
   "source": [
    "# import HAD\n",
    "HADS = pd.read_csv('data_exp_6138-v39_task-w8es.csv', sep = \",\")\n",
    "HADS.drop(HADS.tail(1).index,inplace=True)\n",
    "HADS = HADS[HADS['Participant Private ID'] != 668245] # twice"
   ]
  },
  {
   "cell_type": "code",
   "execution_count": 15,
   "metadata": {},
   "outputs": [],
   "source": [
    "HADS_group = HADS.groupby([\"Participant Private ID\"])['choice made'].apply(list).reset_index()\n",
    "choice = extract_choice(HADS_group['choice made'])\n",
    "HADS_group = HADS_group.loc[HADS_group.index.repeat(15)]"
   ]
  },
  {
   "cell_type": "code",
   "execution_count": 16,
   "metadata": {},
   "outputs": [],
   "source": [
    "HADS_group['choice'] = choice\n",
    "HADS_group['question_number'] = [1, 2, 3, 4, 5, 6, 7, 8, 9, 10, 11, 12, 13, 14, 15]*99"
   ]
  },
  {
   "cell_type": "code",
   "execution_count": 17,
   "metadata": {},
   "outputs": [],
   "source": [
    "# question 12 is the trick question\n",
    "HADS_group['scale'] = [{\"Most of the time\" : 3, \"A lot of the time\": 2, \"From time to time, occasionally\" : 1, \"Not at all\":0},\n",
    "                      {\"Nearly all the time\": 3, \"Very often\": 2, \"Sometimes\": 1, \"Not at all\":0},\n",
    "                      {\"Definitely as much\":0, \"Not quite so much\":1, \"Only a little\":2, \"Hardly at all\":3},\n",
    "                      {\"Not at all\":0, \"Occasionally\":1, \"Quite Often\":2, \"Very Often\":3},\n",
    "                      {\"Very definitely and quite badly\":3, \"Yes, but not too badly\":2, \"A little, but it doesn't worry me\":1, \"Not at all\":0},\n",
    "                      {\"Definitely\":3, \"I don't take as much care as I should\":2,\"I may not take quite as much care\":1, \"I take just as much care as ever\":0},\n",
    "                      {\"As much as I always could\":0, \"Not quite so much now\":1, \"Definitely not so much now\":2, \"Not at all\":3},\n",
    "                      {\"Very much indeed\":3, \"Quite a lot\":2,\"Not very much\":1, \"Not at all\":0},\n",
    "                      {\"A great deal of the time\":3, \"A lot of the time\":2, \"From time to time, but not too often\":1,\"Only occasionally\":0},\n",
    "                      {\"As much as I ever did\":0, \"Rather less than I used to\":1, \"Definitely less than I used to\":2, \"Hardly at all\":3},\n",
    "                      {\"Not at all\":3, \"Not often\":2,\"Sometimes\":1, \"Most of the time\":0},\n",
    "                      {\"Not at all\":3, \"Not often\":2,\"Sometimes\":1, \"Most of the time\":0},\n",
    "                      {\"Very often indeed\":3, \"Quite often\":2,\"Not very often\":1, \"Not at all\":0},\n",
    "                      {\"Definitely\":0, \"Usually\":1, \"Not Often\":2,\"Not at all\":3},\n",
    "                      {\"Often\":0, \"Sometimes\":1,\"Not often\":2, \"Very seldom\":3}]*99"
   ]
  },
  {
   "cell_type": "code",
   "execution_count": 18,
   "metadata": {},
   "outputs": [],
   "source": [
    "# 1, 2, 3, 4, 5, 6, 7, 8, 9, 10, 11, 12,    13, 14, 15\n",
    "# A, D, D, A, A, D, D, A, A, D,   D,  trick, A,  A, D\n",
    "\n",
    "# anxiety =  [1, 4, 5, 8, 9, 13, 14]\n",
    "# depression = [2, 3, 6, 7, 10, 11, 15]\n",
    "\n",
    "value = []\n",
    "for index, row in HADS_group.iterrows():\n",
    "    d = row[\"scale\"]\n",
    "    k = row['choice']\n",
    "    value.append(d[k])\n",
    "HADS_group['value'] = value\n",
    "\n",
    "depression = HADS_group[(HADS_group.question_number == 2)|(HADS_group.question_number == 3)|(HADS_group.question_number == 6)|(HADS_group.question_number == 7)|(HADS_group.question_number == 10)|(HADS_group.question_number == 11)|(HADS_group.question_number == 15)]\n",
    "anxiety = HADS_group[(HADS_group.question_number == 1)|(HADS_group.question_number == 4)|(HADS_group.question_number == 5)|(HADS_group.question_number == 8)|(HADS_group.question_number == 9)|(HADS_group.question_number == 13)|(HADS_group.question_number == 14)]\n",
    "trick = HADS_group[(HADS_group.question_number == 12)]\n"
   ]
  },
  {
   "cell_type": "code",
   "execution_count": 19,
   "metadata": {},
   "outputs": [],
   "source": [
    "depression = depression.groupby(['Participant Private ID'])['value'].sum().reset_index()\n",
    "depression.columns = ['id', 'depression']\n",
    "anxiety = anxiety.groupby(['Participant Private ID'])['value'].sum().reset_index()\n",
    "anxiety.columns = ['id', 'anxiety']\n",
    "#HAD_group.head(5)"
   ]
  },
  {
   "cell_type": "code",
   "execution_count": 20,
   "metadata": {},
   "outputs": [],
   "source": [
    "HADS_final = {'id': anxiety['id'], 'anxiety': anxiety['anxiety'], 'depression': depression['depression']}\n",
    "HADS_final = pd.DataFrame(data=HADS_final)\n",
    "HADS_final['tHAD'] = anxiety['anxiety'] + depression['depression']\n",
    "HADS_final.loc[-1] = [668245, np.nan, np.nan,  np.nan]\n"
   ]
  },
  {
   "cell_type": "markdown",
   "metadata": {},
   "source": [
    "### Baratt "
   ]
  },
  {
   "cell_type": "code",
   "execution_count": 21,
   "metadata": {},
   "outputs": [],
   "source": [
    "# import Baratt\n",
    "barrat = pd.read_csv('data_exp_6138-v39_task-df75.csv', sep = \",\")\n",
    "barrat.drop(barrat.tail(1).index,inplace=True)"
   ]
  },
  {
   "cell_type": "code",
   "execution_count": 22,
   "metadata": {},
   "outputs": [],
   "source": [
    "barrat_group = barrat.groupby([\"Participant Private ID\"])['choice made'].apply(list).reset_index()\n",
    "choice = extract_choice(barrat_group['choice made'])\n",
    "barrat_group = barrat_group.loc[barrat_group.index.repeat(31)]"
   ]
  },
  {
   "cell_type": "code",
   "execution_count": 23,
   "metadata": {},
   "outputs": [],
   "source": [
    "barrat_group['choice'] = choice\n",
    "barrat_group['question_number'] = [1, 2, 3, 4, 5, 6, 7, 8, 9, 10, 11, 12, 13, 14, 15, 16, 17, 18,\n",
    "                                  19, 20, 21,22, 23, 24, 25, 26, 27, 28, 29, 30, 31]*100"
   ]
  },
  {
   "cell_type": "code",
   "execution_count": 24,
   "metadata": {},
   "outputs": [
    {
     "name": "stderr",
     "output_type": "stream",
     "text": [
      "/Library/Frameworks/Python.framework/Versions/3.6/lib/python3.6/site-packages/ipykernel_launcher.py:2: SettingWithCopyWarning: \n",
      "A value is trying to be set on a copy of a slice from a DataFrame\n",
      "\n",
      "See the caveats in the documentation: http://pandas.pydata.org/pandas-docs/stable/indexing.html#indexing-view-versus-copy\n",
      "  \n",
      "/Library/Frameworks/Python.framework/Versions/3.6/lib/python3.6/site-packages/pandas/core/generic.py:8682: SettingWithCopyWarning: \n",
      "A value is trying to be set on a copy of a slice from a DataFrame\n",
      "\n",
      "See the caveats in the documentation: http://pandas.pydata.org/pandas-docs/stable/indexing.html#indexing-view-versus-copy\n",
      "  self._update_inplace(new_data)\n",
      "/Library/Frameworks/Python.framework/Versions/3.6/lib/python3.6/site-packages/IPython/core/interactiveshell.py:3291: SettingWithCopyWarning: \n",
      "A value is trying to be set on a copy of a slice from a DataFrame\n",
      "\n",
      "See the caveats in the documentation: http://pandas.pydata.org/pandas-docs/stable/indexing.html#indexing-view-versus-copy\n",
      "  exec(code_obj, self.user_global_ns, self.user_ns)\n",
      "/Library/Frameworks/Python.framework/Versions/3.6/lib/python3.6/site-packages/ipykernel_launcher.py:3: SettingWithCopyWarning: \n",
      "A value is trying to be set on a copy of a slice from a DataFrame\n",
      "\n",
      "See the caveats in the documentation: http://pandas.pydata.org/pandas-docs/stable/indexing.html#indexing-view-versus-copy\n",
      "  This is separate from the ipykernel package so we can avoid doing imports until\n",
      "/Library/Frameworks/Python.framework/Versions/3.6/lib/python3.6/site-packages/ipykernel_launcher.py:4: SettingWithCopyWarning: \n",
      "A value is trying to be set on a copy of a slice from a DataFrame\n",
      "\n",
      "See the caveats in the documentation: http://pandas.pydata.org/pandas-docs/stable/indexing.html#indexing-view-versus-copy\n",
      "  after removing the cwd from sys.path.\n",
      "/Library/Frameworks/Python.framework/Versions/3.6/lib/python3.6/site-packages/ipykernel_launcher.py:5: SettingWithCopyWarning: \n",
      "A value is trying to be set on a copy of a slice from a DataFrame\n",
      "\n",
      "See the caveats in the documentation: http://pandas.pydata.org/pandas-docs/stable/indexing.html#indexing-view-versus-copy\n",
      "  \"\"\"\n"
     ]
    }
   ],
   "source": [
    "reverse_barrat = barrat_group[barrat_group['question_number'].isin([9, 21,31, 1, 7, 8, 13, 14, 10, 16, 30])]\n",
    "reverse_barrat.choice[reverse_barrat.choice == \"Rarely/Never\"] = 4\n",
    "reverse_barrat.choice[reverse_barrat.choice == \"Occasionally\"] = 3\n",
    "reverse_barrat.choice[reverse_barrat.choice == \"Often\"] = 2\n",
    "reverse_barrat.choice[reverse_barrat.choice == \"Almost always/Always\"] = 1"
   ]
  },
  {
   "cell_type": "code",
   "execution_count": 25,
   "metadata": {},
   "outputs": [],
   "source": [
    "# trick question\n",
    "trick_barrat = barrat_group[barrat_group['question_number']==12]"
   ]
  },
  {
   "cell_type": "code",
   "execution_count": 26,
   "metadata": {},
   "outputs": [
    {
     "name": "stderr",
     "output_type": "stream",
     "text": [
      "/Library/Frameworks/Python.framework/Versions/3.6/lib/python3.6/site-packages/ipykernel_launcher.py:3: SettingWithCopyWarning: \n",
      "A value is trying to be set on a copy of a slice from a DataFrame\n",
      "\n",
      "See the caveats in the documentation: http://pandas.pydata.org/pandas-docs/stable/indexing.html#indexing-view-versus-copy\n",
      "  This is separate from the ipykernel package so we can avoid doing imports until\n",
      "/Library/Frameworks/Python.framework/Versions/3.6/lib/python3.6/site-packages/ipykernel_launcher.py:4: SettingWithCopyWarning: \n",
      "A value is trying to be set on a copy of a slice from a DataFrame\n",
      "\n",
      "See the caveats in the documentation: http://pandas.pydata.org/pandas-docs/stable/indexing.html#indexing-view-versus-copy\n",
      "  after removing the cwd from sys.path.\n",
      "/Library/Frameworks/Python.framework/Versions/3.6/lib/python3.6/site-packages/ipykernel_launcher.py:5: SettingWithCopyWarning: \n",
      "A value is trying to be set on a copy of a slice from a DataFrame\n",
      "\n",
      "See the caveats in the documentation: http://pandas.pydata.org/pandas-docs/stable/indexing.html#indexing-view-versus-copy\n",
      "  \"\"\"\n"
     ]
    }
   ],
   "source": [
    "barrat_group = barrat_group[barrat_group['question_number'].isin([5,11,29, 6, 25, 27, 2, 3, 4, 18, 20, 23, 26, 17, 22, 24,15, 19, 29])]\n",
    "barrat_group.choice[barrat_group.choice == \"Rarely/Never\"] = 1\n",
    "barrat_group.choice[barrat_group.choice == \"Occasionally\"] = 2\n",
    "barrat_group.choice[barrat_group.choice == \"Often\"] = 3\n",
    "barrat_group.choice[barrat_group.choice == \"Almost always/Always\"] = 4"
   ]
  },
  {
   "cell_type": "code",
   "execution_count": 27,
   "metadata": {},
   "outputs": [],
   "source": [
    "barrat_group = pd.concat([barrat_group,reverse_barrat,trick_barrat])"
   ]
  },
  {
   "cell_type": "code",
   "execution_count": 28,
   "metadata": {},
   "outputs": [],
   "source": [
    "# trick 12\n",
    "\n",
    "# attentional =  [5, 9*, 11, 21*, 29, 6, 25, 27]\n",
    "# attention = [5, 9*, 11, 21*, 29]\n",
    "# Cognitive Instability = [6, 25, 27]\n",
    "# motor = [2, 3, 4, 18, 20, 23, 26, 17, 22, 24, 31*]\n",
    "# Motor = [2, 3, 4, 18, 20, 23, 26]\n",
    "# Perseverance = [17, 22, 24, 31*]\n",
    "# Nonplanning = [1*, 7*, 8*, 13*, 14*, 15, 10*, 16*, 19, 29, 30*]\n",
    "# Self-Control = [1*, 7*, 8*, 13*, 14*, 15]\n",
    "# Cognitive Complexity = [10*, 16*, 19, 28, 30*]\n",
    "attention = barrat_group[(barrat_group.question_number == 5)|(barrat_group.question_number == 9)|(barrat_group.question_number == 11)|(barrat_group.question_number == 21)|(barrat_group.question_number == 29)]\n",
    "cognitive_instable = barrat_group[(barrat_group.question_number == 6)|(barrat_group.question_number == 25)|(barrat_group.question_number == 27)]\n",
    "motor = barrat_group[(barrat_group.question_number == 2)|(barrat_group.question_number == 3)|(barrat_group.question_number == 4)|(barrat_group.question_number == 18)|\n",
    "                     (barrat_group.question_number == 20)|(barrat_group.question_number == 23)|(barrat_group.question_number == 26)]\n",
    "perseverance = barrat_group[(barrat_group.question_number == 17)|(barrat_group .question_number == 22)|(barrat_group.question_number == 24)|(barrat_group.question_number == 31)]\n",
    "self_control = barrat_group[(barrat_group.question_number == 1)|(barrat_group.question_number == 7)|(barrat_group.question_number == 8)|(barrat_group.question_number == 13)|(barrat_group.question_number == 14)|(barrat_group.question_number == 15)]\n",
    "cognitive_complexity = barrat_group[(barrat_group.question_number == 10)|(barrat_group.question_number == 16)|(barrat_group.question_number == 19)|(barrat_group.question_number == 28)|(barrat_group.question_number == 30)]\n",
    "trick = barrat_group[barrat_group.question_number == 12]\n",
    "\n"
   ]
  },
  {
   "cell_type": "code",
   "execution_count": 29,
   "metadata": {},
   "outputs": [],
   "source": [
    "attention = attention.groupby(['Participant Private ID'])['choice'].sum().reset_index()\n",
    "attention.columns = ['id', 'attention']\n",
    "cognitive_instable = cognitive_instable.groupby(['Participant Private ID'])['choice'].sum().reset_index()\n",
    "cognitive_instable.columns = ['id', 'cognitive_instable']\n",
    "motor = motor.groupby(['Participant Private ID'])['choice'].sum().reset_index()\n",
    "motor.columns = ['id', 'motor']\n",
    "perseverance = perseverance.groupby(['Participant Private ID'])['choice'].sum().reset_index()\n",
    "perseverance.columns = ['id', 'perseverance']\n",
    "self_control = self_control.groupby(['Participant Private ID'])['choice'].sum().reset_index()\n",
    "self_control.columns = ['id', 'self_control']\n",
    "cognitive_complexity = cognitive_complexity.groupby(['Participant Private ID'])['choice'].sum().reset_index()\n",
    "cognitive_complexity.columns = ['id', 'cognitive_complexity']"
   ]
  },
  {
   "cell_type": "code",
   "execution_count": 30,
   "metadata": {},
   "outputs": [],
   "source": [
    "barrat_final = {'id': attention['id'], 'attention': attention['attention'], \n",
    "                'cognitive_instable': cognitive_instable['cognitive_instable'],\n",
    "               'motor': motor['motor'],\n",
    "               'perseverance': perseverance['perseverance'],\n",
    "               'self_control': self_control['self_control'],\n",
    "               'cognitive_complexity': cognitive_complexity['cognitive_complexity']}\n",
    "barrat_final = pd.DataFrame(data=barrat_final)\n",
    "barrat_final['attentional'] = attention['attention'] + cognitive_instable['cognitive_instable']\n",
    "barrat_final['motor_0'] = motor['motor'] + perseverance['perseverance']\n",
    "barrat_final['nonplanning'] = self_control['self_control'] + cognitive_complexity['cognitive_complexity']\n",
    "barrat_final['total'] = barrat_final['attentional'] + barrat_final['motor_0'] + barrat_final['nonplanning']\n"
   ]
  },
  {
   "cell_type": "markdown",
   "metadata": {},
   "source": [
    "### Pleasure"
   ]
  },
  {
   "cell_type": "code",
   "execution_count": 31,
   "metadata": {},
   "outputs": [],
   "source": [
    "# import pleasure\n",
    "pleasure = pd.read_csv('data_exp_6138-v39_task-uvof.csv', sep = \",\")\n",
    "pleasure.drop(pleasure.tail(1).index,inplace=True)"
   ]
  },
  {
   "cell_type": "code",
   "execution_count": 32,
   "metadata": {},
   "outputs": [],
   "source": [
    "pleasure_group = pleasure.groupby([\"Participant Private ID\"])['choice made'].apply(list).reset_index()\n",
    "choice = extract_choice(pleasure_group['choice made'])\n",
    "pleasure_group = pleasure_group.loc[pleasure_group.index.repeat(15)]"
   ]
  },
  {
   "cell_type": "code",
   "execution_count": 33,
   "metadata": {},
   "outputs": [],
   "source": [
    "pleasure_group['choice'] = choice\n",
    "pleasure_group['question_number'] = [1, 2, 3, 4, 5, 6, 7, 8, 9, 10, 11, 12, 13, 14, 15]*100"
   ]
  },
  {
   "cell_type": "code",
   "execution_count": 34,
   "metadata": {},
   "outputs": [
    {
     "name": "stderr",
     "output_type": "stream",
     "text": [
      "/Library/Frameworks/Python.framework/Versions/3.6/lib/python3.6/site-packages/ipykernel_launcher.py:5: SettingWithCopyWarning: \n",
      "A value is trying to be set on a copy of a slice from a DataFrame\n",
      "\n",
      "See the caveats in the documentation: http://pandas.pydata.org/pandas-docs/stable/indexing.html#indexing-view-versus-copy\n",
      "  \"\"\"\n",
      "/Library/Frameworks/Python.framework/Versions/3.6/lib/python3.6/site-packages/ipykernel_launcher.py:6: SettingWithCopyWarning: \n",
      "A value is trying to be set on a copy of a slice from a DataFrame\n",
      "\n",
      "See the caveats in the documentation: http://pandas.pydata.org/pandas-docs/stable/indexing.html#indexing-view-versus-copy\n",
      "  \n",
      "/Library/Frameworks/Python.framework/Versions/3.6/lib/python3.6/site-packages/ipykernel_launcher.py:7: SettingWithCopyWarning: \n",
      "A value is trying to be set on a copy of a slice from a DataFrame\n",
      "\n",
      "See the caveats in the documentation: http://pandas.pydata.org/pandas-docs/stable/indexing.html#indexing-view-versus-copy\n",
      "  import sys\n",
      "/Library/Frameworks/Python.framework/Versions/3.6/lib/python3.6/site-packages/ipykernel_launcher.py:8: SettingWithCopyWarning: \n",
      "A value is trying to be set on a copy of a slice from a DataFrame\n",
      "\n",
      "See the caveats in the documentation: http://pandas.pydata.org/pandas-docs/stable/indexing.html#indexing-view-versus-copy\n",
      "  \n"
     ]
    }
   ],
   "source": [
    "# Definitely Agree (= 1)\n",
    "# Agree (= 2)\n",
    "# Disagree (= 3)\n",
    "# Definitely Disagree (= 4)\n",
    "pleasure_group.choice[pleasure_group.choice == \"Strongly agree\"] = 1\n",
    "pleasure_group.choice[pleasure_group.choice == \"Agree\"] = 2\n",
    "pleasure_group.choice[pleasure_group.choice == \"Disagree\"] = 3\n",
    "pleasure_group.choice[pleasure_group.choice == \"Strongly disagree\"] = 4"
   ]
  },
  {
   "cell_type": "code",
   "execution_count": 35,
   "metadata": {},
   "outputs": [],
   "source": [
    "trick = pleasure_group[pleasure_group.question_number == 8]\n",
    "#trick.head(100)"
   ]
  },
  {
   "cell_type": "code",
   "execution_count": 36,
   "metadata": {},
   "outputs": [
    {
     "data": {
      "text/plain": [
       "100"
      ]
     },
     "execution_count": 36,
     "metadata": {},
     "output_type": "execute_result"
    }
   ],
   "source": [
    "pleasure_final = {'id': pleasure_group['Participant Private ID']}\n",
    "pleasure_final = pd.DataFrame(data=pleasure_final)\n",
    "p = pleasure_group.groupby('Participant Private ID')['choice'].sum().reset_index(name = 'total')\n",
    "pleasure_final['total'] = p['total']\n",
    "pleasure_final=pleasure_final.drop_duplicates()\n",
    "len(pleasure_final)"
   ]
  },
  {
   "cell_type": "markdown",
   "metadata": {},
   "source": [
    "### Fatigue"
   ]
  },
  {
   "cell_type": "code",
   "execution_count": 37,
   "metadata": {},
   "outputs": [],
   "source": [
    "# import fatigue\n",
    "fatigue = pd.read_csv('data_exp_6138-v39_task-j95b.csv', sep = \",\")\n",
    "fatigue.drop(fatigue.tail(1).index,inplace=True)"
   ]
  },
  {
   "cell_type": "code",
   "execution_count": 38,
   "metadata": {},
   "outputs": [],
   "source": [
    "fatigue_group = fatigue.groupby([\"Participant Private ID\"])['choice made'].apply(list).reset_index()\n",
    "choice_fatigue= extract_choice(fatigue_group['choice made'])\n",
    "fatigue_group = fatigue_group.loc[fatigue_group.index.repeat(22)]"
   ]
  },
  {
   "cell_type": "code",
   "execution_count": 39,
   "metadata": {},
   "outputs": [],
   "source": [
    "fatigue_group['choice'] = choice_fatigue\n",
    "fatigue_group['question_number'] = [1, 2, 3, 4, 5, 6, 7, 8, 9, 10, 11, 12, 13, 14, 15, 16, 17, 18,\n",
    "                                  19, 20, 21,22]*100"
   ]
  },
  {
   "cell_type": "code",
   "execution_count": 40,
   "metadata": {},
   "outputs": [
    {
     "name": "stderr",
     "output_type": "stream",
     "text": [
      "/Library/Frameworks/Python.framework/Versions/3.6/lib/python3.6/site-packages/ipykernel_launcher.py:3: SettingWithCopyWarning: \n",
      "A value is trying to be set on a copy of a slice from a DataFrame\n",
      "\n",
      "See the caveats in the documentation: http://pandas.pydata.org/pandas-docs/stable/indexing.html#indexing-view-versus-copy\n",
      "  This is separate from the ipykernel package so we can avoid doing imports until\n",
      "/Library/Frameworks/Python.framework/Versions/3.6/lib/python3.6/site-packages/ipykernel_launcher.py:4: SettingWithCopyWarning: \n",
      "A value is trying to be set on a copy of a slice from a DataFrame\n",
      "\n",
      "See the caveats in the documentation: http://pandas.pydata.org/pandas-docs/stable/indexing.html#indexing-view-versus-copy\n",
      "  after removing the cwd from sys.path.\n",
      "/Library/Frameworks/Python.framework/Versions/3.6/lib/python3.6/site-packages/ipykernel_launcher.py:5: SettingWithCopyWarning: \n",
      "A value is trying to be set on a copy of a slice from a DataFrame\n",
      "\n",
      "See the caveats in the documentation: http://pandas.pydata.org/pandas-docs/stable/indexing.html#indexing-view-versus-copy\n",
      "  \"\"\"\n",
      "/Library/Frameworks/Python.framework/Versions/3.6/lib/python3.6/site-packages/ipykernel_launcher.py:6: SettingWithCopyWarning: \n",
      "A value is trying to be set on a copy of a slice from a DataFrame\n",
      "\n",
      "See the caveats in the documentation: http://pandas.pydata.org/pandas-docs/stable/indexing.html#indexing-view-versus-copy\n",
      "  \n",
      "/Library/Frameworks/Python.framework/Versions/3.6/lib/python3.6/site-packages/ipykernel_launcher.py:7: SettingWithCopyWarning: \n",
      "A value is trying to be set on a copy of a slice from a DataFrame\n",
      "\n",
      "See the caveats in the documentation: http://pandas.pydata.org/pandas-docs/stable/indexing.html#indexing-view-versus-copy\n",
      "  import sys\n"
     ]
    }
   ],
   "source": [
    "# 'Never', 'Rarely', 'Sometimes', 'Often', 'Almost always'\n",
    "#   0         1          2            3           4\n",
    "fatigue_group.choice[fatigue_group.choice == \"Never\"] = 0\n",
    "fatigue_group.choice[fatigue_group.choice == \"Rarely\"] = 1\n",
    "fatigue_group.choice[fatigue_group.choice == \"Sometimes\"] = 2\n",
    "fatigue_group.choice[fatigue_group.choice == \"Often\"] = 3\n",
    "fatigue_group.choice[fatigue_group.choice == \"Almost always\"] = 4"
   ]
  },
  {
   "cell_type": "code",
   "execution_count": 41,
   "metadata": {},
   "outputs": [],
   "source": [
    "# trick question 5\n",
    "# Physical 4, 7, 8, 11, 14, 15, 18, 21, 22\n",
    "# Cognitive 1, 2, 3, 6, 12, 13, 16, 17, 19, 20\n",
    "# Psychosocial 9, 10\n",
    "\n",
    "fatigue_physical = fatigue_group[fatigue_group['question_number'].isin([4, 7, 8, 11, 14, 15, 18, 21, 22])]\n",
    "fatigue_cognitive = fatigue_group[fatigue_group['question_number'].isin([1, 2, 3, 6, 12, 13, 16, 17, 19, 20])]\n",
    "fatigue_psychological = fatigue_group[fatigue_group['question_number'].isin([9, 10])]\n",
    "fatigue_trick = fatigue_group[fatigue_group['question_number'].isin([5])]"
   ]
  },
  {
   "cell_type": "code",
   "execution_count": 42,
   "metadata": {},
   "outputs": [],
   "source": [
    "physical = fatigue_physical.groupby(['Participant Private ID'])['choice'].sum().reset_index()\n",
    "physical.columns = ['id', 'physical']\n",
    "cognitive = fatigue_cognitive.groupby(['Participant Private ID'])['choice'].sum().reset_index()\n",
    "cognitive.columns = ['id', 'cognitive']\n",
    "psychological = fatigue_psychological.groupby(['Participant Private ID'])['choice'].sum().reset_index()\n",
    "psychological.columns = ['id', 'psychological']"
   ]
  },
  {
   "cell_type": "code",
   "execution_count": 43,
   "metadata": {},
   "outputs": [],
   "source": [
    "fatigue_final = {'id': physical['id'], 'physical': physical['physical'], \n",
    "                'cognitive': cognitive['cognitive'],\n",
    "               'psychological': psychological['psychological']}\n",
    "fatigue_final = pd.DataFrame(data=fatigue_final)\n",
    "fatigue_final['total'] = fatigue_final['physical'] + fatigue_final['cognitive'] + fatigue_final['psychological']\n"
   ]
  },
  {
   "cell_type": "markdown",
   "metadata": {},
   "source": [
    "## In Lab"
   ]
  },
  {
   "cell_type": "code",
   "execution_count": 44,
   "metadata": {},
   "outputs": [],
   "source": [
    "# import in-lab data and convert to panda dataframe\n",
    "mat = sio.loadmat('untransformeddataforRN.mat', squeeze_me=True)\n",
    "m = mat['untransformed_data']\n",
    "in_lab = pd.DataFrame(m)\n",
    "in_lab.columns = ['latency', 'price_displayed', \n",
    "             'id', 'price_bin', 'apathy', 'environment_binary']"
   ]
  },
  {
   "cell_type": "markdown",
   "metadata": {},
   "source": [
    "# Into one giant table"
   ]
  },
  {
   "cell_type": "markdown",
   "metadata": {},
   "source": [
    "HADS - The higher the score, the more anxious/depressed you are.\n",
    "<br> AMI - The higher the score, the more apathetic you are.\n",
    "<br> barrat - The higher the score, the more impulsive you are.\n",
    "<br> Pleasure - The higher the score, the less pleasure you experience. Thus, higher levels of present state of anhedonia.\n",
    "<br> Fatigue - higher scores indicate a greater impact of fatigue on a person’s activities."
   ]
  },
  {
   "cell_type": "code",
   "execution_count": 45,
   "metadata": {},
   "outputs": [],
   "source": [
    "HADS_final['id']=HADS_final['id'].astype('str')\n",
    "AMI_final['id']=HADS_final['id'].astype('str')\n",
    "pleasure_final['id']=HADS_final['id'].astype('str')\n",
    "fatigue_final['id']=HADS_final['id'].astype('str')\n",
    "barrat_final['id']=HADS_final['id'].astype('str')"
   ]
  },
  {
   "cell_type": "code",
   "execution_count": 46,
   "metadata": {},
   "outputs": [],
   "source": [
    "HADS_final = HADS_final.reset_index().set_index('id')\n",
    "AMI_final = AMI_final.reset_index().set_index('id')\n",
    "pleasure_final = pleasure_final.reset_index().set_index('id')\n",
    "fatigue_final = fatigue_final.reset_index().set_index('id')\n",
    "barrat_final = barrat_final.reset_index().set_index('id')"
   ]
  },
  {
   "cell_type": "code",
   "execution_count": 47,
   "metadata": {},
   "outputs": [],
   "source": [
    "pleasure_final['pleasure'] = pleasure_final['total']"
   ]
  },
  {
   "cell_type": "code",
   "execution_count": 48,
   "metadata": {},
   "outputs": [],
   "source": [
    "fatigue_final['total_fatigue'] = fatigue_final['total']"
   ]
  },
  {
   "cell_type": "code",
   "execution_count": 49,
   "metadata": {},
   "outputs": [],
   "source": [
    "barrat_final['attentional_0'] = barrat_final['attentional']\n",
    "barrat_final['nonplanning_0'] = barrat_final['nonplanning']\n",
    "barrat_final['barrat_total'] = barrat_final['total']"
   ]
  },
  {
   "cell_type": "code",
   "execution_count": 50,
   "metadata": {},
   "outputs": [],
   "source": [
    "HADS_final = HADS_final[['anxiety', 'depression', 'tHAD']]\n",
    "AMI_final = AMI_final[['bAMI', 'sAMI', 'eAMI', 'tAMI']]\n",
    "pleasure_final = pleasure_final[['pleasure']]\n",
    "fatigue_final = fatigue_final[['physical', 'cognitive', 'psychological', 'total_fatigue']]\n",
    "barrat_final = barrat_final[['attention', 'cognitive_instable', 'motor', 'perseverance', \n",
    "                             'self_control', 'cognitive_complexity', 'attentional_0', 'motor_0', \n",
    "                             'nonplanning_0', 'barrat_total']]\n",
    "\n",
    "\n"
   ]
  },
  {
   "cell_type": "code",
   "execution_count": 51,
   "metadata": {},
   "outputs": [],
   "source": [
    "correlation_table = HADS_final.merge(AMI_final, right_index = True, left_index = True, how = 'right')"
   ]
  },
  {
   "cell_type": "code",
   "execution_count": 52,
   "metadata": {},
   "outputs": [],
   "source": [
    "correlation_table = correlation_table.merge(pleasure_final, right_index = True, left_index = True, how = 'left')"
   ]
  },
  {
   "cell_type": "code",
   "execution_count": 53,
   "metadata": {},
   "outputs": [],
   "source": [
    "correlation_table = correlation_table.merge(fatigue_final, right_index = True, left_index = True, how = 'left')"
   ]
  },
  {
   "cell_type": "code",
   "execution_count": 54,
   "metadata": {},
   "outputs": [],
   "source": [
    "correlation_table= correlation_table.merge(barrat_final, right_index = True, left_index = True, how = 'left')"
   ]
  },
  {
   "cell_type": "code",
   "execution_count": 55,
   "metadata": {},
   "outputs": [
    {
     "data": {
      "text/plain": [
       "100"
      ]
     },
     "execution_count": 55,
     "metadata": {},
     "output_type": "execute_result"
    }
   ],
   "source": [
    "len(correlation_table)"
   ]
  },
  {
   "cell_type": "code",
   "execution_count": 58,
   "metadata": {},
   "outputs": [
    {
     "data": {
      "text/html": [
       "<div>\n",
       "<style scoped>\n",
       "    .dataframe tbody tr th:only-of-type {\n",
       "        vertical-align: middle;\n",
       "    }\n",
       "\n",
       "    .dataframe tbody tr th {\n",
       "        vertical-align: top;\n",
       "    }\n",
       "\n",
       "    .dataframe thead th {\n",
       "        text-align: right;\n",
       "    }\n",
       "</style>\n",
       "<table border=\"1\" class=\"dataframe\">\n",
       "  <thead>\n",
       "    <tr style=\"text-align: right;\">\n",
       "      <th></th>\n",
       "      <th>id</th>\n",
       "      <th>anxiety</th>\n",
       "      <th>depression</th>\n",
       "      <th>tHAD</th>\n",
       "      <th>bAMI</th>\n",
       "      <th>sAMI</th>\n",
       "      <th>eAMI</th>\n",
       "      <th>tAMI</th>\n",
       "      <th>pleasure</th>\n",
       "      <th>physical</th>\n",
       "      <th>cognitive</th>\n",
       "      <th>psychological</th>\n",
       "      <th>total_fatigue</th>\n",
       "      <th>attention</th>\n",
       "      <th>cognitive_instable</th>\n",
       "      <th>motor</th>\n",
       "      <th>perseverance</th>\n",
       "      <th>self_control</th>\n",
       "      <th>cognitive_complexity</th>\n",
       "      <th>attentional_0</th>\n",
       "      <th>motor_0</th>\n",
       "      <th>nonplanning_0</th>\n",
       "      <th>barrat_total</th>\n",
       "    </tr>\n",
       "  </thead>\n",
       "  <tbody>\n",
       "    <tr>\n",
       "      <th>0</th>\n",
       "      <td>668220.0</td>\n",
       "      <td>0.000</td>\n",
       "      <td>0.000</td>\n",
       "      <td>0.000</td>\n",
       "      <td>0.167</td>\n",
       "      <td>0.667</td>\n",
       "      <td>1.167</td>\n",
       "      <td>0.667</td>\n",
       "      <td>18</td>\n",
       "      <td>0</td>\n",
       "      <td>0</td>\n",
       "      <td>0</td>\n",
       "      <td>0</td>\n",
       "      <td>6</td>\n",
       "      <td>4</td>\n",
       "      <td>16</td>\n",
       "      <td>8</td>\n",
       "      <td>9</td>\n",
       "      <td>8</td>\n",
       "      <td>10</td>\n",
       "      <td>24</td>\n",
       "      <td>17</td>\n",
       "      <td>51</td>\n",
       "    </tr>\n",
       "    <tr>\n",
       "      <th>1</th>\n",
       "      <td>668225.0</td>\n",
       "      <td>7.000</td>\n",
       "      <td>5.000</td>\n",
       "      <td>12.000</td>\n",
       "      <td>1.500</td>\n",
       "      <td>2.667</td>\n",
       "      <td>0.667</td>\n",
       "      <td>1.611</td>\n",
       "      <td>30</td>\n",
       "      <td>14</td>\n",
       "      <td>12</td>\n",
       "      <td>5</td>\n",
       "      <td>31</td>\n",
       "      <td>9</td>\n",
       "      <td>5</td>\n",
       "      <td>14</td>\n",
       "      <td>7</td>\n",
       "      <td>14</td>\n",
       "      <td>6</td>\n",
       "      <td>14</td>\n",
       "      <td>21</td>\n",
       "      <td>20</td>\n",
       "      <td>55</td>\n",
       "    </tr>\n",
       "  </tbody>\n",
       "</table>\n",
       "</div>"
      ],
      "text/plain": [
       "         id  anxiety  depression   tHAD  bAMI  sAMI  eAMI  tAMI  pleasure  \\\n",
       "0  668220.0    0.000       0.000  0.000 0.167 0.667 1.167 0.667        18   \n",
       "1  668225.0    7.000       5.000 12.000 1.500 2.667 0.667 1.611        30   \n",
       "\n",
       "   physical  cognitive  psychological  total_fatigue  attention  \\\n",
       "0         0          0              0              0          6   \n",
       "1        14         12              5             31          9   \n",
       "\n",
       "   cognitive_instable  motor  perseverance  self_control  \\\n",
       "0                   4     16             8             9   \n",
       "1                   5     14             7            14   \n",
       "\n",
       "   cognitive_complexity  attentional_0  motor_0  nonplanning_0  barrat_total  \n",
       "0                     8             10       24             17            51  \n",
       "1                     6             14       21             20            55  "
      ]
     },
     "execution_count": 58,
     "metadata": {},
     "output_type": "execute_result"
    }
   ],
   "source": [
    "correlation_table.head(2)"
   ]
  },
  {
   "cell_type": "code",
   "execution_count": 57,
   "metadata": {},
   "outputs": [],
   "source": [
    "correlation_table.reset_index(inplace=True)"
   ]
  },
  {
   "cell_type": "code",
   "execution_count": 59,
   "metadata": {},
   "outputs": [],
   "source": [
    "correlation_table.to_csv('scale_100.csv', sep = ',', encoding='utf-8')"
   ]
  },
  {
   "cell_type": "markdown",
   "metadata": {},
   "source": [
    "# Heatmap for Correlation among All Scales"
   ]
  },
  {
   "cell_type": "code",
   "execution_count": 60,
   "metadata": {},
   "outputs": [],
   "source": [
    "graph = correlation_table.corr()"
   ]
  },
  {
   "cell_type": "code",
   "execution_count": 65,
   "metadata": {},
   "outputs": [
    {
     "data": {
      "image/png": "[encoded data removed]",
      "text/plain": [
       "<Figure size 576x720 with 2 Axes>"
      ]
     },
     "metadata": {
      "needs_background": "light"
     },
     "output_type": "display_data"
    }
   ],
   "source": [
    "plt.figure(figsize=(8, 10))\n",
    "ax = sns.heatmap(\n",
    "    graph, \n",
    "    vmin=-1, vmax=1, center=0,\n",
    "    cmap=sns.diverging_palette(20, 220, n=200),\n",
    "    square=True\n",
    ")\n",
    "ax.set_xticklabels(\n",
    "    ax.get_xticklabels(),\n",
    "    rotation=90,\n",
    "    horizontalalignment='right'\n",
    ");"
   ]
  },
  {
   "cell_type": "markdown",
   "metadata": {},
   "source": [
    "HADS - The higher the score, the more anxious/depressed you are.\n",
    "<br> AMI - The higher the score, the more apathetic you are.\n",
    "<br> barrat - The higher the score, the more impulsive you are.\n",
    "<br> Pleasure - The higher the score, the less pleasure you experience. Thus, higher levels of present state of anhedonia.\n",
    "<br> Fatigue - higher scores indicate a greater impact of fatigue on a person’s activities."
   ]
  },
  {
   "cell_type": "markdown",
   "metadata": {},
   "source": [
    "# Heatmap for Apathy, Impulsivity, Depression and Anxiety\n"
   ]
  },
  {
   "cell_type": "code",
   "execution_count": 86,
   "metadata": {},
   "outputs": [],
   "source": [
    "AMI_barrat_HADS = correlation_table[['anxiety', 'depression', 'tHAD','bAMI', 'sAMI', 'eAMI', 'tAMI',\n",
    "                                    'attention', 'cognitive_instable', 'motor', 'perseverance', \n",
    "                             'self_control', 'cognitive_complexity', 'attentional_0', 'motor_0', \n",
    "                             'nonplanning_0', 'barrat_total']]"
   ]
  },
  {
   "cell_type": "code",
   "execution_count": 71,
   "metadata": {},
   "outputs": [],
   "source": [
    "graph = AMI_barrat_HADS[['anxiety', 'depression', 'tHAD','bAMI', 'sAMI', 'eAMI', 'tAMI',\n",
    "                        'attentional_0', 'motor_0', \n",
    "                             'nonplanning_0', 'barrat_total']].corr()"
   ]
  },
  {
   "cell_type": "code",
   "execution_count": 85,
   "metadata": {},
   "outputs": [
    {
     "data": {
      "image/png": "[encoded data removed]",
      "text/plain": [
       "<Figure size 576x720 with 2 Axes>"
      ]
     },
     "metadata": {
      "needs_background": "light"
     },
     "output_type": "display_data"
    }
   ],
   "source": [
    "plt.figure(figsize=(8, 10))\n",
    "ax = sns.heatmap(\n",
    "    graph, \n",
    "    vmin=-1, vmax=1, center=0,\n",
    "    cmap=sns.diverging_palette(20, 220, n=200),\n",
    "    square=True,\n",
    "    annot=True, linewidths=.5, fmt='.2f'\n",
    ")\n",
    "ax.set_xticklabels(\n",
    "    ax.get_xticklabels(),\n",
    "    rotation=90,\n",
    "    horizontalalignment='center'\n",
    ");"
   ]
  },
  {
   "cell_type": "code",
   "execution_count": 68,
   "metadata": {},
   "outputs": [],
   "source": [
    "graph = AMI_barrat_HADS.corr()"
   ]
  },
  {
   "cell_type": "code",
   "execution_count": 84,
   "metadata": {},
   "outputs": [
    {
     "data": {
      "image/png": "[encoded data removed]",
      "text/plain": [
       "<Figure size 576x720 with 2 Axes>"
      ]
     },
     "metadata": {
      "needs_background": "light"
     },
     "output_type": "display_data"
    }
   ],
   "source": [
    "plt.figure(figsize=(8, 10))\n",
    "ax = sns.heatmap(\n",
    "    graph, \n",
    "    vmin=-1, vmax=1, center=0,\n",
    "    cmap=sns.diverging_palette(20, 220, n=200),\n",
    "    square=True,\n",
    "    annot=True, linewidths=.5, fmt = '.2f'\n",
    ")\n",
    "ax.set_xticklabels(\n",
    "    ax.get_xticklabels(),\n",
    "    rotation=90,\n",
    "    horizontalalignment='center'\n",
    ");"
   ]
  },
  {
   "cell_type": "code",
   "execution_count": 90,
   "metadata": {},
   "outputs": [],
   "source": [
    "from itertools import product"
   ]
  },
  {
   "cell_type": "code",
   "execution_count": 102,
   "metadata": {},
   "outputs": [],
   "source": [
    "def compute_corr_and_p(df1, df2):\n",
    "    corrs = pd.DataFrame(index=df1.columns, columns=df2.columns, dtype=np.float64)\n",
    "    pvals = corrs.copy()\n",
    "    for i, j in product(df1.columns, df2.columns):\n",
    "        corrs.loc[i,j], pvals.loc[i,j] = ss.spearmanr(df1[i], df2[j], nan_policy = 'omit')\n",
    "    return corrs, pvals\n",
    "\n",
    "def plot(corrs, pvals, siglevel=.01):\n",
    "    mask = np.zeros_like(corrs, dtype=np.bool)\n",
    "    mask[np.triu_indices_from(mask) | (pvals >= siglevel) ] = True\n",
    "    \n",
    "    cmap = sns.diverging_palette(220, 10, as_cmap=True)\n",
    "    \n",
    "    sns.heatmap(corrs, mask=mask, cmap=cmap, center=0, square=True, linewidths=.5,\n",
    "           cbar_kws={'shrink': .5})"
   ]
  },
  {
   "cell_type": "code",
   "execution_count": 103,
   "metadata": {},
   "outputs": [],
   "source": [
    "df=AMI_barrat_HADS[['anxiety', 'depression', 'tHAD','bAMI', 'sAMI', 'eAMI', 'tAMI',\n",
    "                        'attentional_0', 'motor_0', \n",
    "                             'nonplanning_0', 'barrat_total']]"
   ]
  },
  {
   "cell_type": "code",
   "execution_count": 104,
   "metadata": {},
   "outputs": [],
   "source": [
    "corrs, pvals = compute_corr_and_p(df, df)"
   ]
  },
  {
   "cell_type": "code",
   "execution_count": 113,
   "metadata": {},
   "outputs": [
    {
     "data": {
      "text/html": [
       "<div>\n",
       "<style scoped>\n",
       "    .dataframe tbody tr th:only-of-type {\n",
       "        vertical-align: middle;\n",
       "    }\n",
       "\n",
       "    .dataframe tbody tr th {\n",
       "        vertical-align: top;\n",
       "    }\n",
       "\n",
       "    .dataframe thead th {\n",
       "        text-align: right;\n",
       "    }\n",
       "</style>\n",
       "<table border=\"1\" class=\"dataframe\">\n",
       "  <thead>\n",
       "    <tr style=\"text-align: right;\">\n",
       "      <th></th>\n",
       "      <th>anxiety</th>\n",
       "      <th>depression</th>\n",
       "      <th>tHAD</th>\n",
       "      <th>bAMI</th>\n",
       "      <th>sAMI</th>\n",
       "      <th>eAMI</th>\n",
       "      <th>tAMI</th>\n",
       "      <th>attentional_0</th>\n",
       "      <th>motor_0</th>\n",
       "      <th>nonplanning_0</th>\n",
       "      <th>barrat_total</th>\n",
       "    </tr>\n",
       "  </thead>\n",
       "  <tbody>\n",
       "    <tr>\n",
       "      <th>anxiety</th>\n",
       "      <td>0.000</td>\n",
       "      <td>0.000</td>\n",
       "      <td>0.000</td>\n",
       "      <td>0.644</td>\n",
       "      <td>0.840</td>\n",
       "      <td>0.749</td>\n",
       "      <td>0.706</td>\n",
       "      <td>0.078</td>\n",
       "      <td>0.702</td>\n",
       "      <td>0.719</td>\n",
       "      <td>0.287</td>\n",
       "    </tr>\n",
       "    <tr>\n",
       "      <th>depression</th>\n",
       "      <td>0.000</td>\n",
       "      <td>0.000</td>\n",
       "      <td>0.000</td>\n",
       "      <td>0.271</td>\n",
       "      <td>0.538</td>\n",
       "      <td>0.803</td>\n",
       "      <td>0.393</td>\n",
       "      <td>0.510</td>\n",
       "      <td>0.386</td>\n",
       "      <td>0.493</td>\n",
       "      <td>0.584</td>\n",
       "    </tr>\n",
       "    <tr>\n",
       "      <th>tHAD</th>\n",
       "      <td>0.000</td>\n",
       "      <td>0.000</td>\n",
       "      <td>0.000</td>\n",
       "      <td>0.862</td>\n",
       "      <td>0.898</td>\n",
       "      <td>0.652</td>\n",
       "      <td>0.922</td>\n",
       "      <td>0.241</td>\n",
       "      <td>0.735</td>\n",
       "      <td>0.892</td>\n",
       "      <td>0.830</td>\n",
       "    </tr>\n",
       "    <tr>\n",
       "      <th>bAMI</th>\n",
       "      <td>0.644</td>\n",
       "      <td>0.271</td>\n",
       "      <td>0.862</td>\n",
       "      <td>0.000</td>\n",
       "      <td>0.000</td>\n",
       "      <td>0.027</td>\n",
       "      <td>0.000</td>\n",
       "      <td>0.000</td>\n",
       "      <td>0.761</td>\n",
       "      <td>0.000</td>\n",
       "      <td>0.007</td>\n",
       "    </tr>\n",
       "    <tr>\n",
       "      <th>sAMI</th>\n",
       "      <td>0.840</td>\n",
       "      <td>0.538</td>\n",
       "      <td>0.898</td>\n",
       "      <td>0.000</td>\n",
       "      <td>0.000</td>\n",
       "      <td>0.090</td>\n",
       "      <td>0.000</td>\n",
       "      <td>0.037</td>\n",
       "      <td>0.038</td>\n",
       "      <td>0.004</td>\n",
       "      <td>0.366</td>\n",
       "    </tr>\n",
       "    <tr>\n",
       "      <th>eAMI</th>\n",
       "      <td>0.749</td>\n",
       "      <td>0.803</td>\n",
       "      <td>0.652</td>\n",
       "      <td>0.027</td>\n",
       "      <td>0.090</td>\n",
       "      <td>0.000</td>\n",
       "      <td>0.000</td>\n",
       "      <td>0.473</td>\n",
       "      <td>0.825</td>\n",
       "      <td>0.037</td>\n",
       "      <td>0.564</td>\n",
       "    </tr>\n",
       "    <tr>\n",
       "      <th>tAMI</th>\n",
       "      <td>0.706</td>\n",
       "      <td>0.393</td>\n",
       "      <td>0.922</td>\n",
       "      <td>0.000</td>\n",
       "      <td>0.000</td>\n",
       "      <td>0.000</td>\n",
       "      <td>0.000</td>\n",
       "      <td>0.005</td>\n",
       "      <td>0.223</td>\n",
       "      <td>0.000</td>\n",
       "      <td>0.040</td>\n",
       "    </tr>\n",
       "    <tr>\n",
       "      <th>attentional_0</th>\n",
       "      <td>0.078</td>\n",
       "      <td>0.510</td>\n",
       "      <td>0.241</td>\n",
       "      <td>0.000</td>\n",
       "      <td>0.037</td>\n",
       "      <td>0.473</td>\n",
       "      <td>0.005</td>\n",
       "      <td>0.000</td>\n",
       "      <td>0.000</td>\n",
       "      <td>0.000</td>\n",
       "      <td>0.000</td>\n",
       "    </tr>\n",
       "    <tr>\n",
       "      <th>motor_0</th>\n",
       "      <td>0.702</td>\n",
       "      <td>0.386</td>\n",
       "      <td>0.735</td>\n",
       "      <td>0.761</td>\n",
       "      <td>0.038</td>\n",
       "      <td>0.825</td>\n",
       "      <td>0.223</td>\n",
       "      <td>0.000</td>\n",
       "      <td>0.000</td>\n",
       "      <td>0.001</td>\n",
       "      <td>0.000</td>\n",
       "    </tr>\n",
       "    <tr>\n",
       "      <th>nonplanning_0</th>\n",
       "      <td>0.719</td>\n",
       "      <td>0.493</td>\n",
       "      <td>0.892</td>\n",
       "      <td>0.000</td>\n",
       "      <td>0.004</td>\n",
       "      <td>0.037</td>\n",
       "      <td>0.000</td>\n",
       "      <td>0.000</td>\n",
       "      <td>0.001</td>\n",
       "      <td>0.000</td>\n",
       "      <td>0.000</td>\n",
       "    </tr>\n",
       "    <tr>\n",
       "      <th>barrat_total</th>\n",
       "      <td>0.287</td>\n",
       "      <td>0.584</td>\n",
       "      <td>0.830</td>\n",
       "      <td>0.007</td>\n",
       "      <td>0.366</td>\n",
       "      <td>0.564</td>\n",
       "      <td>0.040</td>\n",
       "      <td>0.000</td>\n",
       "      <td>0.000</td>\n",
       "      <td>0.000</td>\n",
       "      <td>0.000</td>\n",
       "    </tr>\n",
       "  </tbody>\n",
       "</table>\n",
       "</div>"
      ],
      "text/plain": [
       "               anxiety  depression  tHAD  bAMI  sAMI  eAMI  tAMI  \\\n",
       "anxiety          0.000       0.000 0.000 0.644 0.840 0.749 0.706   \n",
       "depression       0.000       0.000 0.000 0.271 0.538 0.803 0.393   \n",
       "tHAD             0.000       0.000 0.000 0.862 0.898 0.652 0.922   \n",
       "bAMI             0.644       0.271 0.862 0.000 0.000 0.027 0.000   \n",
       "sAMI             0.840       0.538 0.898 0.000 0.000 0.090 0.000   \n",
       "eAMI             0.749       0.803 0.652 0.027 0.090 0.000 0.000   \n",
       "tAMI             0.706       0.393 0.922 0.000 0.000 0.000 0.000   \n",
       "attentional_0    0.078       0.510 0.241 0.000 0.037 0.473 0.005   \n",
       "motor_0          0.702       0.386 0.735 0.761 0.038 0.825 0.223   \n",
       "nonplanning_0    0.719       0.493 0.892 0.000 0.004 0.037 0.000   \n",
       "barrat_total     0.287       0.584 0.830 0.007 0.366 0.564 0.040   \n",
       "\n",
       "               attentional_0  motor_0  nonplanning_0  barrat_total  \n",
       "anxiety                0.078    0.702          0.719         0.287  \n",
       "depression             0.510    0.386          0.493         0.584  \n",
       "tHAD                   0.241    0.735          0.892         0.830  \n",
       "bAMI                   0.000    0.761          0.000         0.007  \n",
       "sAMI                   0.037    0.038          0.004         0.366  \n",
       "eAMI                   0.473    0.825          0.037         0.564  \n",
       "tAMI                   0.005    0.223          0.000         0.040  \n",
       "attentional_0          0.000    0.000          0.000         0.000  \n",
       "motor_0                0.000    0.000          0.001         0.000  \n",
       "nonplanning_0          0.000    0.001          0.000         0.000  \n",
       "barrat_total           0.000    0.000          0.000         0.000  "
      ]
     },
     "execution_count": 113,
     "metadata": {},
     "output_type": "execute_result"
    }
   ],
   "source": [
    "pvals"
   ]
  },
  {
   "cell_type": "code",
   "execution_count": 119,
   "metadata": {},
   "outputs": [
    {
     "data": {
      "image/png": "[encoded data removed]",
      "text/plain": [
       "<Figure size 576x720 with 2 Axes>"
      ]
     },
     "metadata": {
      "needs_background": "light"
     },
     "output_type": "display_data"
    }
   ],
   "source": [
    "plt.figure(figsize=(8, 10))\n",
    "mask[np.tril_indices_from(pvals)] = False\n",
    "ax = sns.heatmap(\n",
    "    pvals, \n",
    "    vmin=-1, vmax=1, center=0,\n",
    "    cmap=sns.diverging_palette(20, 220, n=200),\n",
    "    square=True,\n",
    "    annot=True, linewidths=.5, fmt = '.2f', mask = mask\n",
    ")\n",
    "ax.set_xticklabels(\n",
    "    ax.get_xticklabels(),\n",
    "    rotation=90,\n",
    "    horizontalalignment='center'\n",
    ");"
   ]
  },
  {
   "cell_type": "code",
   "execution_count": null,
   "metadata": {},
   "outputs": [],
   "source": []
  },
  {
   "cell_type": "code",
   "execution_count": null,
   "metadata": {},
   "outputs": [],
   "source": []
  }
 ],
 "metadata": {
  "kernelspec": {
   "display_name": "Python 3",
   "language": "python",
   "name": "python3"
  },
  "language_info": {
   "codemirror_mode": {
    "name": "ipython",
    "version": 3
   },
   "file_extension": ".py",
   "mimetype": "text/x-python",
   "name": "python",
   "nbconvert_exporter": "python",
   "pygments_lexer": "ipython3",
   "version": "3.6.3"
  }
 },
 "nbformat": 4,
 "nbformat_minor": 2
}
