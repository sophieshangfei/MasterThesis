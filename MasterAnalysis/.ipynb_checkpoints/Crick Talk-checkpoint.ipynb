{
 "cells": [
  {
   "cell_type": "code",
   "execution_count": 72,
   "metadata": {},
   "outputs": [],
   "source": [
    "import pandas as pd\n",
    "import numpy as np\n",
    "import matplotlib.pyplot as plt\n",
    "import csv\n",
    "import json\n",
    "import seaborn as sns\n",
    "from sklearn import linear_model\n",
    "import sklearn as sk\n",
    "import statsmodels.api as sm\n",
    "from statsmodels.formula.api import ols\n",
    "from statsmodels.formula.api import mixedlm\n",
    "import statsmodels as sm\n",
    "from statsmodels.sandbox.regression.predstd import wls_prediction_std\n",
    "from scipy import stats as ss\n",
    "from scipy import stats\n",
    "import scipy.io as sio\n",
    "from statsmodels import robust\n",
    "from itertools import product\n",
    "%matplotlib inline"
   ]
  },
  {
   "cell_type": "code",
   "execution_count": 54,
   "metadata": {},
   "outputs": [],
   "source": [
    "pd.set_option('display.max_columns', 300)\n",
    "pd.set_option('display.max_rows', None)"
   ]
  },
  {
   "cell_type": "code",
   "execution_count": 2,
   "metadata": {},
   "outputs": [],
   "source": [
    "fish = pd.read_csv('march_fish_100.csv', sep = \",\")\n"
   ]
  },
  {
   "cell_type": "code",
   "execution_count": 3,
   "metadata": {},
   "outputs": [
    {
     "data": {
      "text/plain": [
       "320780"
      ]
     },
     "execution_count": 3,
     "metadata": {},
     "output_type": "execute_result"
    }
   ],
   "source": [
    "len(fish)"
   ]
  },
  {
   "cell_type": "code",
   "execution_count": 4,
   "metadata": {},
   "outputs": [
    {
     "data": {
      "text/html": [
       "<div>\n",
       "<style scoped>\n",
       "    .dataframe tbody tr th:only-of-type {\n",
       "        vertical-align: middle;\n",
       "    }\n",
       "\n",
       "    .dataframe tbody tr th {\n",
       "        vertical-align: top;\n",
       "    }\n",
       "\n",
       "    .dataframe thead th {\n",
       "        text-align: right;\n",
       "    }\n",
       "</style>\n",
       "<table border=\"1\" class=\"dataframe\">\n",
       "  <thead>\n",
       "    <tr style=\"text-align: right;\">\n",
       "      <th></th>\n",
       "      <th>index</th>\n",
       "      <th>trial_index</th>\n",
       "      <th>id</th>\n",
       "      <th>price_displayed</th>\n",
       "      <th>key pressed</th>\n",
       "      <th>environment</th>\n",
       "      <th>order</th>\n",
       "      <th>round_instance</th>\n",
       "      <th>task</th>\n",
       "      <th>function_id</th>\n",
       "      <th>quality_check</th>\n",
       "      <th>builtin_rt</th>\n",
       "      <th>end_time</th>\n",
       "      <th>start_time</th>\n",
       "      <th>Participant Public ID</th>\n",
       "      <th>key_pressed</th>\n",
       "      <th>latency</th>\n",
       "    </tr>\n",
       "  </thead>\n",
       "  <tbody>\n",
       "    <tr>\n",
       "      <th>0</th>\n",
       "      <td>177473</td>\n",
       "      <td>1.0</td>\n",
       "      <td>668220.0</td>\n",
       "      <td>1.8</td>\n",
       "      <td>40.0</td>\n",
       "      <td>low</td>\n",
       "      <td>low-high</td>\n",
       "      <td>11.0</td>\n",
       "      <td>fishing</td>\n",
       "      <td>fishing_l</td>\n",
       "      <td>NaN</td>\n",
       "      <td>4.975</td>\n",
       "      <td>1.554475e+12</td>\n",
       "      <td>1.554475e+12</td>\n",
       "      <td>BLIND</td>\n",
       "      <td>40.0</td>\n",
       "      <td>109.0</td>\n",
       "    </tr>\n",
       "    <tr>\n",
       "      <th>1</th>\n",
       "      <td>177474</td>\n",
       "      <td>1.0</td>\n",
       "      <td>668220.0</td>\n",
       "      <td>1.8</td>\n",
       "      <td>40.0</td>\n",
       "      <td>low</td>\n",
       "      <td>low-high</td>\n",
       "      <td>11.0</td>\n",
       "      <td>fishing</td>\n",
       "      <td>fishing_l</td>\n",
       "      <td>NaN</td>\n",
       "      <td>29.965</td>\n",
       "      <td>1.554475e+12</td>\n",
       "      <td>1.554475e+12</td>\n",
       "      <td>BLIND</td>\n",
       "      <td>40.0</td>\n",
       "      <td>134.0</td>\n",
       "    </tr>\n",
       "  </tbody>\n",
       "</table>\n",
       "</div>"
      ],
      "text/plain": [
       "    index  trial_index        id  price_displayed  key pressed environment  \\\n",
       "0  177473          1.0  668220.0              1.8         40.0         low   \n",
       "1  177474          1.0  668220.0              1.8         40.0         low   \n",
       "\n",
       "      order  round_instance     task function_id  quality_check  builtin_rt  \\\n",
       "0  low-high            11.0  fishing   fishing_l            NaN       4.975   \n",
       "1  low-high            11.0  fishing   fishing_l            NaN      29.965   \n",
       "\n",
       "       end_time    start_time Participant Public ID  key_pressed  latency  \n",
       "0  1.554475e+12  1.554475e+12                 BLIND         40.0    109.0  \n",
       "1  1.554475e+12  1.554475e+12                 BLIND         40.0    134.0  "
      ]
     },
     "execution_count": 4,
     "metadata": {},
     "output_type": "execute_result"
    }
   ],
   "source": [
    "fish.head(2)"
   ]
  },
  {
   "cell_type": "markdown",
   "metadata": {},
   "source": [
    "## Calculate fatigue"
   ]
  },
  {
   "cell_type": "code",
   "execution_count": 5,
   "metadata": {},
   "outputs": [],
   "source": [
    "fish['tap_count']=[1]*len(fish)\n",
    "# fatigue per environment\n"
   ]
  },
  {
   "cell_type": "code",
   "execution_count": 6,
   "metadata": {},
   "outputs": [],
   "source": [
    "tap = fish.groupby(['id', 'environment'])['tap_count'].cumsum().reset_index(name = 'fatigue')\n"
   ]
  },
  {
   "cell_type": "code",
   "execution_count": 7,
   "metadata": {},
   "outputs": [],
   "source": [
    "tap = tap.reset_index().set_index('index')"
   ]
  },
  {
   "cell_type": "code",
   "execution_count": 8,
   "metadata": {},
   "outputs": [],
   "source": [
    "tap = tap.drop('level_0', axis =1)"
   ]
  },
  {
   "cell_type": "code",
   "execution_count": 9,
   "metadata": {},
   "outputs": [],
   "source": [
    "fish = tap.merge(fish, left_index = True, right_index=True,how='inner')\n"
   ]
  },
  {
   "cell_type": "markdown",
   "metadata": {},
   "source": [
    "## Exclusion list"
   ]
  },
  {
   "cell_type": "code",
   "execution_count": 10,
   "metadata": {},
   "outputs": [],
   "source": [
    "fish = fish[~fish.id.isin([668262.0, 675528.0, 675577.0, 680119.0, 672593.0, 683242.0])]\n",
    "# failed sound check questions                "
   ]
  },
  {
   "cell_type": "code",
   "execution_count": 11,
   "metadata": {},
   "outputs": [],
   "source": [
    "fish.isnull().sum()\n",
    "fish = fish[fish.latency.notnull()]"
   ]
  },
  {
   "cell_type": "code",
   "execution_count": 12,
   "metadata": {},
   "outputs": [
    {
     "data": {
      "text/plain": [
       "94"
      ]
     },
     "execution_count": 12,
     "metadata": {},
     "output_type": "execute_result"
    }
   ],
   "source": [
    "len(fish.id.unique())"
   ]
  },
  {
   "cell_type": "code",
   "execution_count": 13,
   "metadata": {},
   "outputs": [],
   "source": [
    "fish['environment_binary'] = np.where(fish['environment']=='low', 0, fish['environment'])\n",
    "fish['environment_binary'] = np.where(fish['environment']=='high', 1, fish['environment'])\n",
    "fish['environment_binary'] = np.where(fish['environment']=='low', 0, fish['environment_binary'])\n",
    "fish['environment_binary'] = np.where(fish['environment']=='high', 1, fish['environment_binary'])\n",
    "fish['log_latency'] = np.log(fish['latency'])\n"
   ]
  },
  {
   "cell_type": "code",
   "execution_count": 14,
   "metadata": {},
   "outputs": [
    {
     "name": "stderr",
     "output_type": "stream",
     "text": [
      "/Library/Frameworks/Python.framework/Versions/3.6/lib/python3.6/site-packages/statsmodels/regression/mixed_linear_model.py:2045: ConvergenceWarning: The MLE may be on the boundary of the parameter space.\n",
      "  warnings.warn(msg, ConvergenceWarning)\n"
     ]
    }
   ],
   "source": [
    "f_model = mixedlm(formula = 'log_latency ~ 1 + environment_binary + price_displayed + fatigue',\n",
    "                  groups = fish['id'],\n",
    "                  re_formula = \"~environment_binary + price_displayed + fatigue\",\n",
    "                  data = fish)\n",
    "\n",
    "r = f_model.fit(reml = False, method = 'powell')"
   ]
  },
  {
   "cell_type": "code",
   "execution_count": 15,
   "metadata": {},
   "outputs": [
    {
     "name": "stdout",
     "output_type": "stream",
     "text": [
      "                          Mixed Linear Model Regression Results\n",
      "=========================================================================================\n",
      "Model:                        MixedLM           Dependent Variable:           log_latency\n",
      "No. Observations:             298234            Method:                       ML         \n",
      "No. Groups:                   94                Scale:                        0.0562     \n",
      "Min. group size:              1355              Likelihood:                   5171.2141  \n",
      "Max. group size:              4507              Converged:                    Yes        \n",
      "Mean group size:              3172.7                                                     \n",
      "-----------------------------------------------------------------------------------------\n",
      "                                              Coef.  Std.Err.    z    P>|z| [0.025 0.975]\n",
      "-----------------------------------------------------------------------------------------\n",
      "Intercept                                      5.250    0.023 232.836 0.000  5.206  5.294\n",
      "environment_binary[T.1]                       -0.043    0.012  -3.646 0.000 -0.066 -0.020\n",
      "price_displayed                               -0.060    0.007  -8.622 0.000 -0.074 -0.047\n",
      "fatigue                                        0.000    0.000   6.384 0.000  0.000  0.000\n",
      "Group Var                                      0.048    0.029                            \n",
      "Group x environment_binary[T.1] Cov           -0.016    0.013                            \n",
      "environment_binary[T.1] Var                    0.013    0.008                            \n",
      "Group x price_displayed Cov                   -0.010    0.008                            \n",
      "environment_binary[T.1] x price_displayed Cov  0.003    0.004                            \n",
      "price_displayed Var                            0.005    0.003                            \n",
      "Group x fatigue Cov                            0.000    0.000                            \n",
      "environment_binary[T.1] x fatigue Cov         -0.000    0.000                            \n",
      "price_displayed x fatigue Cov                 -0.000    0.000                            \n",
      "fatigue Var                                    0.000    0.000                            \n",
      "=========================================================================================\n",
      "\n"
     ]
    }
   ],
   "source": [
    "print (r.summary())"
   ]
  },
  {
   "cell_type": "code",
   "execution_count": 32,
   "metadata": {},
   "outputs": [],
   "source": [
    "r_params = pd.DataFrame(r.params,columns=['LMM'])\n",
    "random_effects = pd.DataFrame(r.random_effects)\n",
    "random_effects = random_effects.transpose()\n",
    "random_effects = random_effects.rename(index=str, columns={'groups': 'LMM'})"
   ]
  },
  {
   "cell_type": "code",
   "execution_count": 33,
   "metadata": {},
   "outputs": [
    {
     "data": {
      "text/html": [
       "<div>\n",
       "<style scoped>\n",
       "    .dataframe tbody tr th:only-of-type {\n",
       "        vertical-align: middle;\n",
       "    }\n",
       "\n",
       "    .dataframe tbody tr th {\n",
       "        vertical-align: top;\n",
       "    }\n",
       "\n",
       "    .dataframe thead th {\n",
       "        text-align: right;\n",
       "    }\n",
       "</style>\n",
       "<table border=\"1\" class=\"dataframe\">\n",
       "  <thead>\n",
       "    <tr style=\"text-align: right;\">\n",
       "      <th></th>\n",
       "      <th>Group</th>\n",
       "      <th>environment_binary[T.1]</th>\n",
       "      <th>price_displayed</th>\n",
       "      <th>fatigue</th>\n",
       "    </tr>\n",
       "  </thead>\n",
       "  <tbody>\n",
       "    <tr>\n",
       "      <th>668220.0</th>\n",
       "      <td>-0.081534</td>\n",
       "      <td>0.046540</td>\n",
       "      <td>0.003464</td>\n",
       "      <td>-0.000050</td>\n",
       "    </tr>\n",
       "    <tr>\n",
       "      <th>668225.0</th>\n",
       "      <td>0.119201</td>\n",
       "      <td>-0.107869</td>\n",
       "      <td>-0.087462</td>\n",
       "      <td>-0.000037</td>\n",
       "    </tr>\n",
       "  </tbody>\n",
       "</table>\n",
       "</div>"
      ],
      "text/plain": [
       "             Group  environment_binary[T.1]  price_displayed   fatigue\n",
       "668220.0 -0.081534                 0.046540         0.003464 -0.000050\n",
       "668225.0  0.119201                -0.107869        -0.087462 -0.000037"
      ]
     },
     "execution_count": 33,
     "metadata": {},
     "output_type": "execute_result"
    }
   ],
   "source": [
    "random_effects.head(2)"
   ]
  },
  {
   "cell_type": "markdown",
   "metadata": {},
   "source": [
    "# Correlation with Questionnaires"
   ]
  },
  {
   "cell_type": "code",
   "execution_count": 34,
   "metadata": {},
   "outputs": [],
   "source": [
    "scales = pd.read_csv('scale_100.csv', sep = \",\")"
   ]
  },
  {
   "cell_type": "code",
   "execution_count": 55,
   "metadata": {},
   "outputs": [
    {
     "data": {
      "text/html": [
       "<div>\n",
       "<style scoped>\n",
       "    .dataframe tbody tr th:only-of-type {\n",
       "        vertical-align: middle;\n",
       "    }\n",
       "\n",
       "    .dataframe tbody tr th {\n",
       "        vertical-align: top;\n",
       "    }\n",
       "\n",
       "    .dataframe thead th {\n",
       "        text-align: right;\n",
       "    }\n",
       "</style>\n",
       "<table border=\"1\" class=\"dataframe\">\n",
       "  <thead>\n",
       "    <tr style=\"text-align: right;\">\n",
       "      <th></th>\n",
       "      <th>anxiety</th>\n",
       "      <th>depression</th>\n",
       "      <th>tHAD</th>\n",
       "      <th>bAMI</th>\n",
       "      <th>sAMI</th>\n",
       "      <th>eAMI</th>\n",
       "      <th>tAMI</th>\n",
       "      <th>pleasure</th>\n",
       "      <th>physical</th>\n",
       "      <th>cognitive</th>\n",
       "      <th>psychological</th>\n",
       "      <th>total_fatigue</th>\n",
       "      <th>attention</th>\n",
       "      <th>cognitive_instable</th>\n",
       "      <th>motor</th>\n",
       "      <th>perseverance</th>\n",
       "      <th>self_control</th>\n",
       "      <th>cognitive_complexity</th>\n",
       "      <th>attentional_0</th>\n",
       "      <th>motor_0</th>\n",
       "      <th>nonplanning_0</th>\n",
       "      <th>barrat_total</th>\n",
       "    </tr>\n",
       "    <tr>\n",
       "      <th>id</th>\n",
       "      <th></th>\n",
       "      <th></th>\n",
       "      <th></th>\n",
       "      <th></th>\n",
       "      <th></th>\n",
       "      <th></th>\n",
       "      <th></th>\n",
       "      <th></th>\n",
       "      <th></th>\n",
       "      <th></th>\n",
       "      <th></th>\n",
       "      <th></th>\n",
       "      <th></th>\n",
       "      <th></th>\n",
       "      <th></th>\n",
       "      <th></th>\n",
       "      <th></th>\n",
       "      <th></th>\n",
       "      <th></th>\n",
       "      <th></th>\n",
       "      <th></th>\n",
       "      <th></th>\n",
       "    </tr>\n",
       "  </thead>\n",
       "  <tbody>\n",
       "    <tr>\n",
       "      <th>668220.0</th>\n",
       "      <td>0.0</td>\n",
       "      <td>0.0</td>\n",
       "      <td>0.0</td>\n",
       "      <td>0.166667</td>\n",
       "      <td>0.666667</td>\n",
       "      <td>1.166667</td>\n",
       "      <td>0.666667</td>\n",
       "      <td>18</td>\n",
       "      <td>0</td>\n",
       "      <td>0</td>\n",
       "      <td>0</td>\n",
       "      <td>0</td>\n",
       "      <td>6</td>\n",
       "      <td>4</td>\n",
       "      <td>16</td>\n",
       "      <td>8</td>\n",
       "      <td>9</td>\n",
       "      <td>8</td>\n",
       "      <td>10</td>\n",
       "      <td>24</td>\n",
       "      <td>17</td>\n",
       "      <td>51</td>\n",
       "    </tr>\n",
       "    <tr>\n",
       "      <th>668225.0</th>\n",
       "      <td>7.0</td>\n",
       "      <td>5.0</td>\n",
       "      <td>12.0</td>\n",
       "      <td>1.500000</td>\n",
       "      <td>2.666667</td>\n",
       "      <td>0.666667</td>\n",
       "      <td>1.611111</td>\n",
       "      <td>30</td>\n",
       "      <td>14</td>\n",
       "      <td>12</td>\n",
       "      <td>5</td>\n",
       "      <td>31</td>\n",
       "      <td>9</td>\n",
       "      <td>5</td>\n",
       "      <td>14</td>\n",
       "      <td>7</td>\n",
       "      <td>14</td>\n",
       "      <td>6</td>\n",
       "      <td>14</td>\n",
       "      <td>21</td>\n",
       "      <td>20</td>\n",
       "      <td>55</td>\n",
       "    </tr>\n",
       "    <tr>\n",
       "      <th>668237.0</th>\n",
       "      <td>9.0</td>\n",
       "      <td>0.0</td>\n",
       "      <td>9.0</td>\n",
       "      <td>1.666667</td>\n",
       "      <td>2.000000</td>\n",
       "      <td>1.000000</td>\n",
       "      <td>1.555556</td>\n",
       "      <td>22</td>\n",
       "      <td>12</td>\n",
       "      <td>18</td>\n",
       "      <td>2</td>\n",
       "      <td>32</td>\n",
       "      <td>13</td>\n",
       "      <td>6</td>\n",
       "      <td>16</td>\n",
       "      <td>5</td>\n",
       "      <td>10</td>\n",
       "      <td>13</td>\n",
       "      <td>19</td>\n",
       "      <td>21</td>\n",
       "      <td>23</td>\n",
       "      <td>63</td>\n",
       "    </tr>\n",
       "    <tr>\n",
       "      <th>668239.0</th>\n",
       "      <td>12.0</td>\n",
       "      <td>13.0</td>\n",
       "      <td>25.0</td>\n",
       "      <td>3.166667</td>\n",
       "      <td>3.166667</td>\n",
       "      <td>1.000000</td>\n",
       "      <td>2.444444</td>\n",
       "      <td>32</td>\n",
       "      <td>31</td>\n",
       "      <td>28</td>\n",
       "      <td>7</td>\n",
       "      <td>66</td>\n",
       "      <td>13</td>\n",
       "      <td>6</td>\n",
       "      <td>8</td>\n",
       "      <td>10</td>\n",
       "      <td>11</td>\n",
       "      <td>10</td>\n",
       "      <td>19</td>\n",
       "      <td>18</td>\n",
       "      <td>21</td>\n",
       "      <td>58</td>\n",
       "    </tr>\n",
       "    <tr>\n",
       "      <th>668240.0</th>\n",
       "      <td>7.0</td>\n",
       "      <td>8.0</td>\n",
       "      <td>15.0</td>\n",
       "      <td>2.666667</td>\n",
       "      <td>2.500000</td>\n",
       "      <td>1.333333</td>\n",
       "      <td>2.166667</td>\n",
       "      <td>28</td>\n",
       "      <td>15</td>\n",
       "      <td>15</td>\n",
       "      <td>4</td>\n",
       "      <td>34</td>\n",
       "      <td>10</td>\n",
       "      <td>6</td>\n",
       "      <td>10</td>\n",
       "      <td>7</td>\n",
       "      <td>18</td>\n",
       "      <td>10</td>\n",
       "      <td>16</td>\n",
       "      <td>17</td>\n",
       "      <td>28</td>\n",
       "      <td>61</td>\n",
       "    </tr>\n",
       "    <tr>\n",
       "      <th>668244.0</th>\n",
       "      <td>6.0</td>\n",
       "      <td>3.0</td>\n",
       "      <td>9.0</td>\n",
       "      <td>2.000000</td>\n",
       "      <td>2.000000</td>\n",
       "      <td>1.833333</td>\n",
       "      <td>1.944444</td>\n",
       "      <td>26</td>\n",
       "      <td>8</td>\n",
       "      <td>22</td>\n",
       "      <td>3</td>\n",
       "      <td>33</td>\n",
       "      <td>12</td>\n",
       "      <td>6</td>\n",
       "      <td>11</td>\n",
       "      <td>11</td>\n",
       "      <td>18</td>\n",
       "      <td>10</td>\n",
       "      <td>18</td>\n",
       "      <td>22</td>\n",
       "      <td>28</td>\n",
       "      <td>68</td>\n",
       "    </tr>\n",
       "    <tr>\n",
       "      <th>668246.0</th>\n",
       "      <td>17.0</td>\n",
       "      <td>12.0</td>\n",
       "      <td>29.0</td>\n",
       "      <td>2.000000</td>\n",
       "      <td>2.666667</td>\n",
       "      <td>1.000000</td>\n",
       "      <td>1.888889</td>\n",
       "      <td>28</td>\n",
       "      <td>13</td>\n",
       "      <td>15</td>\n",
       "      <td>3</td>\n",
       "      <td>31</td>\n",
       "      <td>11</td>\n",
       "      <td>4</td>\n",
       "      <td>15</td>\n",
       "      <td>8</td>\n",
       "      <td>11</td>\n",
       "      <td>9</td>\n",
       "      <td>15</td>\n",
       "      <td>23</td>\n",
       "      <td>20</td>\n",
       "      <td>58</td>\n",
       "    </tr>\n",
       "    <tr>\n",
       "      <th>668249.0</th>\n",
       "      <td>9.0</td>\n",
       "      <td>8.0</td>\n",
       "      <td>17.0</td>\n",
       "      <td>3.000000</td>\n",
       "      <td>2.666667</td>\n",
       "      <td>0.333333</td>\n",
       "      <td>2.000000</td>\n",
       "      <td>28</td>\n",
       "      <td>24</td>\n",
       "      <td>29</td>\n",
       "      <td>4</td>\n",
       "      <td>57</td>\n",
       "      <td>13</td>\n",
       "      <td>8</td>\n",
       "      <td>12</td>\n",
       "      <td>10</td>\n",
       "      <td>8</td>\n",
       "      <td>9</td>\n",
       "      <td>21</td>\n",
       "      <td>22</td>\n",
       "      <td>17</td>\n",
       "      <td>60</td>\n",
       "    </tr>\n",
       "    <tr>\n",
       "      <th>668251.0</th>\n",
       "      <td>8.0</td>\n",
       "      <td>4.0</td>\n",
       "      <td>12.0</td>\n",
       "      <td>2.833333</td>\n",
       "      <td>1.833333</td>\n",
       "      <td>0.666667</td>\n",
       "      <td>1.777778</td>\n",
       "      <td>17</td>\n",
       "      <td>19</td>\n",
       "      <td>21</td>\n",
       "      <td>2</td>\n",
       "      <td>42</td>\n",
       "      <td>12</td>\n",
       "      <td>8</td>\n",
       "      <td>14</td>\n",
       "      <td>11</td>\n",
       "      <td>19</td>\n",
       "      <td>10</td>\n",
       "      <td>20</td>\n",
       "      <td>25</td>\n",
       "      <td>29</td>\n",
       "      <td>74</td>\n",
       "    </tr>\n",
       "    <tr>\n",
       "      <th>668253.0</th>\n",
       "      <td>3.0</td>\n",
       "      <td>2.0</td>\n",
       "      <td>5.0</td>\n",
       "      <td>1.000000</td>\n",
       "      <td>1.500000</td>\n",
       "      <td>0.333333</td>\n",
       "      <td>0.944444</td>\n",
       "      <td>21</td>\n",
       "      <td>32</td>\n",
       "      <td>16</td>\n",
       "      <td>6</td>\n",
       "      <td>54</td>\n",
       "      <td>8</td>\n",
       "      <td>6</td>\n",
       "      <td>15</td>\n",
       "      <td>7</td>\n",
       "      <td>11</td>\n",
       "      <td>8</td>\n",
       "      <td>14</td>\n",
       "      <td>22</td>\n",
       "      <td>19</td>\n",
       "      <td>55</td>\n",
       "    </tr>\n",
       "  </tbody>\n",
       "</table>\n",
       "</div>"
      ],
      "text/plain": [
       "          anxiety  depression  tHAD      bAMI      sAMI      eAMI      tAMI  \\\n",
       "id                                                                            \n",
       "668220.0      0.0         0.0   0.0  0.166667  0.666667  1.166667  0.666667   \n",
       "668225.0      7.0         5.0  12.0  1.500000  2.666667  0.666667  1.611111   \n",
       "668237.0      9.0         0.0   9.0  1.666667  2.000000  1.000000  1.555556   \n",
       "668239.0     12.0        13.0  25.0  3.166667  3.166667  1.000000  2.444444   \n",
       "668240.0      7.0         8.0  15.0  2.666667  2.500000  1.333333  2.166667   \n",
       "668244.0      6.0         3.0   9.0  2.000000  2.000000  1.833333  1.944444   \n",
       "668246.0     17.0        12.0  29.0  2.000000  2.666667  1.000000  1.888889   \n",
       "668249.0      9.0         8.0  17.0  3.000000  2.666667  0.333333  2.000000   \n",
       "668251.0      8.0         4.0  12.0  2.833333  1.833333  0.666667  1.777778   \n",
       "668253.0      3.0         2.0   5.0  1.000000  1.500000  0.333333  0.944444   \n",
       "\n",
       "          pleasure  physical  cognitive  psychological  total_fatigue  \\\n",
       "id                                                                      \n",
       "668220.0        18         0          0              0              0   \n",
       "668225.0        30        14         12              5             31   \n",
       "668237.0        22        12         18              2             32   \n",
       "668239.0        32        31         28              7             66   \n",
       "668240.0        28        15         15              4             34   \n",
       "668244.0        26         8         22              3             33   \n",
       "668246.0        28        13         15              3             31   \n",
       "668249.0        28        24         29              4             57   \n",
       "668251.0        17        19         21              2             42   \n",
       "668253.0        21        32         16              6             54   \n",
       "\n",
       "          attention  cognitive_instable  motor  perseverance  self_control  \\\n",
       "id                                                                           \n",
       "668220.0          6                   4     16             8             9   \n",
       "668225.0          9                   5     14             7            14   \n",
       "668237.0         13                   6     16             5            10   \n",
       "668239.0         13                   6      8            10            11   \n",
       "668240.0         10                   6     10             7            18   \n",
       "668244.0         12                   6     11            11            18   \n",
       "668246.0         11                   4     15             8            11   \n",
       "668249.0         13                   8     12            10             8   \n",
       "668251.0         12                   8     14            11            19   \n",
       "668253.0          8                   6     15             7            11   \n",
       "\n",
       "          cognitive_complexity  attentional_0  motor_0  nonplanning_0  \\\n",
       "id                                                                      \n",
       "668220.0                     8             10       24             17   \n",
       "668225.0                     6             14       21             20   \n",
       "668237.0                    13             19       21             23   \n",
       "668239.0                    10             19       18             21   \n",
       "668240.0                    10             16       17             28   \n",
       "668244.0                    10             18       22             28   \n",
       "668246.0                     9             15       23             20   \n",
       "668249.0                     9             21       22             17   \n",
       "668251.0                    10             20       25             29   \n",
       "668253.0                     8             14       22             19   \n",
       "\n",
       "          barrat_total  \n",
       "id                      \n",
       "668220.0            51  \n",
       "668225.0            55  \n",
       "668237.0            63  \n",
       "668239.0            58  \n",
       "668240.0            61  \n",
       "668244.0            68  \n",
       "668246.0            58  \n",
       "668249.0            60  \n",
       "668251.0            74  \n",
       "668253.0            55  "
      ]
     },
     "execution_count": 55,
     "metadata": {},
     "output_type": "execute_result"
    }
   ],
   "source": [
    "scales.head(10)"
   ]
  },
  {
   "cell_type": "code",
   "execution_count": 36,
   "metadata": {},
   "outputs": [],
   "source": [
    "scales = scales.set_index('id')"
   ]
  },
  {
   "cell_type": "code",
   "execution_count": 37,
   "metadata": {},
   "outputs": [],
   "source": [
    "scales = scales.drop(['Unnamed: 0'], axis = 1)"
   ]
  },
  {
   "cell_type": "code",
   "execution_count": 44,
   "metadata": {},
   "outputs": [],
   "source": [
    "scales.index = scales.index.astype(str)"
   ]
  },
  {
   "cell_type": "code",
   "execution_count": 45,
   "metadata": {},
   "outputs": [],
   "source": [
    "correlation_table = scales.merge(random_effects, right_index = True, left_index = True, how = 'inner')"
   ]
  },
  {
   "cell_type": "code",
   "execution_count": 46,
   "metadata": {},
   "outputs": [
    {
     "data": {
      "text/plain": [
       "93"
      ]
     },
     "execution_count": 46,
     "metadata": {},
     "output_type": "execute_result"
    }
   ],
   "source": [
    "len(correlation_table)\n",
    "# sample size\n",
    "# lose 1 due to incompletion of questionnaires"
   ]
  },
  {
   "cell_type": "markdown",
   "metadata": {},
   "source": [
    "HADS - The higher the score, the more anxious/depressed you are.\n",
    "<br>AMI - The higher the score, the more apathetic you are. \n",
    "<br>barrat - The higher the score, the more impulsive you are. \n",
    "<br>Pleasure - The higher the score, the less pleasure you experience. Thus, higher levels of present state of anhedonia. \n",
    "<br>Fatigue - higher scores indicate a greater impact of fatigue on a person’s activities."
   ]
  },
  {
   "cell_type": "code",
   "execution_count": 47,
   "metadata": {},
   "outputs": [
    {
     "data": {
      "text/plain": [
       "SpearmanrResult(correlation=-0.23386325868968058, pvalue=0.02405951487713364)"
      ]
     },
     "execution_count": 47,
     "metadata": {},
     "output_type": "execute_result"
    }
   ],
   "source": [
    "ss.spearmanr(correlation_table['depression'], correlation_table['environment_binary[T.1]'])"
   ]
  },
  {
   "cell_type": "code",
   "execution_count": 48,
   "metadata": {},
   "outputs": [
    {
     "data": {
      "text/plain": [
       "SpearmanrResult(correlation=-0.13371477906883256, pvalue=0.20131807518311529)"
      ]
     },
     "execution_count": 48,
     "metadata": {},
     "output_type": "execute_result"
    }
   ],
   "source": [
    "ss.spearmanr(correlation_table['anxiety'], correlation_table['environment_binary[T.1]'])"
   ]
  },
  {
   "cell_type": "code",
   "execution_count": 49,
   "metadata": {},
   "outputs": [
    {
     "data": {
      "text/plain": [
       "SpearmanrResult(correlation=-0.0392917556668055, pvalue=0.7084521606974981)"
      ]
     },
     "execution_count": 49,
     "metadata": {},
     "output_type": "execute_result"
    }
   ],
   "source": [
    "ss.spearmanr(correlation_table['bAMI'], correlation_table['environment_binary[T.1]'])"
   ]
  },
  {
   "cell_type": "code",
   "execution_count": 62,
   "metadata": {},
   "outputs": [
    {
     "data": {
      "text/plain": [
       "SpearmanrResult(correlation=-0.20209765720464265, pvalue=0.052052846441191965)"
      ]
     },
     "execution_count": 62,
     "metadata": {},
     "output_type": "execute_result"
    }
   ],
   "source": [
    "ss.spearmanr(correlation_table['nonplanning_0'], correlation_table['price_displayed'])"
   ]
  },
  {
   "cell_type": "code",
   "execution_count": 76,
   "metadata": {},
   "outputs": [],
   "source": [
    "AMI_barrat_HADS = correlation_table[['price_displayed', 'environment_binary[T.1]','anxiety', 'depression', 'tHAD','bAMI', 'sAMI', 'eAMI', 'tAMI',\n",
    "                                    'attention', 'cognitive_instable', 'motor', 'perseverance', \n",
    "                             'self_control', 'cognitive_complexity', 'attentional_0', 'motor_0', \n",
    "                             'nonplanning_0', 'barrat_total']]"
   ]
  },
  {
   "cell_type": "code",
   "execution_count": 77,
   "metadata": {},
   "outputs": [],
   "source": [
    "graph = AMI_barrat_HADS.corr()"
   ]
  },
  {
   "cell_type": "code",
   "execution_count": 78,
   "metadata": {},
   "outputs": [],
   "source": [
    "def compute_corr_and_p(df1, df2):\n",
    "    corrs = pd.DataFrame(index=df1.columns, columns=df2.columns, dtype=np.float64)\n",
    "    pvals = corrs.copy()\n",
    "    for i, j in product(df1.columns, df2.columns):\n",
    "        corrs.loc[i,j], pvals.loc[i,j] = ss.spearmanr(df1[i], df2[j], nan_policy = 'omit')\n",
    "    return corrs, pvals"
   ]
  },
  {
   "cell_type": "code",
   "execution_count": 85,
   "metadata": {},
   "outputs": [],
   "source": [
    "corrs, pvals = compute_corr_and_p(AMI_barrat_HADS, AMI_barrat_HADS)"
   ]
  },
  {
   "cell_type": "code",
   "execution_count": null,
   "metadata": {},
   "outputs": [],
   "source": []
  }
 ],
 "metadata": {
  "kernelspec": {
   "display_name": "Python 3",
   "language": "python",
   "name": "python3"
  },
  "language_info": {
   "codemirror_mode": {
    "name": "ipython",
    "version": 3
   },
   "file_extension": ".py",
   "mimetype": "text/x-python",
   "name": "python",
   "nbconvert_exporter": "python",
   "pygments_lexer": "ipython3",
   "version": "3.6.3"
  }
 },
 "nbformat": 4,
 "nbformat_minor": 2
}
