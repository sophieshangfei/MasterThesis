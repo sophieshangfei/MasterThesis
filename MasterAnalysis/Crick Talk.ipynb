{
 "cells": [
  {
   "cell_type": "code",
   "execution_count": 1,
   "metadata": {},
   "outputs": [],
   "source": [
    "import pandas as pd\n",
    "import numpy as np\n",
    "import matplotlib.pyplot as plt\n",
    "import csv\n",
    "import json\n",
    "import seaborn as sns\n",
    "from sklearn import linear_model\n",
    "import sklearn as sk\n",
    "import statsmodels.api as sm\n",
    "from statsmodels.formula.api import ols\n",
    "from statsmodels.formula.api import mixedlm\n",
    "import statsmodels as sm\n",
    "from statsmodels.sandbox.regression.predstd import wls_prediction_std\n",
    "from scipy import stats as ss\n",
    "from scipy import stats\n",
    "import scipy.io as sio\n",
    "from statsmodels import robust\n",
    "from itertools import product\n",
    "%matplotlib inline"
   ]
  },
  {
   "cell_type": "code",
   "execution_count": 2,
   "metadata": {},
   "outputs": [],
   "source": [
    "pd.set_option('display.max_columns', 300)\n",
    "pd.set_option('display.max_rows', None)"
   ]
  },
  {
   "cell_type": "code",
   "execution_count": 3,
   "metadata": {},
   "outputs": [],
   "source": [
    "fish = pd.read_csv('march_fish_100.csv', sep = \",\")\n"
   ]
  },
  {
   "cell_type": "code",
   "execution_count": 4,
   "metadata": {},
   "outputs": [
    {
     "data": {
      "text/plain": [
       "320780"
      ]
     },
     "execution_count": 4,
     "metadata": {},
     "output_type": "execute_result"
    }
   ],
   "source": [
    "len(fish)"
   ]
  },
  {
   "cell_type": "code",
   "execution_count": 5,
   "metadata": {},
   "outputs": [
    {
     "data": {
      "text/html": [
       "<div>\n",
       "<style scoped>\n",
       "    .dataframe tbody tr th:only-of-type {\n",
       "        vertical-align: middle;\n",
       "    }\n",
       "\n",
       "    .dataframe tbody tr th {\n",
       "        vertical-align: top;\n",
       "    }\n",
       "\n",
       "    .dataframe thead th {\n",
       "        text-align: right;\n",
       "    }\n",
       "</style>\n",
       "<table border=\"1\" class=\"dataframe\">\n",
       "  <thead>\n",
       "    <tr style=\"text-align: right;\">\n",
       "      <th></th>\n",
       "      <th>index</th>\n",
       "      <th>trial_index</th>\n",
       "      <th>id</th>\n",
       "      <th>price_displayed</th>\n",
       "      <th>key pressed</th>\n",
       "      <th>environment</th>\n",
       "      <th>order</th>\n",
       "      <th>round_instance</th>\n",
       "      <th>task</th>\n",
       "      <th>function_id</th>\n",
       "      <th>quality_check</th>\n",
       "      <th>builtin_rt</th>\n",
       "      <th>end_time</th>\n",
       "      <th>start_time</th>\n",
       "      <th>Participant Public ID</th>\n",
       "      <th>key_pressed</th>\n",
       "      <th>latency</th>\n",
       "    </tr>\n",
       "  </thead>\n",
       "  <tbody>\n",
       "    <tr>\n",
       "      <th>0</th>\n",
       "      <td>177473</td>\n",
       "      <td>1.0</td>\n",
       "      <td>668220.0</td>\n",
       "      <td>1.8</td>\n",
       "      <td>40.0</td>\n",
       "      <td>low</td>\n",
       "      <td>low-high</td>\n",
       "      <td>11.0</td>\n",
       "      <td>fishing</td>\n",
       "      <td>fishing_l</td>\n",
       "      <td>NaN</td>\n",
       "      <td>4.975</td>\n",
       "      <td>1.554475e+12</td>\n",
       "      <td>1.554475e+12</td>\n",
       "      <td>BLIND</td>\n",
       "      <td>40.0</td>\n",
       "      <td>109.0</td>\n",
       "    </tr>\n",
       "    <tr>\n",
       "      <th>1</th>\n",
       "      <td>177474</td>\n",
       "      <td>1.0</td>\n",
       "      <td>668220.0</td>\n",
       "      <td>1.8</td>\n",
       "      <td>40.0</td>\n",
       "      <td>low</td>\n",
       "      <td>low-high</td>\n",
       "      <td>11.0</td>\n",
       "      <td>fishing</td>\n",
       "      <td>fishing_l</td>\n",
       "      <td>NaN</td>\n",
       "      <td>29.965</td>\n",
       "      <td>1.554475e+12</td>\n",
       "      <td>1.554475e+12</td>\n",
       "      <td>BLIND</td>\n",
       "      <td>40.0</td>\n",
       "      <td>134.0</td>\n",
       "    </tr>\n",
       "  </tbody>\n",
       "</table>\n",
       "</div>"
      ],
      "text/plain": [
       "    index  trial_index        id  price_displayed  key pressed environment  \\\n",
       "0  177473          1.0  668220.0              1.8         40.0         low   \n",
       "1  177474          1.0  668220.0              1.8         40.0         low   \n",
       "\n",
       "      order  round_instance     task function_id  quality_check  builtin_rt  \\\n",
       "0  low-high            11.0  fishing   fishing_l            NaN       4.975   \n",
       "1  low-high            11.0  fishing   fishing_l            NaN      29.965   \n",
       "\n",
       "       end_time    start_time Participant Public ID  key_pressed  latency  \n",
       "0  1.554475e+12  1.554475e+12                 BLIND         40.0    109.0  \n",
       "1  1.554475e+12  1.554475e+12                 BLIND         40.0    134.0  "
      ]
     },
     "execution_count": 5,
     "metadata": {},
     "output_type": "execute_result"
    }
   ],
   "source": [
    "fish.head(2)"
   ]
  },
  {
   "cell_type": "markdown",
   "metadata": {},
   "source": [
    "## Calculate fatigue"
   ]
  },
  {
   "cell_type": "code",
   "execution_count": 6,
   "metadata": {},
   "outputs": [],
   "source": [
    "fish['tap_count']=[1]*len(fish)\n",
    "# fatigue per environment\n"
   ]
  },
  {
   "cell_type": "code",
   "execution_count": 7,
   "metadata": {},
   "outputs": [],
   "source": [
    "tap = fish.groupby(['id', 'environment'])['tap_count'].cumsum().reset_index(name = 'fatigue')\n"
   ]
  },
  {
   "cell_type": "code",
   "execution_count": 8,
   "metadata": {},
   "outputs": [],
   "source": [
    "tap = tap.reset_index().set_index('index')"
   ]
  },
  {
   "cell_type": "code",
   "execution_count": 9,
   "metadata": {},
   "outputs": [],
   "source": [
    "tap = tap.drop('level_0', axis =1)"
   ]
  },
  {
   "cell_type": "code",
   "execution_count": 10,
   "metadata": {},
   "outputs": [],
   "source": [
    "fish = tap.merge(fish, left_index = True, right_index=True,how='inner')\n"
   ]
  },
  {
   "cell_type": "markdown",
   "metadata": {},
   "source": [
    "## Exclusion list"
   ]
  },
  {
   "cell_type": "code",
   "execution_count": 37,
   "metadata": {},
   "outputs": [],
   "source": [
    "fish = fish[~fish.id.isin([668262.0, 675528.0, 675577.0, 680119.0, 672593.0, 683242.0, 675654.0])]\n",
    "# failed sound check questions                "
   ]
  },
  {
   "cell_type": "code",
   "execution_count": 38,
   "metadata": {},
   "outputs": [],
   "source": [
    "fish.isnull().sum()\n",
    "fish = fish[fish.latency.notnull()]"
   ]
  },
  {
   "cell_type": "code",
   "execution_count": 39,
   "metadata": {},
   "outputs": [
    {
     "data": {
      "text/plain": [
       "93"
      ]
     },
     "execution_count": 39,
     "metadata": {},
     "output_type": "execute_result"
    }
   ],
   "source": [
    "len(fish.id.unique())"
   ]
  },
  {
   "cell_type": "code",
   "execution_count": 40,
   "metadata": {},
   "outputs": [],
   "source": [
    "fish['environment_binary'] = np.where(fish['environment']=='low', 0, fish['environment'])\n",
    "fish['environment_binary'] = np.where(fish['environment']=='high', 1, fish['environment'])\n",
    "fish['environment_binary'] = np.where(fish['environment']=='low', 0, fish['environment_binary'])\n",
    "fish['environment_binary'] = np.where(fish['environment']=='high', 1, fish['environment_binary'])\n",
    "fish['log_latency'] = np.log(fish['latency'])\n"
   ]
  },
  {
   "cell_type": "code",
   "execution_count": 129,
   "metadata": {},
   "outputs": [],
   "source": [
    "graph = fish.groupby([\"price_displayed\", \"function_id\"])['latency'].mean().reset_index()\n",
    "graph.columns = ['price_displayed', 'function_id', 'average_latency']\n",
    "\n"
   ]
  },
  {
   "cell_type": "code",
   "execution_count": 140,
   "metadata": {},
   "outputs": [],
   "source": [
    "sd = fish.groupby([\"price_displayed\", \"function_id\"])['latency'].sem().reset_index()\n"
   ]
  },
  {
   "cell_type": "code",
   "execution_count": 145,
   "metadata": {},
   "outputs": [],
   "source": [
    "\n",
    "l_sd = sd.latency[(sd.function_id == 'fishing_l')]*3\n",
    "h_sd = sd.latency[(sd.function_id == 'fishing_h')]*3\n"
   ]
  },
  {
   "cell_type": "code",
   "execution_count": 146,
   "metadata": {},
   "outputs": [],
   "source": [
    "price = [0.1, 0.3, 0.7, 1.2, 1.8, 2.5]\n",
    "latency_l = graph.average_latency[(graph.function_id == 'fishing_l')]\n",
    "latency_h = graph.average_latency[(graph.function_id == 'fishing_h')]\n"
   ]
  },
  {
   "cell_type": "code",
   "execution_count": 234,
   "metadata": {},
   "outputs": [
    {
     "data": {
      "image/png": "[encoded data removed]",
      "text/plain": [
       "<Figure size 432x288 with 1 Axes>"
      ]
     },
     "metadata": {
      "needs_background": "light"
     },
     "output_type": "display_data"
    }
   ],
   "source": [
    "plt.plot( price, latency_l, marker='v', color='skyblue', linewidth=2, label = \"Low Opportunity Cost Env\")\n",
    "plt.plot( price, latency_h, marker='v', color='black', linewidth=2, linestyle='dashed', label=\"High Opportunity Cost Env\")\n",
    "plt.errorbar(price, latency_l, l_sd, linestyle='None', marker='', color = 'skyblue', label = None)\n",
    "plt.errorbar(price, latency_h, h_sd, linestyle='None', marker='', color = 'black', label = None)\n",
    "plt.title(\"Change in Action Initiation Latency with Opportunity Cost (n = 93)\", pad = 12)\n",
    "plt.xlabel(\"Price\")\n",
    "plt.ylabel(\"Average Latency (ms) across Subjects\")\n",
    "plt.legend()\n",
    "plt.savefig('price_latency.png', transparent=True, dpi=300)\n"
   ]
  },
  {
   "cell_type": "code",
   "execution_count": 203,
   "metadata": {},
   "outputs": [],
   "source": [
    "rod = pd.read_csv('march_rod_100_no_first_spike.csv', sep = \",\")\n"
   ]
  },
  {
   "cell_type": "code",
   "execution_count": 204,
   "metadata": {},
   "outputs": [
    {
     "data": {
      "text/html": [
       "<div>\n",
       "<style scoped>\n",
       "    .dataframe tbody tr th:only-of-type {\n",
       "        vertical-align: middle;\n",
       "    }\n",
       "\n",
       "    .dataframe tbody tr th {\n",
       "        vertical-align: top;\n",
       "    }\n",
       "\n",
       "    .dataframe thead th {\n",
       "        text-align: right;\n",
       "    }\n",
       "</style>\n",
       "<table border=\"1\" class=\"dataframe\">\n",
       "  <thead>\n",
       "    <tr style=\"text-align: right;\">\n",
       "      <th></th>\n",
       "      <th>index</th>\n",
       "      <th>trial_index</th>\n",
       "      <th>id</th>\n",
       "      <th>price_displayed</th>\n",
       "      <th>key pressed</th>\n",
       "      <th>environment</th>\n",
       "      <th>order</th>\n",
       "      <th>round_instance</th>\n",
       "      <th>task</th>\n",
       "      <th>function_id</th>\n",
       "      <th>quality_check</th>\n",
       "      <th>builtin_rt</th>\n",
       "      <th>end_time</th>\n",
       "      <th>start_time</th>\n",
       "      <th>Participant Public ID</th>\n",
       "      <th>key_pressed</th>\n",
       "      <th>latency</th>\n",
       "      <th>trial_label</th>\n",
       "    </tr>\n",
       "  </thead>\n",
       "  <tbody>\n",
       "    <tr>\n",
       "      <th>0</th>\n",
       "      <td>187</td>\n",
       "      <td>3.0</td>\n",
       "      <td>668239.0</td>\n",
       "      <td>0.7</td>\n",
       "      <td>39.0</td>\n",
       "      <td>high</td>\n",
       "      <td>high-low</td>\n",
       "      <td>11.0</td>\n",
       "      <td>rod_fixing</td>\n",
       "      <td>rod_fixing</td>\n",
       "      <td>1.0</td>\n",
       "      <td>128.73</td>\n",
       "      <td>1.554475e+12</td>\n",
       "      <td>1.554475e+12</td>\n",
       "      <td>BLIND</td>\n",
       "      <td>39.0</td>\n",
       "      <td>130.0</td>\n",
       "      <td>3.0 11.0</td>\n",
       "    </tr>\n",
       "  </tbody>\n",
       "</table>\n",
       "</div>"
      ],
      "text/plain": [
       "   index  trial_index        id  price_displayed  key pressed environment  \\\n",
       "0    187          3.0  668239.0              0.7         39.0        high   \n",
       "\n",
       "      order  round_instance        task function_id  quality_check  \\\n",
       "0  high-low            11.0  rod_fixing  rod_fixing            1.0   \n",
       "\n",
       "   builtin_rt      end_time    start_time Participant Public ID  key_pressed  \\\n",
       "0      128.73  1.554475e+12  1.554475e+12                 BLIND         39.0   \n",
       "\n",
       "   latency trial_label  \n",
       "0    130.0    3.0 11.0  "
      ]
     },
     "execution_count": 204,
     "metadata": {},
     "output_type": "execute_result"
    }
   ],
   "source": [
    "rod.head(1)"
   ]
  },
  {
   "cell_type": "code",
   "execution_count": 233,
   "metadata": {},
   "outputs": [
    {
     "data": {
      "image/png": "[encoded data removed]",
      "text/plain": [
       "<Figure size 432x288 with 1 Axes>"
      ]
     },
     "metadata": {
      "needs_background": "light"
     },
     "output_type": "display_data"
    }
   ],
   "source": [
    "#For normalization, just do a scatterplot across your 100 subjects \n",
    "#of median latency \n",
    "#for the highest reward in low env vs the equivalent in high env. \n",
    "#If 2/3 are on one side of the line, it's an issue.\n",
    "\n",
    "# Highest reward in low envrionemnt (0.5 pound worth 3000 yen) 2.5 \n",
    "data_low= rod[(rod.environment == 'low')]\n",
    "low_median = data_low.groupby('id')['latency'].median().reset_index(name = 'median_latency')\n",
    "low_median['median_latency']\n",
    "# the equivalent of 2.5 in low env is 0.3 in high environment\n",
    "data_high = rod[(rod.environment == 'high')]\n",
    "high_median = data_high.groupby('id')['latency'].median().reset_index(name = 'median_latency')\n",
    "high_median['median_latency']\n",
    "\n",
    "fig, ax = plt.subplots()\n",
    "ax.scatter(low_median['median_latency'], high_median['median_latency'], label = 'Subjects')\n",
    "ax.set_xlabel('High Opportunity Cost Environment')\n",
    "ax.set_ylabel('Low Opportunity Cost Environment')\n",
    "# lims = [\n",
    "#     np.min([ax.get_xlim(), ax.get_ylim()]),  # min of both axes\n",
    "#     np.max([ax.get_xlim(), ax.get_ylim()]),  # max of both axes\n",
    "# ]\n",
    "plt.xlim(100, 356)\n",
    "plt.ylim(100, 300)\n",
    "plt.annotate('Wilcoxon = 1401.5  p-value < 0.001', xy=(0.05, 0.93), xycoords='axes fraction', size = 'x-large')\n",
    "x = np.arange(100, 280)\n",
    "line = x\n",
    "ax.plot(x, line, 'k-', alpha=0.75, zorder=0, label = 'Line of no difference')\n",
    "plt.legend(loc = 4)\n",
    "plt.title('Median Latency of Rod Fixing (n = 93)', pad = 12)\n",
    "plt.savefig('rod.png', transparent=True, dpi=300)\n",
    "ax.set_aspect('equal')\n",
    "# people tap faster in the low environment --> maybe there is a price effect"
   ]
  },
  {
   "cell_type": "code",
   "execution_count": 231,
   "metadata": {},
   "outputs": [
    {
     "data": {
      "text/plain": [
       "WilcoxonResult(statistic=1401.5, pvalue=0.0011070457988818542)"
      ]
     },
     "execution_count": 231,
     "metadata": {},
     "output_type": "execute_result"
    }
   ],
   "source": [
    "ss.wilcoxon(low_median['median_latency'], high_median['median_latency'])"
   ]
  },
  {
   "cell_type": "code",
   "execution_count": 46,
   "metadata": {},
   "outputs": [
    {
     "name": "stderr",
     "output_type": "stream",
     "text": [
      "/Library/Frameworks/Python.framework/Versions/3.6/lib/python3.6/site-packages/statsmodels/regression/mixed_linear_model.py:2045: ConvergenceWarning: The MLE may be on the boundary of the parameter space.\n",
      "  warnings.warn(msg, ConvergenceWarning)\n"
     ]
    }
   ],
   "source": [
    "f_model = mixedlm(formula = 'log_latency ~ 1 + environment_binary + price_displayed + fatigue',\n",
    "                  groups = fish['id'],\n",
    "                  re_formula = \"~environment_binary + price_displayed + fatigue\",\n",
    "                  data = fish)\n",
    "\n",
    "r = f_model.fit(reml = True, method = 'bfgs')"
   ]
  },
  {
   "cell_type": "code",
   "execution_count": 47,
   "metadata": {},
   "outputs": [
    {
     "name": "stdout",
     "output_type": "stream",
     "text": [
      "                          Mixed Linear Model Regression Results\n",
      "=========================================================================================\n",
      "Model:                        MixedLM           Dependent Variable:           log_latency\n",
      "No. Observations:             295026            Method:                       REML       \n",
      "No. Groups:                   93                Scale:                        0.0559     \n",
      "Min. group size:              1355              Likelihood:                   5795.3136  \n",
      "Max. group size:              4507              Converged:                    Yes        \n",
      "Mean group size:              3172.3                                                     \n",
      "-----------------------------------------------------------------------------------------\n",
      "                                              Coef.  Std.Err.    z    P>|z| [0.025 0.975]\n",
      "-----------------------------------------------------------------------------------------\n",
      "Intercept                                      5.252    0.023 230.326 0.000  5.207  5.297\n",
      "environment_binary[T.1]                       -0.044    0.012  -3.770 0.000 -0.068 -0.021\n",
      "price_displayed                               -0.060    0.007  -8.525 0.000 -0.074 -0.047\n",
      "fatigue                                        0.000    0.000   6.246 0.000  0.000  0.000\n",
      "Group Var                                      0.048    0.030                            \n",
      "Group x environment_binary[T.1] Cov           -0.016    0.013                            \n",
      "environment_binary[T.1] Var                    0.013    0.008                            \n",
      "Group x price_displayed Cov                   -0.011    0.008                            \n",
      "environment_binary[T.1] x price_displayed Cov  0.003    0.004                            \n",
      "price_displayed Var                            0.005    0.003                            \n",
      "Group x fatigue Cov                            0.000    0.000                            \n",
      "environment_binary[T.1] x fatigue Cov         -0.000    0.000                            \n",
      "price_displayed x fatigue Cov                 -0.000    0.000                            \n",
      "fatigue Var                                    0.000    0.000                            \n",
      "=========================================================================================\n",
      "\n"
     ]
    }
   ],
   "source": [
    "print(r.summary())"
   ]
  },
  {
   "cell_type": "code",
   "execution_count": 48,
   "metadata": {},
   "outputs": [
    {
     "data": {
      "text/plain": [
       "-11582.6272"
      ]
     },
     "execution_count": 48,
     "metadata": {},
     "output_type": "execute_result"
    }
   ],
   "source": [
    "sm.tools.eval_measures.aic(5795.3136, 298234, 4)"
   ]
  },
  {
   "cell_type": "code",
   "execution_count": 33,
   "metadata": {},
   "outputs": [
    {
     "name": "stdout",
     "output_type": "stream",
     "text": [
      "Intercept                                        231.606915\n",
      "environment_binary[T.1]                           -3.626177\n",
      "price_displayed                                   -8.576034\n",
      "fatigue                                            6.347674\n",
      "Group Var                                          6.782330\n",
      "Group x environment_binary[T.1] Cov               -5.096473\n",
      "environment_binary[T.1] Var                        6.704656\n",
      "Group x price_displayed Cov                       -5.513694\n",
      "environment_binary[T.1] x price_displayed Cov      3.252476\n",
      "price_displayed Var                                6.762714\n",
      "Group x fatigue Cov                                3.607191\n",
      "environment_binary[T.1] x fatigue Cov             -3.524278\n",
      "price_displayed x fatigue Cov                     -2.180015\n",
      "fatigue Var                                        6.526324\n",
      "dtype: float64\n"
     ]
    }
   ],
   "source": [
    "print (r.tvalues)"
   ]
  },
  {
   "cell_type": "code",
   "execution_count": 49,
   "metadata": {
    "scrolled": true
   },
   "outputs": [],
   "source": [
    "#dir(r)"
   ]
  },
  {
   "cell_type": "code",
   "execution_count": 18,
   "metadata": {},
   "outputs": [],
   "source": [
    "r_params = pd.DataFrame(r.params,columns=['LMM'])\n",
    "random_effects = pd.DataFrame(r.random_effects)\n",
    "random_effects = random_effects.transpose()\n",
    "random_effects = random_effects.rename(index=str, columns={'groups': 'LMM'})"
   ]
  },
  {
   "cell_type": "code",
   "execution_count": 92,
   "metadata": {},
   "outputs": [
    {
     "data": {
      "text/html": [
       "<div>\n",
       "<style scoped>\n",
       "    .dataframe tbody tr th:only-of-type {\n",
       "        vertical-align: middle;\n",
       "    }\n",
       "\n",
       "    .dataframe tbody tr th {\n",
       "        vertical-align: top;\n",
       "    }\n",
       "\n",
       "    .dataframe thead th {\n",
       "        text-align: right;\n",
       "    }\n",
       "</style>\n",
       "<table border=\"1\" class=\"dataframe\">\n",
       "  <thead>\n",
       "    <tr style=\"text-align: right;\">\n",
       "      <th></th>\n",
       "      <th>Group</th>\n",
       "      <th>environment_binary[T.1]</th>\n",
       "      <th>price_displayed</th>\n",
       "      <th>fatigue</th>\n",
       "    </tr>\n",
       "  </thead>\n",
       "  <tbody>\n",
       "    <tr>\n",
       "      <th>668220.0</th>\n",
       "      <td>-0.081051</td>\n",
       "      <td>0.046051</td>\n",
       "      <td>0.003641</td>\n",
       "      <td>-0.000051</td>\n",
       "    </tr>\n",
       "    <tr>\n",
       "      <th>668225.0</th>\n",
       "      <td>0.119937</td>\n",
       "      <td>-0.107922</td>\n",
       "      <td>-0.087239</td>\n",
       "      <td>-0.000038</td>\n",
       "    </tr>\n",
       "  </tbody>\n",
       "</table>\n",
       "</div>"
      ],
      "text/plain": [
       "             Group  environment_binary[T.1]  price_displayed   fatigue\n",
       "668220.0 -0.081051                 0.046051         0.003641 -0.000051\n",
       "668225.0  0.119937                -0.107922        -0.087239 -0.000038"
      ]
     },
     "execution_count": 92,
     "metadata": {},
     "output_type": "execute_result"
    }
   ],
   "source": [
    "random_effects.head(2)"
   ]
  },
  {
   "cell_type": "code",
   "execution_count": 148,
   "metadata": {},
   "outputs": [
    {
     "data": {
      "text/plain": [
       "94"
      ]
     },
     "execution_count": 148,
     "metadata": {},
     "output_type": "execute_result"
    }
   ],
   "source": [
    "len(random_effects)"
   ]
  },
  {
   "cell_type": "code",
   "execution_count": 110,
   "metadata": {},
   "outputs": [],
   "source": [
    "betas = pd.read_csv('akshay_betas.csv', sep = \",\")"
   ]
  },
  {
   "cell_type": "code",
   "execution_count": 111,
   "metadata": {},
   "outputs": [],
   "source": [
    "betas = betas.reset_index().set_index('id')"
   ]
  },
  {
   "cell_type": "code",
   "execution_count": 112,
   "metadata": {},
   "outputs": [
    {
     "data": {
      "text/html": [
       "<div>\n",
       "<style scoped>\n",
       "    .dataframe tbody tr th:only-of-type {\n",
       "        vertical-align: middle;\n",
       "    }\n",
       "\n",
       "    .dataframe tbody tr th {\n",
       "        vertical-align: top;\n",
       "    }\n",
       "\n",
       "    .dataframe thead th {\n",
       "        text-align: right;\n",
       "    }\n",
       "</style>\n",
       "<table border=\"1\" class=\"dataframe\">\n",
       "  <thead>\n",
       "    <tr style=\"text-align: right;\">\n",
       "      <th></th>\n",
       "      <th>index</th>\n",
       "      <th>environment</th>\n",
       "      <th>price</th>\n",
       "    </tr>\n",
       "    <tr>\n",
       "      <th>id</th>\n",
       "      <th></th>\n",
       "      <th></th>\n",
       "      <th></th>\n",
       "    </tr>\n",
       "  </thead>\n",
       "  <tbody>\n",
       "    <tr>\n",
       "      <th>668220.0</th>\n",
       "      <td>0</td>\n",
       "      <td>0.047904</td>\n",
       "      <td>0.003702</td>\n",
       "    </tr>\n",
       "    <tr>\n",
       "      <th>668225.0</th>\n",
       "      <td>1</td>\n",
       "      <td>-0.106306</td>\n",
       "      <td>-0.087299</td>\n",
       "    </tr>\n",
       "  </tbody>\n",
       "</table>\n",
       "</div>"
      ],
      "text/plain": [
       "          index  environment     price\n",
       "id                                    \n",
       "668220.0      0     0.047904  0.003702\n",
       "668225.0      1    -0.106306 -0.087299"
      ]
     },
     "execution_count": 112,
     "metadata": {},
     "output_type": "execute_result"
    }
   ],
   "source": [
    "betas.head(2)"
   ]
  },
  {
   "cell_type": "code",
   "execution_count": 114,
   "metadata": {},
   "outputs": [],
   "source": [
    "betas.columns = ['id', 'env_mat', 'price_mat']\n",
    "\n"
   ]
  },
  {
   "cell_type": "code",
   "execution_count": 120,
   "metadata": {},
   "outputs": [],
   "source": [
    "betas.index = betas.index.astype(str)"
   ]
  },
  {
   "cell_type": "code",
   "execution_count": 121,
   "metadata": {},
   "outputs": [],
   "source": [
    "check = betas.merge(correlation_table, right_index = True, \n",
    "                    left_index = True, how = 'inner')\n",
    "\n",
    "\n"
   ]
  },
  {
   "cell_type": "code",
   "execution_count": 128,
   "metadata": {},
   "outputs": [
    {
     "data": {
      "text/plain": [
       "SpearmanrResult(correlation=-0.24426871251889057, pvalue=0.01894688319280171)"
      ]
     },
     "execution_count": 128,
     "metadata": {},
     "output_type": "execute_result"
    }
   ],
   "source": [
    "ss.spearmanr(check['env_mat'], check['depression'], nan_policy = 'omit')\n",
    "\n"
   ]
  },
  {
   "cell_type": "code",
   "execution_count": 170,
   "metadata": {},
   "outputs": [
    {
     "data": {
      "text/plain": [
       "SpearmanrResult(correlation=-0.041381970157340006, pvalue=0.695307393271364)"
      ]
     },
     "execution_count": 170,
     "metadata": {},
     "output_type": "execute_result"
    }
   ],
   "source": [
    "ss.spearmanr(check['env_mat'], check['bAMI'], nan_policy = 'omit')"
   ]
  },
  {
   "cell_type": "code",
   "execution_count": 201,
   "metadata": {},
   "outputs": [
    {
     "data": {
      "image/png": "[encoded data removed]",
      "text/plain": [
       "<Figure size 432x288 with 1 Axes>"
      ]
     },
     "metadata": {
      "needs_background": "light"
     },
     "output_type": "display_data"
    }
   ],
   "source": [
    "x = check['env_mat']\n",
    "y = check['bAMI']\n",
    "\n",
    "mask = ~np.isnan(x) & ~np.isnan(y)\n",
    "\n",
    "slope, intercept, r_value, p_value, std_err = stats.linregress(x[mask],y[mask])\n",
    "line = slope*x+intercept\n",
    "\n",
    "plt.xlabel(\"Individual Environment Sensitivity\")\n",
    "plt.ylabel(\"bAMI\")\n",
    "plt.ylim([0, 4])\n",
    "plt.plot(x, line, color = 'black')\n",
    "plt.plot(x,y,'v', color = 'skyblue')\n",
    "plt.title('Relationship between Individual Environment Sensitivity and bAMI', pad=12)\n",
    "plt.annotate('Spearman r = -0.244 p-value = 0.695', xy=(0.06, 0.93), xycoords='axes fraction', size = 'x-large')\n",
    "\n",
    "plt.savefig('bAMI.png', transparent=True, dpi=300)\n",
    "#plt.scatter(x, y, linewidth=2, color='purple', linestyle='-', marker='o', label=\"y=x^2\")"
   ]
  },
  {
   "cell_type": "code",
   "execution_count": 200,
   "metadata": {},
   "outputs": [
    {
     "data": {
      "image/png": "[encoded data removed]",
      "text/plain": [
       "<Figure size 432x288 with 1 Axes>"
      ]
     },
     "metadata": {
      "needs_background": "light"
     },
     "output_type": "display_data"
    }
   ],
   "source": [
    "x = check['env_mat']\n",
    "y = check['depression']\n",
    "\n",
    "mask = ~np.isnan(x) & ~np.isnan(y)\n",
    "\n",
    "slope, intercept, r_value, p_value, std_err = stats.linregress(x[mask],y[mask])\n",
    "line = slope*x+intercept\n",
    "\n",
    "plt.xlabel(\"Individual Environment Sensitivity\")\n",
    "plt.ylabel(\"HADS-Depression\")\n",
    "plt.ylim([0, 18])\n",
    "plt.plot(x, line, color = 'black')\n",
    "plt.plot(x,y,'v', color = 'skyblue')\n",
    "plt.title('Relationship between Individual Environment Sensitivity and HADS-Depression', pad = 12)\n",
    "plt.annotate('Spearman r = -0.244 p-value = 0.0189', xy=(0.06, 0.93), xycoords='axes fraction', size = 'x-large')\n",
    "\n",
    "plt.savefig('depression.png', transparent=True, dpi=300, bbox_inches = 'tight')\n",
    "#plt.scatter(x, y, linewidth=2, color='purple', linestyle='-', marker='o', label=\"y=x^2\")"
   ]
  },
  {
   "cell_type": "markdown",
   "metadata": {},
   "source": [
    "# Correlation with Questionnaires"
   ]
  },
  {
   "cell_type": "code",
   "execution_count": 64,
   "metadata": {},
   "outputs": [],
   "source": [
    "scales = pd.read_csv('scale_100.csv', sep = \",\")"
   ]
  },
  {
   "cell_type": "code",
   "execution_count": 65,
   "metadata": {},
   "outputs": [],
   "source": [
    "scales = scales.set_index('id')"
   ]
  },
  {
   "cell_type": "code",
   "execution_count": 66,
   "metadata": {},
   "outputs": [],
   "source": [
    "scales = scales.drop(['Unnamed: 0'], axis = 1)"
   ]
  },
  {
   "cell_type": "code",
   "execution_count": 67,
   "metadata": {},
   "outputs": [],
   "source": [
    "scales.index = scales.index.astype(str)"
   ]
  },
  {
   "cell_type": "code",
   "execution_count": 68,
   "metadata": {},
   "outputs": [],
   "source": [
    "correlation_table = scales.merge(random_effects, right_index = True, left_index = True, how = 'right')"
   ]
  },
  {
   "cell_type": "code",
   "execution_count": 69,
   "metadata": {},
   "outputs": [],
   "source": [
    "correlation_table['gender'] = correlation_table['gender'].replace('Male', 0)"
   ]
  },
  {
   "cell_type": "code",
   "execution_count": 70,
   "metadata": {},
   "outputs": [
    {
     "data": {
      "text/html": [
       "<div>\n",
       "<style scoped>\n",
       "    .dataframe tbody tr th:only-of-type {\n",
       "        vertical-align: middle;\n",
       "    }\n",
       "\n",
       "    .dataframe tbody tr th {\n",
       "        vertical-align: top;\n",
       "    }\n",
       "\n",
       "    .dataframe thead th {\n",
       "        text-align: right;\n",
       "    }\n",
       "</style>\n",
       "<table border=\"1\" class=\"dataframe\">\n",
       "  <thead>\n",
       "    <tr style=\"text-align: right;\">\n",
       "      <th></th>\n",
       "      <th>gender</th>\n",
       "      <th>age</th>\n",
       "      <th>anxiety</th>\n",
       "      <th>depression</th>\n",
       "      <th>tHAD</th>\n",
       "      <th>bAMI</th>\n",
       "      <th>sAMI</th>\n",
       "      <th>eAMI</th>\n",
       "      <th>tAMI</th>\n",
       "      <th>pleasure</th>\n",
       "      <th>physical</th>\n",
       "      <th>cognitive</th>\n",
       "      <th>psychological</th>\n",
       "      <th>total_fatigue</th>\n",
       "      <th>attention</th>\n",
       "      <th>cognitive_instable</th>\n",
       "      <th>motor</th>\n",
       "      <th>perseverance</th>\n",
       "      <th>self_control</th>\n",
       "      <th>cognitive_complexity</th>\n",
       "      <th>attentional_0</th>\n",
       "      <th>motor_0</th>\n",
       "      <th>nonplanning_0</th>\n",
       "      <th>barrat_total</th>\n",
       "      <th>Group</th>\n",
       "      <th>environment_binary[T.1]</th>\n",
       "      <th>price_displayed</th>\n",
       "      <th>fatigue</th>\n",
       "    </tr>\n",
       "  </thead>\n",
       "  <tbody>\n",
       "    <tr>\n",
       "      <th>668220.0</th>\n",
       "      <td>0</td>\n",
       "      <td>43.0</td>\n",
       "      <td>0.0</td>\n",
       "      <td>0.0</td>\n",
       "      <td>0.0</td>\n",
       "      <td>0.166667</td>\n",
       "      <td>0.666667</td>\n",
       "      <td>1.166667</td>\n",
       "      <td>0.666667</td>\n",
       "      <td>18.0</td>\n",
       "      <td>0.0</td>\n",
       "      <td>0.0</td>\n",
       "      <td>0.0</td>\n",
       "      <td>0.0</td>\n",
       "      <td>6.0</td>\n",
       "      <td>4.0</td>\n",
       "      <td>16.0</td>\n",
       "      <td>8.0</td>\n",
       "      <td>9.0</td>\n",
       "      <td>8.0</td>\n",
       "      <td>10.0</td>\n",
       "      <td>24.0</td>\n",
       "      <td>17.0</td>\n",
       "      <td>51.0</td>\n",
       "      <td>-0.081051</td>\n",
       "      <td>0.046051</td>\n",
       "      <td>0.003641</td>\n",
       "      <td>-0.000051</td>\n",
       "    </tr>\n",
       "    <tr>\n",
       "      <th>668225.0</th>\n",
       "      <td>0</td>\n",
       "      <td>31.0</td>\n",
       "      <td>7.0</td>\n",
       "      <td>5.0</td>\n",
       "      <td>12.0</td>\n",
       "      <td>1.500000</td>\n",
       "      <td>2.666667</td>\n",
       "      <td>0.666667</td>\n",
       "      <td>1.611111</td>\n",
       "      <td>30.0</td>\n",
       "      <td>14.0</td>\n",
       "      <td>12.0</td>\n",
       "      <td>5.0</td>\n",
       "      <td>31.0</td>\n",
       "      <td>9.0</td>\n",
       "      <td>5.0</td>\n",
       "      <td>14.0</td>\n",
       "      <td>7.0</td>\n",
       "      <td>14.0</td>\n",
       "      <td>6.0</td>\n",
       "      <td>14.0</td>\n",
       "      <td>21.0</td>\n",
       "      <td>20.0</td>\n",
       "      <td>55.0</td>\n",
       "      <td>0.119937</td>\n",
       "      <td>-0.107922</td>\n",
       "      <td>-0.087239</td>\n",
       "      <td>-0.000038</td>\n",
       "    </tr>\n",
       "  </tbody>\n",
       "</table>\n",
       "</div>"
      ],
      "text/plain": [
       "         gender   age  anxiety  depression  tHAD      bAMI      sAMI  \\\n",
       "668220.0      0  43.0      0.0         0.0   0.0  0.166667  0.666667   \n",
       "668225.0      0  31.0      7.0         5.0  12.0  1.500000  2.666667   \n",
       "\n",
       "              eAMI      tAMI  pleasure  physical  cognitive  psychological  \\\n",
       "668220.0  1.166667  0.666667      18.0       0.0        0.0            0.0   \n",
       "668225.0  0.666667  1.611111      30.0      14.0       12.0            5.0   \n",
       "\n",
       "          total_fatigue  attention  cognitive_instable  motor  perseverance  \\\n",
       "668220.0            0.0        6.0                 4.0   16.0           8.0   \n",
       "668225.0           31.0        9.0                 5.0   14.0           7.0   \n",
       "\n",
       "          self_control  cognitive_complexity  attentional_0  motor_0  \\\n",
       "668220.0           9.0                   8.0           10.0     24.0   \n",
       "668225.0          14.0                   6.0           14.0     21.0   \n",
       "\n",
       "          nonplanning_0  barrat_total     Group  environment_binary[T.1]  \\\n",
       "668220.0           17.0          51.0 -0.081051                 0.046051   \n",
       "668225.0           20.0          55.0  0.119937                -0.107922   \n",
       "\n",
       "          price_displayed   fatigue  \n",
       "668220.0         0.003641 -0.000051  \n",
       "668225.0        -0.087239 -0.000038  "
      ]
     },
     "execution_count": 70,
     "metadata": {},
     "output_type": "execute_result"
    }
   ],
   "source": [
    "correlation_table.head(2)"
   ]
  },
  {
   "cell_type": "code",
   "execution_count": 71,
   "metadata": {},
   "outputs": [
    {
     "data": {
      "text/plain": [
       "94"
      ]
     },
     "execution_count": 71,
     "metadata": {},
     "output_type": "execute_result"
    }
   ],
   "source": [
    "len(correlation_table)\n",
    "# sample size\n",
    "# lose 1 due to incompletion of questionnaires"
   ]
  },
  {
   "cell_type": "markdown",
   "metadata": {},
   "source": [
    "HADS - The higher the score, the more anxious/depressed you are.\n",
    "<br>AMI - The higher the score, the more apathetic you are. \n",
    "<br>barrat - The higher the score, the more impulsive you are. \n",
    "<br>Pleasure - The higher the score, the less pleasure you experience. Thus, higher levels of present state of anhedonia. \n",
    "<br>Fatigue - higher scores indicate a greater impact of fatigue on a person’s activities."
   ]
  },
  {
   "cell_type": "code",
   "execution_count": 157,
   "metadata": {},
   "outputs": [
    {
     "data": {
      "text/plain": [
       "SpearmanrResult(correlation=-0.23386325868968066, pvalue=0.024059514877133568)"
      ]
     },
     "execution_count": 157,
     "metadata": {},
     "output_type": "execute_result"
    }
   ],
   "source": [
    "ss.spearmanr(correlation_table['depression'], correlation_table['environment_binary[T.1]'], nan_policy = 'omit')"
   ]
  },
  {
   "cell_type": "code",
   "execution_count": 158,
   "metadata": {},
   "outputs": [
    {
     "data": {
      "text/plain": [
       "SpearmanrResult(correlation=-0.13371477906883256, pvalue=0.20131807518311529)"
      ]
     },
     "execution_count": 158,
     "metadata": {},
     "output_type": "execute_result"
    }
   ],
   "source": [
    "ss.spearmanr(correlation_table['anxiety'], correlation_table['environment_binary[T.1]'], nan_policy = 'omit')"
   ]
  },
  {
   "cell_type": "code",
   "execution_count": 159,
   "metadata": {},
   "outputs": [
    {
     "data": {
      "text/plain": [
       "SpearmanrResult(correlation=-0.03929175566680551, pvalue=0.7084521606974978)"
      ]
     },
     "execution_count": 159,
     "metadata": {},
     "output_type": "execute_result"
    }
   ],
   "source": [
    "ss.spearmanr(correlation_table['bAMI'], correlation_table['environment_binary[T.1]'],nan_policy = 'omit')"
   ]
  },
  {
   "cell_type": "code",
   "execution_count": 160,
   "metadata": {},
   "outputs": [
    {
     "data": {
      "text/plain": [
       "SpearmanrResult(correlation=-0.20209765720464265, pvalue=0.052052846441191965)"
      ]
     },
     "execution_count": 160,
     "metadata": {},
     "output_type": "execute_result"
    }
   ],
   "source": [
    "ss.spearmanr(correlation_table['nonplanning_0'], correlation_table['price_displayed'],nan_policy = 'omit')"
   ]
  },
  {
   "cell_type": "markdown",
   "metadata": {},
   "source": [
    "## Linear regression bewteen env betas and depression + age + gender"
   ]
  },
  {
   "cell_type": "code",
   "execution_count": null,
   "metadata": {},
   "outputs": [],
   "source": []
  },
  {
   "cell_type": "code",
   "execution_count": 174,
   "metadata": {},
   "outputs": [],
   "source": [
    "from sklearn.linear_model import LinearRegression"
   ]
  },
  {
   "cell_type": "code",
   "execution_count": 175,
   "metadata": {},
   "outputs": [],
   "source": [
    "correlation_table.isnull().sum()\n",
    "correlation_table = correlation_table[correlation_table.depression.notnull()]"
   ]
  },
  {
   "cell_type": "code",
   "execution_count": 176,
   "metadata": {},
   "outputs": [],
   "source": [
    "x_depression_control = correlation_table[['age', 'gender', 'depression']]\n",
    "y_env = correlation_table['environment_binary[T.1]']"
   ]
  },
  {
   "cell_type": "code",
   "execution_count": 177,
   "metadata": {},
   "outputs": [],
   "source": [
    "clf = linear_model.LinearRegression()"
   ]
  },
  {
   "cell_type": "code",
   "execution_count": 178,
   "metadata": {},
   "outputs": [
    {
     "data": {
      "text/plain": [
       "LinearRegression(copy_X=True, fit_intercept=True, n_jobs=None,\n",
       "         normalize=False)"
      ]
     },
     "execution_count": 178,
     "metadata": {},
     "output_type": "execute_result"
    }
   ],
   "source": [
    "clf.fit(x_depression_control, y_env)"
   ]
  },
  {
   "cell_type": "code",
   "execution_count": 179,
   "metadata": {},
   "outputs": [
    {
     "data": {
      "text/plain": [
       "array([ 0.00085412,  0.00867271, -0.00513921])"
      ]
     },
     "execution_count": 179,
     "metadata": {},
     "output_type": "execute_result"
    }
   ],
   "source": [
    "clf.coef_"
   ]
  },
  {
   "cell_type": "code",
   "execution_count": 180,
   "metadata": {},
   "outputs": [
    {
     "data": {
      "text/plain": [
       "(array([1.16103917, 0.46181509, 2.94740968]),\n",
       " array([0.28409825, 0.49850192, 0.08941731]))"
      ]
     },
     "execution_count": 180,
     "metadata": {},
     "output_type": "execute_result"
    }
   ],
   "source": [
    "sk.feature_selection.f_regression(x_depression_control, y_env, center=True)"
   ]
  },
  {
   "cell_type": "markdown",
   "metadata": {},
   "source": [
    "# Run an overall heatmap"
   ]
  },
  {
   "cell_type": "code",
   "execution_count": 91,
   "metadata": {},
   "outputs": [],
   "source": [
    "AMI_barrat_HADS = correlation_table[['price_displayed', 'environment_binary[T.1]','anxiety', 'depression', 'tHAD','bAMI', 'sAMI', 'eAMI', 'tAMI',\n",
    "                                    'attention', 'cognitive_instable', 'motor', 'perseverance', \n",
    "                             'self_control', 'cognitive_complexity', 'attentional_0', 'motor_0', \n",
    "                             'nonplanning_0', 'barrat_total']]"
   ]
  },
  {
   "cell_type": "code",
   "execution_count": 92,
   "metadata": {},
   "outputs": [],
   "source": [
    "def compute_corr_and_p(df1, df2):\n",
    "    corrs = pd.DataFrame(index=df1.columns, columns=df2.columns, dtype=np.float64)\n",
    "    pvals = corrs.copy()\n",
    "    for i, j in product(df1.columns, df2.columns):\n",
    "        corrs.loc[i,j], pvals.loc[i,j] = ss.spearmanr(df1[i], df2[j], nan_policy = 'omit')\n",
    "    return corrs, pvals"
   ]
  },
  {
   "cell_type": "code",
   "execution_count": 93,
   "metadata": {},
   "outputs": [],
   "source": [
    "corrs, pvals = compute_corr_and_p(AMI_barrat_HADS, AMI_barrat_HADS)"
   ]
  },
  {
   "cell_type": "code",
   "execution_count": 106,
   "metadata": {},
   "outputs": [
    {
     "data": {
      "image/png": "[encoded data removed]",
      "text/plain": [
       "<Figure size 1152x864 with 2 Axes>"
      ]
     },
     "metadata": {
      "needs_background": "light"
     },
     "output_type": "display_data"
    }
   ],
   "source": [
    "plt.figure(figsize=(16, 12))\n",
    "mask = np.zeros_like(pvals, dtype=np.bool)\n",
    "mask[np.triu_indices_from(pvals)] = True\n",
    "ax = sns.heatmap(\n",
    "    pvals, \n",
    "    vmin=0, vmax=1, center=0.05,\n",
    "    cmap= sns.cm.rocket_r,\n",
    "    square=True,\n",
    "    annot=True, linewidths=.5, fmt = '.3f', mask = mask\n",
    ")\n",
    "ax.set_xticklabels(\n",
    "    ax.get_xticklabels(),\n",
    "    rotation=90,\n",
    "    horizontalalignment='center'\n",
    ");\n",
    "plt.savefig('pvals_heatmap.png', transparent = True, dpi = 300)"
   ]
  },
  {
   "cell_type": "code",
   "execution_count": null,
   "metadata": {},
   "outputs": [],
   "source": []
  }
 ],
 "metadata": {
  "kernelspec": {
   "display_name": "Python 3",
   "language": "python",
   "name": "python3"
  },
  "language_info": {
   "codemirror_mode": {
    "name": "ipython",
    "version": 3
   },
   "file_extension": ".py",
   "mimetype": "text/x-python",
   "name": "python",
   "nbconvert_exporter": "python",
   "pygments_lexer": "ipython3",
   "version": "3.6.3"
  }
 },
 "nbformat": 4,
 "nbformat_minor": 2
}
